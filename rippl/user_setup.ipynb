{
 "cells": [
  {
   "cell_type": "markdown",
   "metadata": {},
   "source": [
    "# RIPPL SETUP\n",
    "\n",
    "The following code will guide you through the process to setup your RIPPL\n",
    "work environment.\n",
    "\n",
    "To allow downloads for the SAR SLC's, DEMs and orbits you will need to \n",
    "create a few online accounts if you want to be able to download these."
   ]
  },
  {
   "cell_type": "code",
   "execution_count": 1,
   "outputs": [
    {
     "name": "stderr",
     "output_type": "stream",
     "text": [
      "INFO:root:Successfully added RIPPL to path!\n"
     ]
    }
   ],
   "source": [
    "import os\n",
    "import sys\n",
    "import logging\n",
    "logging.getLogger().setLevel(logging.INFO)\n",
    "\n",
    "rippl_path = input('Enter the full path to your RIPPL folder')\n",
    "\n",
    "try:\n",
    "    if os.path.exists(os.path.join(rippl_path, 'rippl')):\n",
    "        sys.path.extend([rippl_path])\n",
    "        import rippl\n",
    "        from rippl.user_settings import UserSettings\n",
    "\n",
    "        settings = UserSettings()\n",
    "        settings.settings['paths']['rippl'] = rippl_path\n",
    "\n",
    "        logging.info('Successfully added RIPPL to path!')\n",
    "    else:\n",
    "        logging.info('Wrong RIPPL path, package cannot be imported. Try again:')\n",
    "except:\n",
    "    logging.info('Wrong RIPPL path, package cannot be imported. Try again:')"
   ],
   "metadata": {
    "collapsed": false,
    "ExecuteTime": {
     "end_time": "2023-12-21T15:44:02.260218654Z",
     "start_time": "2023-12-21T15:43:48.226031027Z"
    }
   }
  },
  {
   "cell_type": "markdown",
   "metadata": {},
   "source": [
    "As a first step you will have to create an account for the sentinel hub,\n",
    "which can be done using the following link:\n",
    "\n",
    "https://dataspace.copernicus.eu/\n",
    "\n",
    "Running the next block will ask you for your username and password and checks whether these are valid.\n",
    "\n",
    "(Note: sometimes the server is offline and the program will not be able to verify your account. In that case you can skip this step. In the next step, you will setup a NASA account, which enables you the use of a mirror download site. But be aware: your ESA hub account will not be validated yet. You can do this later by manually adding your username and password to the user_settings.json file, which will be generated later on in this notebook.)"
   ]
  },
  {
   "cell_type": "code",
   "execution_count": 2,
   "metadata": {
    "ExecuteTime": {
     "end_time": "2023-12-21T15:16:22.872994088Z",
     "start_time": "2023-12-21T15:16:02.356715454Z"
    }
   },
   "outputs": [
    {
     "name": "stderr",
     "output_type": "stream",
     "text": [
      "INFO:root:Scihub password valid!\n",
      "INFO:root:Sentinel-1 scihub account added!\n"
     ]
    }
   ],
   "source": [
    "# Initialize settings\n",
    "from rippl.user_settings import UserSettings\n",
    "settings = UserSettings()\n",
    "\n",
    "# Add ESA settings and check whether they are valid.\n",
    "username = input('Username Copernicus scihub:')\n",
    "password = input('Password Copernicus scihub:')\n",
    "success = settings.add_copernicus_settings(username, password)\n",
    "\n",
    "if success:\n",
    "    logging.info('Sentinel-1 scihub account added!')"
   ]
  },
  {
   "cell_type": "markdown",
   "metadata": {},
   "source": [
    "Now create an account for Earthdata which is used to download SRTM DEM data with 1 and 3 arc-second resolution.\n",
    "This account will also give you access to Sentinel-1 mirror server at the Alaska Satellite Facility, which can be used as an backup for the Copernicus Sentinel hub.\n",
    "\n",
    "You can create your account using this link:\n",
    "https://urs.earthdata.nasa.gov//users/new\n",
    "\n",
    "Now go to the ASF website:\n",
    "https://search.asf.alaska.edu\n",
    "\n",
    "If you try to login it will ask you to add some credentials to your account and agree with the license. This makes your account complete.\n",
    "\n",
    "Running the next block will ask for your username and password again."
   ]
  },
  {
   "cell_type": "code",
   "execution_count": 3,
   "metadata": {
    "ExecuteTime": {
     "end_time": "2023-12-21T15:17:05.574049681Z",
     "start_time": "2023-12-21T15:16:31.007968513Z"
    }
   },
   "outputs": [
    {
     "name": "stderr",
     "output_type": "stream",
     "text": [
      "INFO:root:Earthdata password valid!\n",
      "INFO:root:Earthdata account added!\n"
     ]
    }
   ],
   "source": [
    "# Add Earthdata settings and check whether they are valid.\n",
    "username = input('Username Earthdata account:')\n",
    "password = input('Password Earthdata account:')\n",
    "success = settings.add_earthdata_settings(username, password)\n",
    "\n",
    "if success:\n",
    "    logging.info('Earthdata account added!')"
   ]
  },
  {
   "cell_type": "markdown",
   "metadata": {},
   "source": [
    "Create an account to download data from the DLR TanDEM-X archive. This step is optional and only\n",
    "needed when you work with regions above 60 degrees North or 60 degrees South of the equator, as these\n",
    "areas do not have SRTM coverage. \n",
    "\n",
    "There are two different datasets that also require two different accounts. \n",
    "\n",
    "For the 30-meter DEM (TDM30) create an account via this link:\n",
    "https://sso.eoc.dlr.de/tdm30-edited/selfservice/public/newuser\n",
    "For the 90-meter DEM (TDM90) create an account via this link:\n",
    "https://sso.eoc.dlr.de/tdm90/selfservice/public/newuser\n",
    "\n",
    "Running the next block will check you password for the DLR website."
   ]
  },
  {
   "cell_type": "code",
   "execution_count": 4,
   "metadata": {
    "pycharm": {
     "name": "#%% \n"
    },
    "ExecuteTime": {
     "end_time": "2023-12-21T15:17:37.492339740Z",
     "start_time": "2023-12-21T15:17:12.616336053Z"
    }
   },
   "outputs": [
    {
     "name": "stderr",
     "output_type": "stream",
     "text": [
      "INFO:root:DLR password valid!\n",
      "INFO:root:DLR TanDEM-X DEM account added!\n"
     ]
    }
   ],
   "source": [
    "for dem_type in ['TDM30', 'TDM90']:\n",
    "    logging.info('Username EOC Geoservice (DLR) TanDEM-X DEM account for' + dem_type + ':')\n",
    "    DLR_username = input()\n",
    "    logging.info('Username EOC Geoservice (DLR) TanDEM-X DEM account for' + dem_type + ':')\n",
    "    DLR_password = input()\n",
    "\n",
    "    success = settings.add_DLR_settings(DLR_username, DLR_password, dem_type)\n",
    "    if success:\n",
    "        logging.info('EOC Geoservice (DLR) TanDEM-X DEM account for ' + dem_type + ' added!')\n"
   ]
  },
  {
   "cell_type": "markdown",
   "source": [
    "After the dowload options for SAR data and DEMs we also add two options to add accounts to download NWP model data. One of them is from ERA5 (worldwide) and the other from the KNMI (Netherlands or Western Europe only). You can create an account for the ERA5 data using the following links:\n",
    "\n",
    "ERA5: https://cds.climate.copernicus.eu/user/register\n",
    "The requested api key can then be found at:\n",
    "https://cds.climate.copernicus.eu/ and clicking on your account name in the upper right corner. The UID and API key then given at the bottom of the page.\n",
    "Downloads will be done using the cds api. To install the python package check out:\n",
    "https://cds.climate.copernicus.eu/api-how-to\n",
    "\n",
    "If you are not interested in using NWP model data you kan skip this step\n",
    " "
   ],
   "metadata": {
    "collapsed": false
   }
  },
  {
   "cell_type": "code",
   "execution_count": 6,
   "outputs": [
    {
     "ename": "AttributeError",
     "evalue": "'UserSettings' object has no attribute 'add_knmi_settings'",
     "output_type": "error",
     "traceback": [
      "\u001B[0;31m---------------------------------------------------------------------------\u001B[0m",
      "\u001B[0;31mAttributeError\u001B[0m                            Traceback (most recent call last)",
      "\u001B[0;32m<ipython-input-6-3f40c712e0d5>\u001B[0m in \u001B[0;36m<module>\u001B[0;34m\u001B[0m\n\u001B[1;32m      6\u001B[0m \u001B[0;34m\u001B[0m\u001B[0m\n\u001B[1;32m      7\u001B[0m \u001B[0mapi_key\u001B[0m \u001B[0;34m=\u001B[0m \u001B[0minput\u001B[0m\u001B[0;34m(\u001B[0m\u001B[0;34m'API Key for KNMI:'\u001B[0m\u001B[0;34m)\u001B[0m\u001B[0;34m\u001B[0m\u001B[0;34m\u001B[0m\u001B[0m\n\u001B[0;32m----> 8\u001B[0;31m \u001B[0msuccess\u001B[0m \u001B[0;34m=\u001B[0m \u001B[0msettings\u001B[0m\u001B[0;34m.\u001B[0m\u001B[0madd_knmi_settings\u001B[0m\u001B[0;34m(\u001B[0m\u001B[0mapi_key\u001B[0m\u001B[0;34m)\u001B[0m\u001B[0;34m\u001B[0m\u001B[0;34m\u001B[0m\u001B[0m\n\u001B[0m\u001B[1;32m      9\u001B[0m \u001B[0;34m\u001B[0m\u001B[0m\n\u001B[1;32m     10\u001B[0m \u001B[0;32mif\u001B[0m \u001B[0msuccess\u001B[0m\u001B[0;34m:\u001B[0m\u001B[0;34m\u001B[0m\u001B[0;34m\u001B[0m\u001B[0m\n",
      "\u001B[0;31mAttributeError\u001B[0m: 'UserSettings' object has no attribute 'add_knmi_settings'"
     ]
    }
   ],
   "source": [
    "\n",
    "api_key = input('API Key for Climate Data Store:')\n",
    "success = settings.add_ecmwf_settings(api_key)\n",
    "\n",
    "if success:\n",
    "    logging.info('CDS account added!')\n"
   ],
   "metadata": {
    "collapsed": false,
    "ExecuteTime": {
     "end_time": "2023-12-21T15:19:57.759975251Z",
     "start_time": "2023-12-21T15:19:27.718147828Z"
    }
   }
  },
  {
   "cell_type": "markdown",
   "source": [
    "You can create an account for the KNMI data using the following links:\n",
    "\n",
    "KNMI: https://developer.dataplatform.knmi.nl/register/\n",
    "The API key can then be found under:\n",
    "https://developer.dataplatform.knmi.nl/member/\n",
    "\n",
    "If you are not interested in using NWP model data you kan skip this step"
   ],
   "metadata": {
    "collapsed": false
   }
  },
  {
   "cell_type": "code",
   "execution_count": 3,
   "outputs": [
    {
     "name": "stderr",
     "output_type": "stream",
     "text": [
      "INFO:root:KNMI account added!\n"
     ]
    }
   ],
   "source": [
    "api_key = input('API Key for KNMI:')\n",
    "success = settings.add_knmi_settings(api_key)\n",
    "\n",
    "if success:\n",
    "    logging.info('KNMI account added!') \n",
    "    "
   ],
   "metadata": {
    "collapsed": false,
    "ExecuteTime": {
     "end_time": "2023-12-21T15:35:35.889769594Z",
     "start_time": "2023-12-21T15:35:25.212164066Z"
    }
   }
  },
  {
   "cell_type": "markdown",
   "metadata": {},
   "source": [
    "Now we have the needed accounts, we can download the needed data, but you will have to define where to store the data\n",
    "\n",
    "To do so you will need to create a folder to store:\n",
    "1. A folder to store the downloaded SAR data. \n",
    "2. A folder to store the downloaded DEM data.\n",
    "3. A folder to store the orbit files. These files are used to determine the exact location at satellite overpass and \n",
    "is needed to apply a correct geolocation on the ground. \n",
    "4. A folder to write the data_stacks you process. \n",
    "\n",
    "Or:\n",
    "\n",
    "1. Define one primary folder where all other folders will be created automatically. \n",
    "\n",
    "Be sure that you have around 50 GB of disk space free to do the processing!"
   ]
  },
  {
   "cell_type": "code",
   "execution_count": 2,
   "metadata": {
    "ExecuteTime": {
     "end_time": "2023-12-21T15:46:39.785438244Z",
     "start_time": "2023-12-21T15:45:48.105328285Z"
    }
   },
   "outputs": [
    {
     "name": "stderr",
     "output_type": "stream",
     "text": [
      "INFO:root:Folders for processing are set!\n"
     ]
    }
   ],
   "source": [
    "settings.define_sensor_names()\n",
    "\n",
    "# Specify the main folder only. Leave this one empty if you define the other folders seperately!\n",
    "main_folder = input('Specify folder for rippl processing. (Leave empty if you want to specify the different data folder separately)')\n",
    "\n",
    "# Specify the 4 folders seperately\n",
    "if len(main_folder) == 0:\n",
    "    radar_database =  input('Specify folder downloaded SAR SLC data')\n",
    "    DEM_database = input('Specify folder downloaded DEM data')\n",
    "    orbit_database = input('Specify folder downloaded orbit data')\n",
    "    radar_data_stacks = input('Specify folder where processed SAR data is stored (preferably on SSD volume for read/write speed)')\n",
    "    NWP_model_database = input('Specify folder for downloaded NWP data')\n",
    "    radar_data_products = input('Specify folder for output geotiff files')\n",
    "\n",
    "    success = settings.save_data_database(radar_database=radar_database,\n",
    "                                radar_data_stacks=radar_data_stacks,\n",
    "                                orbit_database=orbit_database,\n",
    "                                DEM_database=DEM_database,\n",
    "                                NWP_model_database=NWP_model_database,\n",
    "                                radar_data_products=radar_data_products)\n",
    "else:\n",
    "    success = settings.save_data_database(main_folder=main_folder)\n",
    "# Save folders\n",
    "\n",
    "if success:\n",
    "    logging.info('Folders for processing are set!')"
   ]
  },
  {
   "cell_type": "markdown",
   "metadata": {},
   "source": [
    "Before we can download DEM data we will need to index the SRTM database and download the EGM96 geoid model. This is done in the next step. Indexing can take a few minutes... In the newest version this index file comes with the code, so it is not needed to do the indexing here. However, with an update of the download server a rerun of this step could be needed."
   ]
  },
  {
   "cell_type": "code",
   "execution_count": 5,
   "metadata": {
    "ExecuteTime": {
     "end_time": "2023-12-21T15:49:02.657989810Z",
     "start_time": "2023-12-21T15:49:02.106647795Z"
    }
   },
   "outputs": [
    {
     "name": "stderr",
     "output_type": "stream",
     "text": [
      "INFO:root:Succesfully downloaded the EGM96 geoid file to /mnt/external/rippl_tutorial_test/DEM_database/geoid/egm96.dat\n"
     ]
    }
   ],
   "source": [
    "# Start by copying the geoid file\n",
    "import shutil\n",
    "from rippl.external_dems.geoid import GeoidInterp\n",
    "\n",
    "egm_96_file=os.path.join(settings.settings['paths']['DEM_database'], 'geoid', 'egm96.dat')\n",
    "egm_96_file_rippl=os.path.join(rippl_path, 'rippl', 'external_dems', 'egm96.dat')\n",
    "shutil.copyfile(egm_96_file_rippl, egm_96_file)\n",
    "\n",
    "egm = GeoidInterp.create_geoid(egm_96_file=egm_96_file)"
   ]
  },
  {
   "cell_type": "markdown",
   "metadata": {},
   "source": [
    "To finish the setup of RIPPL install the snaphu software, which is used to do unwrapping. If you are not planning on\n",
    "doing any unwrapping this is not needed.\n",
    "\n",
    "On a linux machine this can be done by using the following command:\n",
    "apt-get install snaphu (add sudo in front if needed)\n",
    "\n",
    "On a windows machine you could use the prebuild version that is used in the STEP software from ESA. Follow this link:\n",
    "http://step.esa.int/main/third-party-plugins-2/snaphu/\n",
    "\n",
    "On a macbook you will have to build the program yourself. You can use the post under the following linke as a reference:\n",
    "https://forum.step.esa.int/t/installing-snaphu-on-macbook/10969\n",
    "\n",
    "The source code can be found under:\n",
    "https://web.stanford.edu/group/radar/softwareandlinks/sw/snaphu/\n",
    "\n",
    "Make sure that the program is in your system path!"
   ]
  },
  {
   "cell_type": "code",
   "execution_count": 8,
   "metadata": {
    "pycharm": {
     "name": "#%% \n"
    },
    "ExecuteTime": {
     "end_time": "2023-12-21T15:54:41.895358910Z",
     "start_time": "2023-12-21T15:54:32.438041046Z"
    }
   },
   "outputs": [
    {
     "name": "stderr",
     "output_type": "stream",
     "text": [
      "INFO:root:Snaphu path found and added to RIPPL installation\n"
     ]
    },
    {
     "data": {
      "text/plain": "True"
     },
     "execution_count": 8,
     "metadata": {},
     "output_type": "execute_result"
    }
   ],
   "source": [
    "snaphu_path = input('Snaphu path (not needed if you do not want to do unwrapping):')\n",
    "settings.add_snaphu_path(snaphu_path=snaphu_path)"
   ]
  },
  {
   "cell_type": "code",
   "execution_count": 9,
   "metadata": {
    "ExecuteTime": {
     "end_time": "2023-12-21T15:54:46.548247070Z",
     "start_time": "2023-12-21T15:54:46.532511212Z"
    }
   },
   "outputs": [
    {
     "name": "stderr",
     "output_type": "stream",
     "text": [
      "INFO:root:Settings saved to /home/gert/Software/rippl_main/rippl/user_settings.json\n",
      "INFO:root:User settings saved and validated!\n"
     ]
    }
   ],
   "source": [
    "# Save all settings to disk.\n",
    "settings.save_settings()\n",
    "\n",
    "logging.info('User settings saved and validated!')"
   ]
  }
 ],
 "metadata": {
  "kernelspec": {
   "name": "python3",
   "language": "python",
   "display_name": "Python 3"
  },
  "language_info": {
   "codemirror_mode": {
    "name": "ipython",
    "version": 3
   },
   "file_extension": ".py",
   "mimetype": "text/x-python",
   "name": "python",
   "nbconvert_exporter": "python",
   "pygments_lexer": "ipython3",
   "version": "3.9.7"
  }
 },
 "nbformat": 4,
 "nbformat_minor": 1
}
