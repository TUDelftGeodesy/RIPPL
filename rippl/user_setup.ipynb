{
 "cells": [
  {
   "cell_type": "markdown",
   "source": [
    "To allow downloads for the SAR SLC's, DEMs and orbits you will need to \n",
    "create a few online accounts if you want to be able to download these.\n",
    "\n",
    "The following code will guide you through the process to setup your\n",
    "working environment."
   ],
   "metadata": {
    "collapsed": false,
    "pycharm": {
     "name": "#%% md\n"
    }
   }
  },
  {
   "cell_type": "markdown",
   "source": [
    "As a first step you will have to create an account for the sentinel hub,\n",
    "which can be done using the following link:\n",
    "\n",
    "https://scihub.copernicus.eu/dhus/#/self-registration\n",
    "\n",
    "Running the next block will ask you for your username and password and checks whether these are valid.\n",
    "Sometimes the server is offline and the program will not be able to verify your account. In that case you can skip this\n",
    "step as you can use the NASA server too. But be aware that you cannot use the ESA hub then! You can add your username\n",
    "and password always manually to the user_settings.txt file."
   ],
   "metadata": {
    "collapsed": false,
    "pycharm": {
     "name": "#%% md\n"
    }
   }
  },
  {
   "cell_type": "code",
   "execution_count": 1,
   "metadata": {
    "collapsed": true
   },
   "outputs": [
    {
     "name": "stdout",
     "output_type": "stream",
     "text": [
      "ESA password valid!\n",
      "Sentinel-1 scihub account added!\n"
     ]
    }
   ],
   "source": [
    "# Initialize settings\n",
    "import os\n",
    "\n",
    "from rippl.user_settings import UserSettings\n",
    "from rippl.external_dems.geoid import GeoidInterp\n",
    "from rippl.external_dems.srtm.srtm_download import SrtmDownload\n",
    "settings = UserSettings()\n",
    "\n",
    "# Add ESA settings and check whether they are valid.\n",
    "username = 'gertmulder'\n",
    "password = 'Radar2016'\n",
    "success = settings.add_ESA_settings(username, password)\n",
    "\n",
    "if success:\n",
    "    print('Sentinel-1 scihub account added!')"
   ]
  },
  {
   "cell_type": "markdown",
   "source": [
    "Now create an account for Earthdata which is used to download SRTM DEM data with 1 and 3 arc-second resolution\n",
    "This account will also give you access to Sentinel-1 mirror server at Alaska Satellite Facility, which can be used\n",
    "as an backup for the Copernicus Sentinel hub.\n",
    "\n",
    "You can create your account using this link:\n",
    "https://urs.earthdata.nasa.gov//users/new\n",
    "\n",
    "Now go to the ASF website:\n",
    "https://search.asf.alaska.edu\n",
    "\n",
    "If you try to login it will ask you to add some things to your account and agree with the license. This makes your\n",
    "account complete.\n",
    "\n",
    "Running the next block will ask for your username and password again."
   ],
   "metadata": {
    "collapsed": false,
    "pycharm": {
     "name": "#%% md\n"
    }
   }
  },
  {
   "cell_type": "code",
   "execution_count": 2,
   "outputs": [
    {
     "name": "stdout",
     "output_type": "stream",
     "text": [
      "NASA password valid!\n",
      "NASA EarthExplorer account added!\n"
     ]
    }
   ],
   "source": [
    "# Add EarthExplorer settings and check whether they are valid.\n",
    "username = 'gertmulder'\n",
    "password = 'Radar2016'\n",
    "success = settings.add_NASA_settings(username, password)\n",
    "\n",
    "if success:\n",
    "    print('NASA EarthExplorer account added!')"
   ],
   "metadata": {
    "collapsed": false,
    "pycharm": {
     "name": "#%%\n"
    }
   }
  },
  {
   "cell_type": "markdown",
   "source": [
    "Finally create an account to download data from the DLR TanDEM-X archive. This step is optional and only\n",
    "needed when you work with regions above 60 degrees North or 60 degrees South of the equator, as these\n",
    "areas do not have SRTM coverage. Create an account via this link:\n",
    "\n",
    "https://sso.eoc.dlr.de/tdm90/selfservice/public/NewUser\n",
    "\n",
    "Running the next block will check you password for the DLR website."
   ],
   "metadata": {
    "collapsed": false,
    "pycharm": {
     "name": "#%% md\n"
    }
   }
  },
  {
   "cell_type": "code",
   "execution_count": 3,
   "outputs": [
    {
     "name": "stdout",
     "output_type": "stream",
     "text": [
      "DLR password valid!\n",
      "DLR TanDEM-X DEM account added!\n"
     ]
    }
   ],
   "source": [
    "username = 'g.mulder-1@tudelft.nl'\n",
    "password = 'Radar_2016'\n",
    "success = settings.add_DLR_settings(username, password)\n",
    "\n",
    "if success:\n",
    "    print('DLR TanDEM-X DEM account added!')"
   ],
   "metadata": {
    "collapsed": false,
    "pycharm": {
     "name": "#%% \n"
    }
   }
  },
  {
   "cell_type": "markdown",
   "source": [
    "Now we have the needed accounts, we can download the needed data, but you will have to define where to store the data\n",
    "\n",
    "To do so you will need to create a folder to store:\n",
    "1. A folder to store the downloaded SAR data. \n",
    "2. A folder to store the downloaded DEM data.\n",
    "3. A folder to store the orbit files. These files are used to determine the exact location at satellite overpass and \n",
    "is needed to apply a correct geolocation on the ground. \n",
    "4. A folder to write the datastacks you process. \n",
    "\n",
    "Or:\n",
    "\n",
    "1. Define one master folder where all other folders will be created automatically. \n",
    "\n",
    "Be sure that you have around 50 GB of disk space free to do the processing!"
   ],
   "metadata": {
    "collapsed": false,
    "pycharm": {
     "name": "#%% md\n"
    }
   }
  },
  {
   "cell_type": "code",
   "execution_count": 4,
   "outputs": [
    {
     "name": "stdout",
     "output_type": "stream",
     "text": [
      "Folders for processing are set!\n"
     ]
    }
   ],
   "source": [
    "# Specify the 4 folders seperately\n",
    "radar_database = ''\n",
    "DEM_database = ''\n",
    "orbit_database = ''\n",
    "radar_datastacks = ''\n",
    "NWP_model_database = ''\n",
    "\n",
    "# Specify the main folder only (Leave this one empty if you define the other folders seperately!\n",
    "main_folder = '/Users/gertmulder/SAR_processing'\n",
    "\n",
    "# Save folders\n",
    "succes = settings.save_data_database(main_folder=main_folder,\n",
    "                            radar_database=radar_database,\n",
    "                            radar_datastacks=radar_datastacks,\n",
    "                            orbit_database=orbit_database,\n",
    "                            DEM_database=DEM_database,\n",
    "                            NWP_model_database=NWP_model_database)\n",
    "\n",
    "if success:\n",
    "    print('Folders for processing are set!')"
   ],
   "metadata": {
    "collapsed": false,
    "pycharm": {
     "name": "#%% \n"
    }
   }
  },
  {
   "cell_type": "markdown",
   "source": [
    "Before we can download DEM data we will need to index the SRTM database and download the world geoid file. This is done\n",
    "in the next step. Indexing can take a few minutes..."
   ],
   "metadata": {
    "collapsed": false,
    "pycharm": {
     "name": "#%% md\n"
    }
   }
  },
  {
   "cell_type": "code",
   "execution_count": 5,
   "outputs": [],
   "source": [
    "# Start by downloading the geoid file\n",
    "egm = GeoidInterp.create_geoid(egm_96_file=os.path.join(settings.DEM_database, 'geoid', 'egm96.dat'))\n",
    "\n",
    "# Then index the SRTM data\n",
    "filelist = SrtmDownload.srtm_listing(os.path.join(settings.DEM_database, 'SRTM'), settings.NASA_username, settings.NASA_password)"
   ],
   "metadata": {
    "collapsed": false,
    "pycharm": {
     "name": "#%%\n"
    }
   }
  },
  {
   "cell_type": "markdown",
   "source": [
    "To finish the setup of RIPPL install the snaphu software, which is used to do unwrapping. If you are not planning on\n",
    "doing any unwrapping this is not needed.\n",
    "\n",
    "On a linux machine this can be done by using the following command:\n",
    "apt-get install snaphu (add sudo in front if needed)\n",
    "\n",
    "On a windows machine you could use the prebuild version that is used in the STEP software from ESA. Follow this link:\n",
    "http://step.esa.int/main/third-party-plugins-2/snaphu/\n",
    "\n",
    "On a macbook you will have to build the program yourself. You can use the post under the following linke as a reference:\n",
    "https://forum.step.esa.int/t/installing-snaphu-on-macbook/10969\n",
    "\n",
    "The source code can be found under:\n",
    "https://web.stanford.edu/group/radar/softwareandlinks/sw/snaphu/\n",
    "\n",
    "Make sure that the program is in your system path!"
   ],
   "metadata": {
    "collapsed": false,
    "pycharm": {
     "name": "#%% md\n"
    }
   }
  },
  {
   "cell_type": "code",
   "execution_count": 6,
   "outputs": [
    {
     "name": "stdout",
     "output_type": "stream",
     "text": [
      "Snaphu path found and added to RIPPL installation\n"
     ]
    }
   ],
   "source": [
    "snaphu_path = 'snaphu'\n",
    "settings.add_snaphu_path(snaphu_path=snaphu_path)"
   ],
   "metadata": {
    "collapsed": false,
    "pycharm": {
     "name": "#%% \n"
    }
   }
  },
  {
   "cell_type": "code",
   "execution_count": 7,
   "outputs": [
    {
     "name": "stdout",
     "output_type": "stream",
     "text": [
      "User settings saved and validated!\n"
     ]
    }
   ],
   "source": [
    "# Save all settings to disk.\n",
    "settings.save_settings()\n",
    "\n",
    "print('User settings saved and validated!')"
   ],
   "metadata": {
    "collapsed": false,
    "pycharm": {
     "name": "#%%\n"
    }
   }
  }
 ],
 "metadata": {
  "kernelspec": {
   "name": "pycharm-42d060f7",
   "language": "python",
   "display_name": "PyCharm (rippl_master)"
  },
  "language_info": {
   "codemirror_mode": {
    "name": "ipython",
    "version": 2
   },
   "file_extension": ".py",
   "mimetype": "text/x-python",
   "name": "python",
   "nbconvert_exporter": "python",
   "pygments_lexer": "ipython2",
   "version": "2.7.6"
  }
 },
 "nbformat": 4,
 "nbformat_minor": 0
}