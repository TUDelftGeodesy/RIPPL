{
 "cells": [
  {
   "cell_type": "markdown",
   "metadata": {
    "collapsed": true,
    "pycharm": {
     "name": "#%% md\n"
    }
   },
   "source": [
    "In this notebook we process the glaciers of the Antarctic Peninsula. This includes a large range so we will not cover\n",
    "the full range."
   ]
  },
  {
   "cell_type": "code",
   "execution_count": 2,
   "metadata": {
    "pycharm": {
     "name": "#%%\n"
    }
   },
   "outputs": [],
   "source": [
    "# Import script to embed geolocation.\n",
    "from IPython.display import HTML\n",
    "import datetime\n",
    "\n",
    "import sys\n",
    "import os\n",
    "import shutil\n",
    "import numpy as np\n",
    "sys.path.extend(['/Users/gertmulder/software/rippl_main'])\n",
    "\n",
    "from rippl.orbit_geometry.read_write_shapes import ReadWriteShapes\n",
    "from rippl.SAR_sensors.sentinel.sentinel_download import DownloadSentinel\n",
    "from rippl.processing_templates.general_sentinel_1 import GeneralPipelines\n",
    "\n",
    "glacier_shape = [[164.70703125,-71.93815765811694],\n",
    "            [148.359375, -69.47296854140573],\n",
    "            [136.7578125,-67.97463396204758],\n",
    "            [133.154296875, -71.9925780509325],\n",
    "            [131.66015625,-79.68718415450823],\n",
    "            [137.4609375,-82.49482361179572],\n",
    "            [163.65234374999997,-82.99413186927222],\n",
    "            [175.712890625,-82.68748032987172],\n",
    "            [175.931640625,-78.98818668348775],\n",
    "            [163.037109375,-78.56048828398782],\n",
    "            [157.060546875,-76.84081641443098],\n",
    "            [159.873046875,-73.92246884621463],\n",
    "            [164.70703125,-71.93815765811694]]\n",
    "study_area = ReadWriteShapes()\n",
    "study_area(glacier_shape)\n",
    "\n",
    "geojson = study_area.shape\n",
    "\n",
    "# Try to do the same by creating a shapefile with QGIS, geojson online or a .kml file in google earth.\n",
    "# study_area.read_kml(kml_path)\n",
    "# study_area.read_geo_json(geojson_path)\n",
    "# study_area.read_shapefile(shapefile_path)"
   ]
  },
  {
   "cell_type": "markdown",
   "metadata": {
    "pycharm": {
     "name": "#%% md\n"
    }
   },
   "source": [
    "The next step in the processing is selection of the right track, as the Sentinel-1 satellite will cover the area on both\n",
    "ascending and descending tracks. However, to do so, we will have to define the start and end date of our data search, \n",
    "because the satellite is not always acquiring data. \n",
    "Next search will give a small oversight of the available tracks during our period of interest. In our case we will \n",
    "search one week before and one week after the earthquake.\n",
    "\n",
    "Watch out with extending the search window, this can result in a lot of images. Note that every downloaded file will take approximately 4GB of disk space!"
   ]
  },
  {
   "cell_type": "code",
   "execution_count": 3,
   "metadata": {
    "pycharm": {
     "name": "#%%\n"
    }
   },
   "outputs": [],
   "source": [
    "# First we search using a time window\n",
    "\n",
    "# Track and data type of Sentinel data\n",
    "mode = 'IW'\n",
    "product_type = 'SLC'\n",
    "polarisation = 'HH'\n",
    "\n",
    "# First we check using a time window\n",
    "start_date = datetime.datetime(year=2018, month=10, day=1)\n",
    "end_date = datetime.datetime(year=2019, month=10, day=1)\n",
    "\n",
    "#find_track = DownloadSentinel(start_date=start_date, end_date=end_date, shape=study_area.shape, sensor_mode=mode,\n",
    "#                              polarisation=polarisation)\n",
    "#find_track.sentinel_search_ASF()\n",
    "#find_track.summarize_search_results(plot_cartopy=False, buffer=2)"
   ]
  },
  {
   "cell_type": "markdown",
   "metadata": {
    "pycharm": {
     "name": "#%% md\n"
    }
   },
   "source": [
    "After selection of the right track we can start the actual download of the images. In our case we use track 38.\n",
    "\n",
    "This will download our data automatically to our radar database. Additionally, it will download the precise orbit files.\n",
    "These files are created within a few weeks after the data acquisition and define the satellite orbit within a few cm\n",
    "accuracy. These orbits are necessary to accurately define the positions of the radar pixels on the ground later on\n",
    "in the processing."
   ]
  },
  {
   "cell_type": "code",
   "execution_count": null,
   "metadata": {
    "pycharm": {
     "name": "#%%\n"
    }
   },
   "outputs": [
    {
     "name": "stdout",
     "output_type": "stream",
     "text": [
      "wget -c --http-user=gertmulder --http-password=Radar2016 --no-check-certificate \"https://datapool.asf.alaska.edu/SLC/SA/S1B_IW_SLC__1SSH_20190817T105604_20190817T105631_017624_021288_E607.zip\" -O \"/media/gert/SAR_data/radar_database/Sentinel-1/s1_asc_t098/IW_SLC__1SSH_HH/20190817/S1B_IW_SLC__1SSH_20190817T105604_20190817T105631_017624_021288_E607.zip\"\n",
      "wget -c --http-user=gertmulder --http-password=Radar2016 --no-check-certificate \"https://datapool.asf.alaska.edu/SLC/SA/S1B_IW_SLC__1SSH_20190817T105539_20190817T105606_017624_021288_29BC.zip\" -O \"/media/gert/SAR_data/radar_database/Sentinel-1/s1_asc_t098/IW_SLC__1SSH_HH/20190817/S1B_IW_SLC__1SSH_20190817T105539_20190817T105606_017624_021288_29BC.zip\"\n",
      "wget -c --http-user=gertmulder --http-password=Radar2016 --no-check-certificate \"https://datapool.asf.alaska.edu/SLC/SA/S1B_IW_SLC__1SSH_20190817T105511_20190817T105541_017624_021288_E669.zip\" -O \"/media/gert/SAR_data/radar_database/Sentinel-1/s1_asc_t098/IW_SLC__1SSH_HH/20190817/S1B_IW_SLC__1SSH_20190817T105511_20190817T105541_017624_021288_E669.zip\"\n",
      "wget -c --http-user=gertmulder --http-password=Radar2016 --no-check-certificate \"https://datapool.asf.alaska.edu/SLC/SA/S1A_IW_SLC__1SSH_20190811T105620_20190811T105633_028520_03397D_BB7A.zip\" -O \"/media/gert/SAR_data/radar_database/Sentinel-1/s1_asc_t098/IW_SLC__1SSH_HH/20190811/S1A_IW_SLC__1SSH_20190811T105620_20190811T105633_028520_03397D_BB7A.zip\"\n",
      "wget -c --http-user=gertmulder --http-password=Radar2016 --no-check-certificate \"https://datapool.asf.alaska.edu/SLC/SA/S1A_IW_SLC__1SSH_20190811T105553_20190811T105622_028520_03397D_1091.zip\" -O \"/media/gert/SAR_data/radar_database/Sentinel-1/s1_asc_t098/IW_SLC__1SSH_HH/20190811/S1A_IW_SLC__1SSH_20190811T105553_20190811T105622_028520_03397D_1091.zip\"\n",
      "wget -c --http-user=gertmulder --http-password=Radar2016 --no-check-certificate \"https://datapool.asf.alaska.edu/SLC/SA/S1B_IW_SLC__1SSH_20190805T105653_20190805T105720_017449_020D1D_22F1.zip\" -O \"/media/gert/SAR_data/radar_database/Sentinel-1/s1_asc_t098/IW_SLC__1SSH_HH/20190805/S1B_IW_SLC__1SSH_20190805T105653_20190805T105720_017449_020D1D_22F1.zip\"\n",
      "wget -c --http-user=gertmulder --http-password=Radar2016 --no-check-certificate \"https://datapool.asf.alaska.edu/SLC/SA/S1B_IW_SLC__1SSH_20190805T105628_20190805T105655_017449_020D1D_77AD.zip\" -O \"/media/gert/SAR_data/radar_database/Sentinel-1/s1_asc_t098/IW_SLC__1SSH_HH/20190805/S1B_IW_SLC__1SSH_20190805T105628_20190805T105655_017449_020D1D_77AD.zip\"\n",
      "wget -c --http-user=gertmulder --http-password=Radar2016 --no-check-certificate \"https://datapool.asf.alaska.edu/SLC/SA/S1B_IW_SLC__1SSH_20190805T105604_20190805T105631_017449_020D1D_FD07.zip\" -O \"/media/gert/SAR_data/radar_database/Sentinel-1/s1_asc_t098/IW_SLC__1SSH_HH/20190805/S1B_IW_SLC__1SSH_20190805T105604_20190805T105631_017449_020D1D_FD07.zip\"\n",
      "wget -c --http-user=gertmulder --http-password=Radar2016 --no-check-certificate \"https://datapool.asf.alaska.edu/SLC/SA/S1B_IW_SLC__1SSH_20190805T105538_20190805T105606_017449_020D1D_E3E7.zip\" -O \"/media/gert/SAR_data/radar_database/Sentinel-1/s1_asc_t098/IW_SLC__1SSH_HH/20190805/S1B_IW_SLC__1SSH_20190805T105538_20190805T105606_017449_020D1D_E3E7.zip\"\n",
      "wget -c --http-user=gertmulder --http-password=Radar2016 --no-check-certificate \"https://datapool.asf.alaska.edu/SLC/SA/S1B_IW_SLC__1SSH_20190805T105510_20190805T105540_017449_020D1D_1F4D.zip\" -O \"/media/gert/SAR_data/radar_database/Sentinel-1/s1_asc_t098/IW_SLC__1SSH_HH/20190805/S1B_IW_SLC__1SSH_20190805T105510_20190805T105540_017449_020D1D_1F4D.zip\"\n",
      "wget -c --http-user=gertmulder --http-password=Radar2016 --no-check-certificate \"https://datapool.asf.alaska.edu/SLC/SA/S1A_IW_SLC__1SSH_20190730T105735_20190730T105801_028345_0333F9_1B42.zip\" -O \"/media/gert/SAR_data/radar_database/Sentinel-1/s1_asc_t098/IW_SLC__1SSH_HH/20190730/S1A_IW_SLC__1SSH_20190730T105735_20190730T105801_028345_0333F9_1B42.zip\"\n",
      "wget -c --http-user=gertmulder --http-password=Radar2016 --no-check-certificate \"https://datapool.asf.alaska.edu/SLC/SA/S1A_IW_SLC__1SSH_20190730T105710_20190730T105737_028345_0333F9_0C07.zip\" -O \"/media/gert/SAR_data/radar_database/Sentinel-1/s1_asc_t098/IW_SLC__1SSH_HH/20190730/S1A_IW_SLC__1SSH_20190730T105710_20190730T105737_028345_0333F9_0C07.zip\"\n",
      "wget -c --http-user=gertmulder --http-password=Radar2016 --no-check-certificate \"https://datapool.asf.alaska.edu/SLC/SA/S1A_IW_SLC__1SSH_20190730T105645_20190730T105712_028345_0333F9_01A5.zip\" -O \"/media/gert/SAR_data/radar_database/Sentinel-1/s1_asc_t098/IW_SLC__1SSH_HH/20190730/S1A_IW_SLC__1SSH_20190730T105645_20190730T105712_028345_0333F9_01A5.zip\"\n",
      "wget -c --http-user=gertmulder --http-password=Radar2016 --no-check-certificate \"https://datapool.asf.alaska.edu/SLC/SA/S1A_IW_SLC__1SSH_20190730T105619_20190730T105647_028345_0333F9_7C64.zip\" -O \"/media/gert/SAR_data/radar_database/Sentinel-1/s1_asc_t098/IW_SLC__1SSH_HH/20190730/S1A_IW_SLC__1SSH_20190730T105619_20190730T105647_028345_0333F9_7C64.zip\"\n",
      "wget -c --http-user=gertmulder --http-password=Radar2016 --no-check-certificate \"https://datapool.asf.alaska.edu/SLC/SA/S1A_IW_SLC__1SSH_20190730T105552_20190730T105621_028345_0333F9_E203.zip\" -O \"/media/gert/SAR_data/radar_database/Sentinel-1/s1_asc_t098/IW_SLC__1SSH_HH/20190730/S1A_IW_SLC__1SSH_20190730T105552_20190730T105621_028345_0333F9_E203.zip\"\n",
      "wget -c --http-user=gertmulder --http-password=Radar2016 --no-check-certificate \"https://datapool.asf.alaska.edu/SLC/SA/S1B_IW_SLC__1SSH_20190724T105652_20190724T105719_017274_0207D8_2D34.zip\" -O \"/media/gert/SAR_data/radar_database/Sentinel-1/s1_asc_t098/IW_SLC__1SSH_HH/20190724/S1B_IW_SLC__1SSH_20190724T105652_20190724T105719_017274_0207D8_2D34.zip\"\n",
      "wget -c --http-user=gertmulder --http-password=Radar2016 --no-check-certificate \"https://datapool.asf.alaska.edu/SLC/SA/S1B_IW_SLC__1SSH_20190724T105628_20190724T105655_017274_0207D8_CA9C.zip\" -O \"/media/gert/SAR_data/radar_database/Sentinel-1/s1_asc_t098/IW_SLC__1SSH_HH/20190724/S1B_IW_SLC__1SSH_20190724T105628_20190724T105655_017274_0207D8_CA9C.zip\"\n",
      "wget -c --http-user=gertmulder --http-password=Radar2016 --no-check-certificate \"https://datapool.asf.alaska.edu/SLC/SA/S1B_IW_SLC__1SSH_20190724T105603_20190724T105630_017274_0207D8_1ED3.zip\" -O \"/media/gert/SAR_data/radar_database/Sentinel-1/s1_asc_t098/IW_SLC__1SSH_HH/20190724/S1B_IW_SLC__1SSH_20190724T105603_20190724T105630_017274_0207D8_1ED3.zip\"\n",
      "wget -c --http-user=gertmulder --http-password=Radar2016 --no-check-certificate \"https://datapool.asf.alaska.edu/SLC/SA/S1B_IW_SLC__1SSH_20190724T105537_20190724T105605_017274_0207D8_DED1.zip\" -O \"/media/gert/SAR_data/radar_database/Sentinel-1/s1_asc_t098/IW_SLC__1SSH_HH/20190724/S1B_IW_SLC__1SSH_20190724T105537_20190724T105605_017274_0207D8_DED1.zip\"\n",
      "wget -c --http-user=gertmulder --http-password=Radar2016 --no-check-certificate \"https://datapool.asf.alaska.edu/SLC/SA/S1B_IW_SLC__1SSH_20190724T105509_20190724T105539_017274_0207D8_AB36.zip\" -O \"/media/gert/SAR_data/radar_database/Sentinel-1/s1_asc_t098/IW_SLC__1SSH_HH/20190724/S1B_IW_SLC__1SSH_20190724T105509_20190724T105539_017274_0207D8_AB36.zip\"\n",
      "wget -c --http-user=gertmulder --http-password=Radar2016 --no-check-certificate \"https://datapool.asf.alaska.edu/SLC/SA/S1B_IW_SLC__1SSH_20190712T105652_20190712T105719_017099_0202C3_5958.zip\" -O \"/media/gert/SAR_data/radar_database/Sentinel-1/s1_asc_t098/IW_SLC__1SSH_HH/20190712/S1B_IW_SLC__1SSH_20190712T105652_20190712T105719_017099_0202C3_5958.zip\"\n",
      "wget -c --http-user=gertmulder --http-password=Radar2016 --no-check-certificate \"https://datapool.asf.alaska.edu/SLC/SA/S1B_IW_SLC__1SSH_20190712T105627_20190712T105654_017099_0202C3_2FEC.zip\" -O \"/media/gert/SAR_data/radar_database/Sentinel-1/s1_asc_t098/IW_SLC__1SSH_HH/20190712/S1B_IW_SLC__1SSH_20190712T105627_20190712T105654_017099_0202C3_2FEC.zip\"\n",
      "wget -c --http-user=gertmulder --http-password=Radar2016 --no-check-certificate \"https://datapool.asf.alaska.edu/SLC/SA/S1B_IW_SLC__1SSH_20190712T105602_20190712T105629_017099_0202C3_883E.zip\" -O \"/media/gert/SAR_data/radar_database/Sentinel-1/s1_asc_t098/IW_SLC__1SSH_HH/20190712/S1B_IW_SLC__1SSH_20190712T105602_20190712T105629_017099_0202C3_883E.zip\"\n",
      "wget -c --http-user=gertmulder --http-password=Radar2016 --no-check-certificate \"https://datapool.asf.alaska.edu/SLC/SA/S1B_IW_SLC__1SSH_20190712T105536_20190712T105604_017099_0202C3_D0A4.zip\" -O \"/media/gert/SAR_data/radar_database/Sentinel-1/s1_asc_t098/IW_SLC__1SSH_HH/20190712/S1B_IW_SLC__1SSH_20190712T105536_20190712T105604_017099_0202C3_D0A4.zip\"\n"
     ]
    },
    {
     "name": "stdout",
     "output_type": "stream",
     "text": [
      "wget -c --http-user=gertmulder --http-password=Radar2016 --no-check-certificate \"https://datapool.asf.alaska.edu/SLC/SA/S1B_IW_SLC__1SSH_20190712T105509_20190712T105539_017099_0202C3_F311.zip\" -O \"/media/gert/SAR_data/radar_database/Sentinel-1/s1_asc_t098/IW_SLC__1SSH_HH/20190712/S1B_IW_SLC__1SSH_20190712T105509_20190712T105539_017099_0202C3_F311.zip\"\n",
      "wget -c --http-user=gertmulder --http-password=Radar2016 --no-check-certificate \"https://datapool.asf.alaska.edu/SLC/SA/S1B_IW_SLC__1SSH_20190630T105651_20190630T105718_016924_01FD9C_5F34.zip\" -O \"/media/gert/SAR_data/radar_database/Sentinel-1/s1_asc_t098/IW_SLC__1SSH_HH/20190630/S1B_IW_SLC__1SSH_20190630T105651_20190630T105718_016924_01FD9C_5F34.zip\"\n",
      "wget -c --http-user=gertmulder --http-password=Radar2016 --no-check-certificate \"https://datapool.asf.alaska.edu/SLC/SA/S1B_IW_SLC__1SSH_20190630T105626_20190630T105653_016924_01FD9C_FBB4.zip\" -O \"/media/gert/SAR_data/radar_database/Sentinel-1/s1_asc_t098/IW_SLC__1SSH_HH/20190630/S1B_IW_SLC__1SSH_20190630T105626_20190630T105653_016924_01FD9C_FBB4.zip\"\n",
      "wget -c --http-user=gertmulder --http-password=Radar2016 --no-check-certificate \"https://datapool.asf.alaska.edu/SLC/SA/S1B_IW_SLC__1SSH_20190630T105601_20190630T105628_016924_01FD9C_068D.zip\" -O \"/media/gert/SAR_data/radar_database/Sentinel-1/s1_asc_t098/IW_SLC__1SSH_HH/20190630/S1B_IW_SLC__1SSH_20190630T105601_20190630T105628_016924_01FD9C_068D.zip\"\n",
      "wget -c --http-user=gertmulder --http-password=Radar2016 --no-check-certificate \"https://datapool.asf.alaska.edu/SLC/SA/S1B_IW_SLC__1SSH_20190630T105536_20190630T105604_016924_01FD9C_56CE.zip\" -O \"/media/gert/SAR_data/radar_database/Sentinel-1/s1_asc_t098/IW_SLC__1SSH_HH/20190630/S1B_IW_SLC__1SSH_20190630T105536_20190630T105604_016924_01FD9C_56CE.zip\"\n",
      "wget -c --http-user=gertmulder --http-password=Radar2016 --no-check-certificate \"https://datapool.asf.alaska.edu/SLC/SA/S1B_IW_SLC__1SSH_20190630T105508_20190630T105538_016924_01FD9C_943C.zip\" -O \"/media/gert/SAR_data/radar_database/Sentinel-1/s1_asc_t098/IW_SLC__1SSH_HH/20190630/S1B_IW_SLC__1SSH_20190630T105508_20190630T105538_016924_01FD9C_943C.zip\"\n",
      "wget -c --http-user=gertmulder --http-password=Radar2016 --no-check-certificate \"https://datapool.asf.alaska.edu/SLC/SA/S1B_IW_SLC__1SSH_20190618T105650_20190618T105717_016749_01F86C_D48C.zip\" -O \"/media/gert/SAR_data/radar_database/Sentinel-1/s1_asc_t098/IW_SLC__1SSH_HH/20190618/S1B_IW_SLC__1SSH_20190618T105650_20190618T105717_016749_01F86C_D48C.zip\"\n",
      "wget -c --http-user=gertmulder --http-password=Radar2016 --no-check-certificate \"https://datapool.asf.alaska.edu/SLC/SA/S1B_IW_SLC__1SSH_20190618T105626_20190618T105652_016749_01F86C_3597.zip\" -O \"/media/gert/SAR_data/radar_database/Sentinel-1/s1_asc_t098/IW_SLC__1SSH_HH/20190618/S1B_IW_SLC__1SSH_20190618T105626_20190618T105652_016749_01F86C_3597.zip\"\n",
      "wget -c --http-user=gertmulder --http-password=Radar2016 --no-check-certificate \"https://datapool.asf.alaska.edu/SLC/SA/S1B_IW_SLC__1SSH_20190618T105601_20190618T105628_016749_01F86C_8FCC.zip\" -O \"/media/gert/SAR_data/radar_database/Sentinel-1/s1_asc_t098/IW_SLC__1SSH_HH/20190618/S1B_IW_SLC__1SSH_20190618T105601_20190618T105628_016749_01F86C_8FCC.zip\"\n",
      "wget -c --http-user=gertmulder --http-password=Radar2016 --no-check-certificate \"https://datapool.asf.alaska.edu/SLC/SA/S1B_IW_SLC__1SSH_20190618T105535_20190618T105603_016749_01F86C_6282.zip\" -O \"/media/gert/SAR_data/radar_database/Sentinel-1/s1_asc_t098/IW_SLC__1SSH_HH/20190618/S1B_IW_SLC__1SSH_20190618T105535_20190618T105603_016749_01F86C_6282.zip\"\n",
      "wget -c --http-user=gertmulder --http-password=Radar2016 --no-check-certificate \"https://datapool.asf.alaska.edu/SLC/SA/S1B_IW_SLC__1SSH_20190618T105507_20190618T105537_016749_01F86C_3BEC.zip\" -O \"/media/gert/SAR_data/radar_database/Sentinel-1/s1_asc_t098/IW_SLC__1SSH_HH/20190618/S1B_IW_SLC__1SSH_20190618T105507_20190618T105537_016749_01F86C_3BEC.zip\"\n",
      "wget -c --http-user=gertmulder --http-password=Radar2016 --no-check-certificate \"https://datapool.asf.alaska.edu/SLC/SA/S1B_IW_SLC__1SSH_20190606T105650_20190606T105717_016574_01F33A_A369.zip\" -O \"/media/gert/SAR_data/radar_database/Sentinel-1/s1_asc_t098/IW_SLC__1SSH_HH/20190606/S1B_IW_SLC__1SSH_20190606T105650_20190606T105717_016574_01F33A_A369.zip\"\n",
      "wget -c --http-user=gertmulder --http-password=Radar2016 --no-check-certificate \"https://datapool.asf.alaska.edu/SLC/SA/S1B_IW_SLC__1SSH_20190606T105625_20190606T105652_016574_01F33A_2D68.zip\" -O \"/media/gert/SAR_data/radar_database/Sentinel-1/s1_asc_t098/IW_SLC__1SSH_HH/20190606/S1B_IW_SLC__1SSH_20190606T105625_20190606T105652_016574_01F33A_2D68.zip\"\n",
      "wget -c --http-user=gertmulder --http-password=Radar2016 --no-check-certificate \"https://datapool.asf.alaska.edu/SLC/SA/S1B_IW_SLC__1SSH_20190606T105600_20190606T105627_016574_01F33A_FE48.zip\" -O \"/media/gert/SAR_data/radar_database/Sentinel-1/s1_asc_t098/IW_SLC__1SSH_HH/20190606/S1B_IW_SLC__1SSH_20190606T105600_20190606T105627_016574_01F33A_FE48.zip\"\n",
      "wget -c --http-user=gertmulder --http-password=Radar2016 --no-check-certificate \"https://datapool.asf.alaska.edu/SLC/SA/S1B_IW_SLC__1SSH_20190606T105534_20190606T105602_016574_01F33A_4D42.zip\" -O \"/media/gert/SAR_data/radar_database/Sentinel-1/s1_asc_t098/IW_SLC__1SSH_HH/20190606/S1B_IW_SLC__1SSH_20190606T105534_20190606T105602_016574_01F33A_4D42.zip\"\n",
      "wget -c --http-user=gertmulder --http-password=Radar2016 --no-check-certificate \"https://datapool.asf.alaska.edu/SLC/SA/S1B_IW_SLC__1SSH_20190606T105507_20190606T105536_016574_01F33A_92C4.zip\" -O \"/media/gert/SAR_data/radar_database/Sentinel-1/s1_asc_t098/IW_SLC__1SSH_HH/20190606/S1B_IW_SLC__1SSH_20190606T105507_20190606T105536_016574_01F33A_92C4.zip\"\n",
      "wget -c --http-user=gertmulder --http-password=Radar2016 --no-check-certificate \"https://datapool.asf.alaska.edu/SLC/SA/S1B_IW_SLC__1SSH_20190525T105649_20190525T105716_016399_01EDF4_2030.zip\" -O \"/media/gert/SAR_data/radar_database/Sentinel-1/s1_asc_t098/IW_SLC__1SSH_HH/20190525/S1B_IW_SLC__1SSH_20190525T105649_20190525T105716_016399_01EDF4_2030.zip\"\n",
      "wget -c --http-user=gertmulder --http-password=Radar2016 --no-check-certificate \"https://datapool.asf.alaska.edu/SLC/SA/S1B_IW_SLC__1SSH_20190525T105624_20190525T105651_016399_01EDF4_A5BE.zip\" -O \"/media/gert/SAR_data/radar_database/Sentinel-1/s1_asc_t098/IW_SLC__1SSH_HH/20190525/S1B_IW_SLC__1SSH_20190525T105624_20190525T105651_016399_01EDF4_A5BE.zip\"\n",
      "wget -c --http-user=gertmulder --http-password=Radar2016 --no-check-certificate \"https://datapool.asf.alaska.edu/SLC/SA/S1B_IW_SLC__1SSH_20190525T105559_20190525T105626_016399_01EDF4_EF72.zip\" -O \"/media/gert/SAR_data/radar_database/Sentinel-1/s1_asc_t098/IW_SLC__1SSH_HH/20190525/S1B_IW_SLC__1SSH_20190525T105559_20190525T105626_016399_01EDF4_EF72.zip\"\n",
      "wget -c --http-user=gertmulder --http-password=Radar2016 --no-check-certificate \"https://datapool.asf.alaska.edu/SLC/SA/S1B_IW_SLC__1SSH_20190525T105534_20190525T105602_016399_01EDF4_CEA7.zip\" -O \"/media/gert/SAR_data/radar_database/Sentinel-1/s1_asc_t098/IW_SLC__1SSH_HH/20190525/S1B_IW_SLC__1SSH_20190525T105534_20190525T105602_016399_01EDF4_CEA7.zip\"\n",
      "wget -c --http-user=gertmulder --http-password=Radar2016 --no-check-certificate \"https://datapool.asf.alaska.edu/SLC/SA/S1B_IW_SLC__1SSH_20190525T105506_20190525T105536_016399_01EDF4_7560.zip\" -O \"/media/gert/SAR_data/radar_database/Sentinel-1/s1_asc_t098/IW_SLC__1SSH_HH/20190525/S1B_IW_SLC__1SSH_20190525T105506_20190525T105536_016399_01EDF4_7560.zip\"\n",
      "wget -c --http-user=gertmulder --http-password=Radar2016 --no-check-certificate \"https://datapool.asf.alaska.edu/SLC/SA/S1B_IW_SLC__1SSH_20190513T105648_20190513T105715_016224_01E88D_3A87.zip\" -O \"/media/gert/SAR_data/radar_database/Sentinel-1/s1_asc_t098/IW_SLC__1SSH_HH/20190513/S1B_IW_SLC__1SSH_20190513T105648_20190513T105715_016224_01E88D_3A87.zip\"\n",
      "wget -c --http-user=gertmulder --http-password=Radar2016 --no-check-certificate \"https://datapool.asf.alaska.edu/SLC/SA/S1B_IW_SLC__1SSH_20190513T105623_20190513T105650_016224_01E88D_DD9E.zip\" -O \"/media/gert/SAR_data/radar_database/Sentinel-1/s1_asc_t098/IW_SLC__1SSH_HH/20190513/S1B_IW_SLC__1SSH_20190513T105623_20190513T105650_016224_01E88D_DD9E.zip\"\n",
      "wget -c --http-user=gertmulder --http-password=Radar2016 --no-check-certificate \"https://datapool.asf.alaska.edu/SLC/SA/S1B_IW_SLC__1SSH_20190513T105559_20190513T105626_016224_01E88D_8EF2.zip\" -O \"/media/gert/SAR_data/radar_database/Sentinel-1/s1_asc_t098/IW_SLC__1SSH_HH/20190513/S1B_IW_SLC__1SSH_20190513T105559_20190513T105626_016224_01E88D_8EF2.zip\"\n"
     ]
    },
    {
     "name": "stdout",
     "output_type": "stream",
     "text": [
      "wget -c --http-user=gertmulder --http-password=Radar2016 --no-check-certificate \"https://datapool.asf.alaska.edu/SLC/SA/S1B_IW_SLC__1SSH_20190513T105533_20190513T105601_016224_01E88D_5B25.zip\" -O \"/media/gert/SAR_data/radar_database/Sentinel-1/s1_asc_t098/IW_SLC__1SSH_HH/20190513/S1B_IW_SLC__1SSH_20190513T105533_20190513T105601_016224_01E88D_5B25.zip\"\n",
      "wget -c --http-user=gertmulder --http-password=Radar2016 --no-check-certificate \"https://datapool.asf.alaska.edu/SLC/SA/S1B_IW_SLC__1SSH_20190513T105505_20190513T105535_016224_01E88D_DE02.zip\" -O \"/media/gert/SAR_data/radar_database/Sentinel-1/s1_asc_t098/IW_SLC__1SSH_HH/20190513/S1B_IW_SLC__1SSH_20190513T105505_20190513T105535_016224_01E88D_DE02.zip\"\n",
      "wget -c --http-user=gertmulder --http-password=Radar2016 --no-check-certificate \"https://datapool.asf.alaska.edu/SLC/SA/S1B_IW_SLC__1SSH_20190501T105648_20190501T105715_016049_01E2F4_7839.zip\" -O \"/media/gert/SAR_data/radar_database/Sentinel-1/s1_asc_t098/IW_SLC__1SSH_HH/20190501/S1B_IW_SLC__1SSH_20190501T105648_20190501T105715_016049_01E2F4_7839.zip\"\n",
      "wget -c --http-user=gertmulder --http-password=Radar2016 --no-check-certificate \"https://datapool.asf.alaska.edu/SLC/SA/S1B_IW_SLC__1SSH_20190501T105623_20190501T105650_016049_01E2F4_C74C.zip\" -O \"/media/gert/SAR_data/radar_database/Sentinel-1/s1_asc_t098/IW_SLC__1SSH_HH/20190501/S1B_IW_SLC__1SSH_20190501T105623_20190501T105650_016049_01E2F4_C74C.zip\"\n",
      "wget -c --http-user=gertmulder --http-password=Radar2016 --no-check-certificate \"https://datapool.asf.alaska.edu/SLC/SA/S1B_IW_SLC__1SSH_20190501T105558_20190501T105625_016049_01E2F4_E3BC.zip\" -O \"/media/gert/SAR_data/radar_database/Sentinel-1/s1_asc_t098/IW_SLC__1SSH_HH/20190501/S1B_IW_SLC__1SSH_20190501T105558_20190501T105625_016049_01E2F4_E3BC.zip\"\n",
      "wget -c --http-user=gertmulder --http-password=Radar2016 --no-check-certificate \"https://datapool.asf.alaska.edu/SLC/SA/S1B_IW_SLC__1SSH_20190501T105533_20190501T105600_016049_01E2F4_085B.zip\" -O \"/media/gert/SAR_data/radar_database/Sentinel-1/s1_asc_t098/IW_SLC__1SSH_HH/20190501/S1B_IW_SLC__1SSH_20190501T105533_20190501T105600_016049_01E2F4_085B.zip\"\n",
      "wget -c --http-user=gertmulder --http-password=Radar2016 --no-check-certificate \"https://datapool.asf.alaska.edu/SLC/SA/S1B_IW_SLC__1SSH_20190501T105505_20190501T105535_016049_01E2F4_25E4.zip\" -O \"/media/gert/SAR_data/radar_database/Sentinel-1/s1_asc_t098/IW_SLC__1SSH_HH/20190501/S1B_IW_SLC__1SSH_20190501T105505_20190501T105535_016049_01E2F4_25E4.zip\"\n",
      "wget -c --http-user=gertmulder --http-password=Radar2016 --no-check-certificate \"https://datapool.asf.alaska.edu/SLC/SA/S1A_IW_SLC__1SSH_20190425T105729_20190425T105756_026945_030832_176E.zip\" -O \"/media/gert/SAR_data/radar_database/Sentinel-1/s1_asc_t098/IW_SLC__1SSH_HH/20190425/S1A_IW_SLC__1SSH_20190425T105729_20190425T105756_026945_030832_176E.zip\"\n",
      "wget -c --http-user=gertmulder --http-password=Radar2016 --no-check-certificate \"https://datapool.asf.alaska.edu/SLC/SA/S1A_IW_SLC__1SSH_20190425T105705_20190425T105732_026945_030832_60DC.zip\" -O \"/media/gert/SAR_data/radar_database/Sentinel-1/s1_asc_t098/IW_SLC__1SSH_HH/20190425/S1A_IW_SLC__1SSH_20190425T105705_20190425T105732_026945_030832_60DC.zip\"\n",
      "wget -c --http-user=gertmulder --http-password=Radar2016 --no-check-certificate \"https://datapool.asf.alaska.edu/SLC/SA/S1A_IW_SLC__1SSH_20190425T105640_20190425T105707_026945_030832_601E.zip\" -O \"/media/gert/SAR_data/radar_database/Sentinel-1/s1_asc_t098/IW_SLC__1SSH_HH/20190425/S1A_IW_SLC__1SSH_20190425T105640_20190425T105707_026945_030832_601E.zip\"\n",
      "wget -c --http-user=gertmulder --http-password=Radar2016 --no-check-certificate \"https://datapool.asf.alaska.edu/SLC/SA/S1A_IW_SLC__1SSH_20190425T105614_20190425T105642_026945_030832_E84A.zip\" -O \"/media/gert/SAR_data/radar_database/Sentinel-1/s1_asc_t098/IW_SLC__1SSH_HH/20190425/S1A_IW_SLC__1SSH_20190425T105614_20190425T105642_026945_030832_E84A.zip\"\n",
      "wget -c --http-user=gertmulder --http-password=Radar2016 --no-check-certificate \"https://datapool.asf.alaska.edu/SLC/SA/S1A_IW_SLC__1SSH_20190425T105546_20190425T105616_026945_030832_5EAE.zip\" -O \"/media/gert/SAR_data/radar_database/Sentinel-1/s1_asc_t098/IW_SLC__1SSH_HH/20190425/S1A_IW_SLC__1SSH_20190425T105546_20190425T105616_026945_030832_5EAE.zip\"\n",
      "wget -c --http-user=gertmulder --http-password=Radar2016 --no-check-certificate \"https://datapool.asf.alaska.edu/SLC/SA/S1B_IW_SLC__1SSH_20190419T105647_20190419T105714_015874_01DD1B_2A82.zip\" -O \"/media/gert/SAR_data/radar_database/Sentinel-1/s1_asc_t098/IW_SLC__1SSH_HH/20190419/S1B_IW_SLC__1SSH_20190419T105647_20190419T105714_015874_01DD1B_2A82.zip\"\n",
      "wget -c --http-user=gertmulder --http-password=Radar2016 --no-check-certificate \"https://datapool.asf.alaska.edu/SLC/SA/S1B_IW_SLC__1SSH_20190419T105622_20190419T105649_015874_01DD1B_ADAD.zip\" -O \"/media/gert/SAR_data/radar_database/Sentinel-1/s1_asc_t098/IW_SLC__1SSH_HH/20190419/S1B_IW_SLC__1SSH_20190419T105622_20190419T105649_015874_01DD1B_ADAD.zip\"\n",
      "wget -c --http-user=gertmulder --http-password=Radar2016 --no-check-certificate \"https://datapool.asf.alaska.edu/SLC/SA/S1B_IW_SLC__1SSH_20190419T105558_20190419T105625_015874_01DD1B_A6B8.zip\" -O \"/media/gert/SAR_data/radar_database/Sentinel-1/s1_asc_t098/IW_SLC__1SSH_HH/20190419/S1B_IW_SLC__1SSH_20190419T105558_20190419T105625_015874_01DD1B_A6B8.zip\"\n",
      "wget -c --http-user=gertmulder --http-password=Radar2016 --no-check-certificate \"https://datapool.asf.alaska.edu/SLC/SA/S1B_IW_SLC__1SSH_20190419T105532_20190419T105600_015874_01DD1B_2128.zip\" -O \"/media/gert/SAR_data/radar_database/Sentinel-1/s1_asc_t098/IW_SLC__1SSH_HH/20190419/S1B_IW_SLC__1SSH_20190419T105532_20190419T105600_015874_01DD1B_2128.zip\"\n",
      "wget -c --http-user=gertmulder --http-password=Radar2016 --no-check-certificate \"https://datapool.asf.alaska.edu/SLC/SA/S1B_IW_SLC__1SSH_20190419T105504_20190419T105534_015874_01DD1B_1388.zip\" -O \"/media/gert/SAR_data/radar_database/Sentinel-1/s1_asc_t098/IW_SLC__1SSH_HH/20190419/S1B_IW_SLC__1SSH_20190419T105504_20190419T105534_015874_01DD1B_1388.zip\"\n",
      "wget -c --http-user=gertmulder --http-password=Radar2016 --no-check-certificate \"https://datapool.asf.alaska.edu/SLC/SA/S1A_IW_SLC__1SSH_20190413T105729_20190413T105756_026770_0301E0_79A9.zip\" -O \"/media/gert/SAR_data/radar_database/Sentinel-1/s1_asc_t098/IW_SLC__1SSH_HH/20190413/S1A_IW_SLC__1SSH_20190413T105729_20190413T105756_026770_0301E0_79A9.zip\"\n",
      "wget -c --http-user=gertmulder --http-password=Radar2016 --no-check-certificate \"https://datapool.asf.alaska.edu/SLC/SA/S1A_IW_SLC__1SSH_20190413T105704_20190413T105731_026770_0301E0_73D8.zip\" -O \"/media/gert/SAR_data/radar_database/Sentinel-1/s1_asc_t098/IW_SLC__1SSH_HH/20190413/S1A_IW_SLC__1SSH_20190413T105704_20190413T105731_026770_0301E0_73D8.zip\"\n",
      "wget -c --http-user=gertmulder --http-password=Radar2016 --no-check-certificate \"https://datapool.asf.alaska.edu/SLC/SA/S1A_IW_SLC__1SSH_20190413T105639_20190413T105706_026770_0301E0_78DA.zip\" -O \"/media/gert/SAR_data/radar_database/Sentinel-1/s1_asc_t098/IW_SLC__1SSH_HH/20190413/S1A_IW_SLC__1SSH_20190413T105639_20190413T105706_026770_0301E0_78DA.zip\"\n",
      "wget -c --http-user=gertmulder --http-password=Radar2016 --no-check-certificate \"https://datapool.asf.alaska.edu/SLC/SA/S1A_IW_SLC__1SSH_20190413T105613_20190413T105641_026770_0301E0_0B05.zip\" -O \"/media/gert/SAR_data/radar_database/Sentinel-1/s1_asc_t098/IW_SLC__1SSH_HH/20190413/S1A_IW_SLC__1SSH_20190413T105613_20190413T105641_026770_0301E0_0B05.zip\"\n",
      "wget -c --http-user=gertmulder --http-password=Radar2016 --no-check-certificate \"https://datapool.asf.alaska.edu/SLC/SA/S1A_IW_SLC__1SSH_20190413T105546_20190413T105616_026770_0301E0_010D.zip\" -O \"/media/gert/SAR_data/radar_database/Sentinel-1/s1_asc_t098/IW_SLC__1SSH_HH/20190413/S1A_IW_SLC__1SSH_20190413T105546_20190413T105616_026770_0301E0_010D.zip\"\n",
      "wget -c --http-user=gertmulder --http-password=Radar2016 --no-check-certificate \"https://datapool.asf.alaska.edu/SLC/SA/S1B_IW_SLC__1SSH_20190407T105647_20190407T105714_015699_01D751_94C8.zip\" -O \"/media/gert/SAR_data/radar_database/Sentinel-1/s1_asc_t098/IW_SLC__1SSH_HH/20190407/S1B_IW_SLC__1SSH_20190407T105647_20190407T105714_015699_01D751_94C8.zip\"\n",
      "wget -c --http-user=gertmulder --http-password=Radar2016 --no-check-certificate \"https://datapool.asf.alaska.edu/SLC/SA/S1B_IW_SLC__1SSH_20190407T105622_20190407T105649_015699_01D751_7942.zip\" -O \"/media/gert/SAR_data/radar_database/Sentinel-1/s1_asc_t098/IW_SLC__1SSH_HH/20190407/S1B_IW_SLC__1SSH_20190407T105622_20190407T105649_015699_01D751_7942.zip\"\n"
     ]
    },
    {
     "name": "stdout",
     "output_type": "stream",
     "text": [
      "wget -c --http-user=gertmulder --http-password=Radar2016 --no-check-certificate \"https://datapool.asf.alaska.edu/SLC/SA/S1B_IW_SLC__1SSH_20190407T105557_20190407T105624_015699_01D751_8EB8.zip\" -O \"/media/gert/SAR_data/radar_database/Sentinel-1/s1_asc_t098/IW_SLC__1SSH_HH/20190407/S1B_IW_SLC__1SSH_20190407T105557_20190407T105624_015699_01D751_8EB8.zip\"\n",
      "wget -c --http-user=gertmulder --http-password=Radar2016 --no-check-certificate \"https://datapool.asf.alaska.edu/SLC/SA/S1B_IW_SLC__1SSH_20190407T105531_20190407T105559_015699_01D751_4FE2.zip\" -O \"/media/gert/SAR_data/radar_database/Sentinel-1/s1_asc_t098/IW_SLC__1SSH_HH/20190407/S1B_IW_SLC__1SSH_20190407T105531_20190407T105559_015699_01D751_4FE2.zip\"\n",
      "wget -c --http-user=gertmulder --http-password=Radar2016 --no-check-certificate \"https://datapool.asf.alaska.edu/SLC/SA/S1B_IW_SLC__1SSH_20190407T105504_20190407T105534_015699_01D751_9A1D.zip\" -O \"/media/gert/SAR_data/radar_database/Sentinel-1/s1_asc_t098/IW_SLC__1SSH_HH/20190407/S1B_IW_SLC__1SSH_20190407T105504_20190407T105534_015699_01D751_9A1D.zip\"\n",
      "wget -c --http-user=gertmulder --http-password=Radar2016 --no-check-certificate \"https://datapool.asf.alaska.edu/SLC/SA/S1A_IW_SLC__1SSH_20190401T105729_20190401T105756_026595_02FB78_F2EC.zip\" -O \"/media/gert/SAR_data/radar_database/Sentinel-1/s1_asc_t098/IW_SLC__1SSH_HH/20190401/S1A_IW_SLC__1SSH_20190401T105729_20190401T105756_026595_02FB78_F2EC.zip\"\n",
      "wget -c --http-user=gertmulder --http-password=Radar2016 --no-check-certificate \"https://datapool.asf.alaska.edu/SLC/SA/S1A_IW_SLC__1SSH_20190401T105704_20190401T105731_026595_02FB78_DC21.zip\" -O \"/media/gert/SAR_data/radar_database/Sentinel-1/s1_asc_t098/IW_SLC__1SSH_HH/20190401/S1A_IW_SLC__1SSH_20190401T105704_20190401T105731_026595_02FB78_DC21.zip\"\n",
      "wget -c --http-user=gertmulder --http-password=Radar2016 --no-check-certificate \"https://datapool.asf.alaska.edu/SLC/SA/S1A_IW_SLC__1SSH_20190401T105639_20190401T105706_026595_02FB78_EF54.zip\" -O \"/media/gert/SAR_data/radar_database/Sentinel-1/s1_asc_t098/IW_SLC__1SSH_HH/20190401/S1A_IW_SLC__1SSH_20190401T105639_20190401T105706_026595_02FB78_EF54.zip\"\n",
      "wget -c --http-user=gertmulder --http-password=Radar2016 --no-check-certificate \"https://datapool.asf.alaska.edu/SLC/SA/S1A_IW_SLC__1SSH_20190401T105613_20190401T105641_026595_02FB78_1E9A.zip\" -O \"/media/gert/SAR_data/radar_database/Sentinel-1/s1_asc_t098/IW_SLC__1SSH_HH/20190401/S1A_IW_SLC__1SSH_20190401T105613_20190401T105641_026595_02FB78_1E9A.zip\"\n",
      "wget -c --http-user=gertmulder --http-password=Radar2016 --no-check-certificate \"https://datapool.asf.alaska.edu/SLC/SA/S1A_IW_SLC__1SSH_20190401T105546_20190401T105615_026595_02FB78_5B7D.zip\" -O \"/media/gert/SAR_data/radar_database/Sentinel-1/s1_asc_t098/IW_SLC__1SSH_HH/20190401/S1A_IW_SLC__1SSH_20190401T105546_20190401T105615_026595_02FB78_5B7D.zip\"\n",
      "wget -c --http-user=gertmulder --http-password=Radar2016 --no-check-certificate \"https://datapool.asf.alaska.edu/SLC/SA/S1B_IW_SLC__1SSH_20190326T105646_20190326T105713_015524_01D18B_7AF1.zip\" -O \"/media/gert/SAR_data/radar_database/Sentinel-1/s1_asc_t098/IW_SLC__1SSH_HH/20190326/S1B_IW_SLC__1SSH_20190326T105646_20190326T105713_015524_01D18B_7AF1.zip\"\n",
      "wget -c --http-user=gertmulder --http-password=Radar2016 --no-check-certificate \"https://datapool.asf.alaska.edu/SLC/SA/S1B_IW_SLC__1SSH_20190326T105622_20190326T105649_015524_01D18B_3BCB.zip\" -O \"/media/gert/SAR_data/radar_database/Sentinel-1/s1_asc_t098/IW_SLC__1SSH_HH/20190326/S1B_IW_SLC__1SSH_20190326T105622_20190326T105649_015524_01D18B_3BCB.zip\"\n",
      "wget -c --http-user=gertmulder --http-password=Radar2016 --no-check-certificate \"https://datapool.asf.alaska.edu/SLC/SA/S1B_IW_SLC__1SSH_20190326T105557_20190326T105624_015524_01D18B_5A4E.zip\" -O \"/media/gert/SAR_data/radar_database/Sentinel-1/s1_asc_t098/IW_SLC__1SSH_HH/20190326/S1B_IW_SLC__1SSH_20190326T105557_20190326T105624_015524_01D18B_5A4E.zip\"\n",
      "wget -c --http-user=gertmulder --http-password=Radar2016 --no-check-certificate \"https://datapool.asf.alaska.edu/SLC/SA/S1B_IW_SLC__1SSH_20190326T105531_20190326T105559_015524_01D18B_258E.zip\" -O \"/media/gert/SAR_data/radar_database/Sentinel-1/s1_asc_t098/IW_SLC__1SSH_HH/20190326/S1B_IW_SLC__1SSH_20190326T105531_20190326T105559_015524_01D18B_258E.zip\"\n",
      "wget -c --http-user=gertmulder --http-password=Radar2016 --no-check-certificate \"https://datapool.asf.alaska.edu/SLC/SA/S1B_IW_SLC__1SSH_20190326T105503_20190326T105533_015524_01D18B_6DA9.zip\" -O \"/media/gert/SAR_data/radar_database/Sentinel-1/s1_asc_t098/IW_SLC__1SSH_HH/20190326/S1B_IW_SLC__1SSH_20190326T105503_20190326T105533_015524_01D18B_6DA9.zip\"\n",
      "wget -c --http-user=gertmulder --http-password=Radar2016 --no-check-certificate \"https://datapool.asf.alaska.edu/SLC/SA/S1A_IW_SLC__1SSH_20190320T105728_20190320T105755_026420_02F501_992E.zip\" -O \"/media/gert/SAR_data/radar_database/Sentinel-1/s1_asc_t098/IW_SLC__1SSH_HH/20190320/S1A_IW_SLC__1SSH_20190320T105728_20190320T105755_026420_02F501_992E.zip\"\n",
      "wget -c --http-user=gertmulder --http-password=Radar2016 --no-check-certificate \"https://datapool.asf.alaska.edu/SLC/SA/S1A_IW_SLC__1SSH_20190320T105703_20190320T105730_026420_02F501_1A4E.zip\" -O \"/media/gert/SAR_data/radar_database/Sentinel-1/s1_asc_t098/IW_SLC__1SSH_HH/20190320/S1A_IW_SLC__1SSH_20190320T105703_20190320T105730_026420_02F501_1A4E.zip\"\n",
      "wget -c --http-user=gertmulder --http-password=Radar2016 --no-check-certificate \"https://datapool.asf.alaska.edu/SLC/SA/S1A_IW_SLC__1SSH_20190320T105638_20190320T105705_026420_02F501_1B79.zip\" -O \"/media/gert/SAR_data/radar_database/Sentinel-1/s1_asc_t098/IW_SLC__1SSH_HH/20190320/S1A_IW_SLC__1SSH_20190320T105638_20190320T105705_026420_02F501_1B79.zip\"\n",
      "wget -c --http-user=gertmulder --http-password=Radar2016 --no-check-certificate \"https://datapool.asf.alaska.edu/SLC/SA/S1A_IW_SLC__1SSH_20190320T105613_20190320T105641_026420_02F501_80D2.zip\" -O \"/media/gert/SAR_data/radar_database/Sentinel-1/s1_asc_t098/IW_SLC__1SSH_HH/20190320/S1A_IW_SLC__1SSH_20190320T105613_20190320T105641_026420_02F501_80D2.zip\"\n",
      "wget -c --http-user=gertmulder --http-password=Radar2016 --no-check-certificate \"https://datapool.asf.alaska.edu/SLC/SA/S1A_IW_SLC__1SSH_20190320T105545_20190320T105615_026420_02F501_E0B8.zip\" -O \"/media/gert/SAR_data/radar_database/Sentinel-1/s1_asc_t098/IW_SLC__1SSH_HH/20190320/S1A_IW_SLC__1SSH_20190320T105545_20190320T105615_026420_02F501_E0B8.zip\"\n",
      "wget -c --http-user=gertmulder --http-password=Radar2016 --no-check-certificate \"https://datapool.asf.alaska.edu/SLC/SA/S1B_IW_SLC__1SSH_20190314T105646_20190314T105713_015349_01CBD2_0A24.zip\" -O \"/media/gert/SAR_data/radar_database/Sentinel-1/s1_asc_t098/IW_SLC__1SSH_HH/20190314/S1B_IW_SLC__1SSH_20190314T105646_20190314T105713_015349_01CBD2_0A24.zip\"\n",
      "wget -c --http-user=gertmulder --http-password=Radar2016 --no-check-certificate \"https://datapool.asf.alaska.edu/SLC/SA/S1B_IW_SLC__1SSH_20190314T105621_20190314T105648_015349_01CBD2_61F8.zip\" -O \"/media/gert/SAR_data/radar_database/Sentinel-1/s1_asc_t098/IW_SLC__1SSH_HH/20190314/S1B_IW_SLC__1SSH_20190314T105621_20190314T105648_015349_01CBD2_61F8.zip\"\n",
      "wget -c --http-user=gertmulder --http-password=Radar2016 --no-check-certificate \"https://datapool.asf.alaska.edu/SLC/SA/S1B_IW_SLC__1SSH_20190314T105557_20190314T105624_015349_01CBD2_F5A2.zip\" -O \"/media/gert/SAR_data/radar_database/Sentinel-1/s1_asc_t098/IW_SLC__1SSH_HH/20190314/S1B_IW_SLC__1SSH_20190314T105557_20190314T105624_015349_01CBD2_F5A2.zip\"\n",
      "wget -c --http-user=gertmulder --http-password=Radar2016 --no-check-certificate \"https://datapool.asf.alaska.edu/SLC/SA/S1B_IW_SLC__1SSH_20190314T105531_20190314T105559_015349_01CBD2_440E.zip\" -O \"/media/gert/SAR_data/radar_database/Sentinel-1/s1_asc_t098/IW_SLC__1SSH_HH/20190314/S1B_IW_SLC__1SSH_20190314T105531_20190314T105559_015349_01CBD2_440E.zip\"\n",
      "wget -c --http-user=gertmulder --http-password=Radar2016 --no-check-certificate \"https://datapool.asf.alaska.edu/SLC/SA/S1B_IW_SLC__1SSH_20190314T105503_20190314T105533_015349_01CBD2_E75D.zip\" -O \"/media/gert/SAR_data/radar_database/Sentinel-1/s1_asc_t098/IW_SLC__1SSH_HH/20190314/S1B_IW_SLC__1SSH_20190314T105503_20190314T105533_015349_01CBD2_E75D.zip\"\n",
      "wget -c --http-user=gertmulder --http-password=Radar2016 --no-check-certificate \"https://datapool.asf.alaska.edu/SLC/SA/S1A_IW_SLC__1SSH_20190308T105638_20190308T105705_026245_02EE90_FB0E.zip\" -O \"/media/gert/SAR_data/radar_database/Sentinel-1/s1_asc_t098/IW_SLC__1SSH_HH/20190308/S1A_IW_SLC__1SSH_20190308T105638_20190308T105705_026245_02EE90_FB0E.zip\"\n"
     ]
    },
    {
     "name": "stdout",
     "output_type": "stream",
     "text": [
      "wget -c --http-user=gertmulder --http-password=Radar2016 --no-check-certificate \"https://datapool.asf.alaska.edu/SLC/SA/S1A_IW_SLC__1SSH_20190308T105613_20190308T105641_026245_02EE90_62C3.zip\" -O \"/media/gert/SAR_data/radar_database/Sentinel-1/s1_asc_t098/IW_SLC__1SSH_HH/20190308/S1A_IW_SLC__1SSH_20190308T105613_20190308T105641_026245_02EE90_62C3.zip\"\n",
      "wget -c --http-user=gertmulder --http-password=Radar2016 --no-check-certificate \"https://datapool.asf.alaska.edu/SLC/SA/S1A_IW_SLC__1SSH_20190308T105545_20190308T105615_026245_02EE90_19FA.zip\" -O \"/media/gert/SAR_data/radar_database/Sentinel-1/s1_asc_t098/IW_SLC__1SSH_HH/20190308/S1A_IW_SLC__1SSH_20190308T105545_20190308T105615_026245_02EE90_19FA.zip\"\n",
      "wget -c --http-user=gertmulder --http-password=Radar2016 --no-check-certificate \"https://datapool.asf.alaska.edu/SLC/SA/S1B_IW_SLC__1SSH_20190302T105646_20190302T105713_015174_01C617_9CA3.zip\" -O \"/media/gert/SAR_data/radar_database/Sentinel-1/s1_asc_t098/IW_SLC__1SSH_HH/20190302/S1B_IW_SLC__1SSH_20190302T105646_20190302T105713_015174_01C617_9CA3.zip\"\n",
      "wget -c --http-user=gertmulder --http-password=Radar2016 --no-check-certificate \"https://datapool.asf.alaska.edu/SLC/SA/S1B_IW_SLC__1SSH_20190302T105622_20190302T105649_015174_01C617_0548.zip\" -O \"/media/gert/SAR_data/radar_database/Sentinel-1/s1_asc_t098/IW_SLC__1SSH_HH/20190302/S1B_IW_SLC__1SSH_20190302T105622_20190302T105649_015174_01C617_0548.zip\"\n",
      "wget -c --http-user=gertmulder --http-password=Radar2016 --no-check-certificate \"https://datapool.asf.alaska.edu/SLC/SA/S1B_IW_SLC__1SSH_20190302T105557_20190302T105624_015174_01C617_DEF2.zip\" -O \"/media/gert/SAR_data/radar_database/Sentinel-1/s1_asc_t098/IW_SLC__1SSH_HH/20190302/S1B_IW_SLC__1SSH_20190302T105557_20190302T105624_015174_01C617_DEF2.zip\"\n",
      "wget -c --http-user=gertmulder --http-password=Radar2016 --no-check-certificate \"https://datapool.asf.alaska.edu/SLC/SA/S1B_IW_SLC__1SSH_20190302T105531_20190302T105559_015174_01C617_B301.zip\" -O \"/media/gert/SAR_data/radar_database/Sentinel-1/s1_asc_t098/IW_SLC__1SSH_HH/20190302/S1B_IW_SLC__1SSH_20190302T105531_20190302T105559_015174_01C617_B301.zip\"\n",
      "wget -c --http-user=gertmulder --http-password=Radar2016 --no-check-certificate \"https://datapool.asf.alaska.edu/SLC/SA/S1B_IW_SLC__1SSH_20190302T105503_20190302T105533_015174_01C617_BD55.zip\" -O \"/media/gert/SAR_data/radar_database/Sentinel-1/s1_asc_t098/IW_SLC__1SSH_HH/20190302/S1B_IW_SLC__1SSH_20190302T105503_20190302T105533_015174_01C617_BD55.zip\"\n",
      "wget -c --http-user=gertmulder --http-password=Radar2016 --no-check-certificate \"https://datapool.asf.alaska.edu/SLC/SA/S1A_IW_SLC__1SSH_20190224T105728_20190224T105755_026070_02E843_63FF.zip\" -O \"/media/gert/SAR_data/radar_database/Sentinel-1/s1_asc_t098/IW_SLC__1SSH_HH/20190224/S1A_IW_SLC__1SSH_20190224T105728_20190224T105755_026070_02E843_63FF.zip\"\n",
      "wget -c --http-user=gertmulder --http-password=Radar2016 --no-check-certificate \"https://datapool.asf.alaska.edu/SLC/SA/S1A_IW_SLC__1SSH_20190224T105703_20190224T105730_026070_02E843_7627.zip\" -O \"/media/gert/SAR_data/radar_database/Sentinel-1/s1_asc_t098/IW_SLC__1SSH_HH/20190224/S1A_IW_SLC__1SSH_20190224T105703_20190224T105730_026070_02E843_7627.zip\"\n",
      "wget -c --http-user=gertmulder --http-password=Radar2016 --no-check-certificate \"https://datapool.asf.alaska.edu/SLC/SA/S1A_IW_SLC__1SSH_20190224T105638_20190224T105705_026070_02E843_17D4.zip\" -O \"/media/gert/SAR_data/radar_database/Sentinel-1/s1_asc_t098/IW_SLC__1SSH_HH/20190224/S1A_IW_SLC__1SSH_20190224T105638_20190224T105705_026070_02E843_17D4.zip\"\n",
      "wget -c --http-user=gertmulder --http-password=Radar2016 --no-check-certificate \"https://datapool.asf.alaska.edu/SLC/SA/S1A_IW_SLC__1SSH_20190224T105613_20190224T105641_026070_02E843_ED8E.zip\" -O \"/media/gert/SAR_data/radar_database/Sentinel-1/s1_asc_t098/IW_SLC__1SSH_HH/20190224/S1A_IW_SLC__1SSH_20190224T105613_20190224T105641_026070_02E843_ED8E.zip\"\n",
      "wget -c --http-user=gertmulder --http-password=Radar2016 --no-check-certificate \"https://datapool.asf.alaska.edu/SLC/SA/S1A_IW_SLC__1SSH_20190224T105545_20190224T105615_026070_02E843_6C07.zip\" -O \"/media/gert/SAR_data/radar_database/Sentinel-1/s1_asc_t098/IW_SLC__1SSH_HH/20190224/S1A_IW_SLC__1SSH_20190224T105545_20190224T105615_026070_02E843_6C07.zip\"\n",
      "wget -c --http-user=gertmulder --http-password=Radar2016 --no-check-certificate \"https://datapool.asf.alaska.edu/SLC/SA/S1B_IW_SLC__1SSH_20190218T105646_20190218T105713_014999_01C05F_9402.zip\" -O \"/media/gert/SAR_data/radar_database/Sentinel-1/s1_asc_t098/IW_SLC__1SSH_HH/20190218/S1B_IW_SLC__1SSH_20190218T105646_20190218T105713_014999_01C05F_9402.zip\"\n",
      "wget -c --http-user=gertmulder --http-password=Radar2016 --no-check-certificate \"https://datapool.asf.alaska.edu/SLC/SA/S1B_IW_SLC__1SSH_20190218T105622_20190218T105649_014999_01C05F_1C30.zip\" -O \"/media/gert/SAR_data/radar_database/Sentinel-1/s1_asc_t098/IW_SLC__1SSH_HH/20190218/S1B_IW_SLC__1SSH_20190218T105622_20190218T105649_014999_01C05F_1C30.zip\"\n",
      "wget -c --http-user=gertmulder --http-password=Radar2016 --no-check-certificate \"https://datapool.asf.alaska.edu/SLC/SA/S1B_IW_SLC__1SSH_20190218T105557_20190218T105624_014999_01C05F_3362.zip\" -O \"/media/gert/SAR_data/radar_database/Sentinel-1/s1_asc_t098/IW_SLC__1SSH_HH/20190218/S1B_IW_SLC__1SSH_20190218T105557_20190218T105624_014999_01C05F_3362.zip\"\n",
      "wget -c --http-user=gertmulder --http-password=Radar2016 --no-check-certificate \"https://datapool.asf.alaska.edu/SLC/SA/S1B_IW_SLC__1SSH_20190218T105531_20190218T105559_014999_01C05F_1C87.zip\" -O \"/media/gert/SAR_data/radar_database/Sentinel-1/s1_asc_t098/IW_SLC__1SSH_HH/20190218/S1B_IW_SLC__1SSH_20190218T105531_20190218T105559_014999_01C05F_1C87.zip\"\n",
      "wget -c --http-user=gertmulder --http-password=Radar2016 --no-check-certificate \"https://datapool.asf.alaska.edu/SLC/SA/S1B_IW_SLC__1SSH_20190218T105503_20190218T105533_014999_01C05F_FAA3.zip\" -O \"/media/gert/SAR_data/radar_database/Sentinel-1/s1_asc_t098/IW_SLC__1SSH_HH/20190218/S1B_IW_SLC__1SSH_20190218T105503_20190218T105533_014999_01C05F_FAA3.zip\"\n",
      "wget -c --http-user=gertmulder --http-password=Radar2016 --no-check-certificate \"https://datapool.asf.alaska.edu/SLC/SA/S1A_IW_SLC__1SSH_20190212T105728_20190212T105755_025895_02E209_18D8.zip\" -O \"/media/gert/SAR_data/radar_database/Sentinel-1/s1_asc_t098/IW_SLC__1SSH_HH/20190212/S1A_IW_SLC__1SSH_20190212T105728_20190212T105755_025895_02E209_18D8.zip\"\n",
      "wget -c --http-user=gertmulder --http-password=Radar2016 --no-check-certificate \"https://datapool.asf.alaska.edu/SLC/SA/S1A_IW_SLC__1SSH_20190212T105703_20190212T105730_025895_02E209_34B7.zip\" -O \"/media/gert/SAR_data/radar_database/Sentinel-1/s1_asc_t098/IW_SLC__1SSH_HH/20190212/S1A_IW_SLC__1SSH_20190212T105703_20190212T105730_025895_02E209_34B7.zip\"\n",
      "wget -c --http-user=gertmulder --http-password=Radar2016 --no-check-certificate \"https://datapool.asf.alaska.edu/SLC/SA/S1A_IW_SLC__1SSH_20190212T105638_20190212T105705_025895_02E209_4ED6.zip\" -O \"/media/gert/SAR_data/radar_database/Sentinel-1/s1_asc_t098/IW_SLC__1SSH_HH/20190212/S1A_IW_SLC__1SSH_20190212T105638_20190212T105705_025895_02E209_4ED6.zip\"\n",
      "wget -c --http-user=gertmulder --http-password=Radar2016 --no-check-certificate \"https://datapool.asf.alaska.edu/SLC/SA/S1A_IW_SLC__1SSH_20190212T105613_20190212T105641_025895_02E209_E348.zip\" -O \"/media/gert/SAR_data/radar_database/Sentinel-1/s1_asc_t098/IW_SLC__1SSH_HH/20190212/S1A_IW_SLC__1SSH_20190212T105613_20190212T105641_025895_02E209_E348.zip\"\n",
      "wget -c --http-user=gertmulder --http-password=Radar2016 --no-check-certificate \"https://datapool.asf.alaska.edu/SLC/SA/S1A_IW_SLC__1SSH_20190212T105545_20190212T105615_025895_02E209_7731.zip\" -O \"/media/gert/SAR_data/radar_database/Sentinel-1/s1_asc_t098/IW_SLC__1SSH_HH/20190212/S1A_IW_SLC__1SSH_20190212T105545_20190212T105615_025895_02E209_7731.zip\"\n",
      "wget -c --http-user=gertmulder --http-password=Radar2016 --no-check-certificate \"https://datapool.asf.alaska.edu/SLC/SA/S1B_IW_SLC__1SSH_20190206T105647_20190206T105714_014824_01BA9F_9681.zip\" -O \"/media/gert/SAR_data/radar_database/Sentinel-1/s1_asc_t098/IW_SLC__1SSH_HH/20190206/S1B_IW_SLC__1SSH_20190206T105647_20190206T105714_014824_01BA9F_9681.zip\"\n",
      "wget -c --http-user=gertmulder --http-password=Radar2016 --no-check-certificate \"https://datapool.asf.alaska.edu/SLC/SA/S1B_IW_SLC__1SSH_20190206T105622_20190206T105649_014824_01BA9F_9A1A.zip\" -O \"/media/gert/SAR_data/radar_database/Sentinel-1/s1_asc_t098/IW_SLC__1SSH_HH/20190206/S1B_IW_SLC__1SSH_20190206T105622_20190206T105649_014824_01BA9F_9A1A.zip\"\n"
     ]
    }
   ],
   "source": [
    "# Track and data type of Sentinel data\n",
    "mode = 'IW'\n",
    "product_type = 'SLC'\n",
    "polarisation = 'HH'\n",
    "\n",
    "from rippl.processing_templates.general_sentinel_1 import GeneralPipelines\n",
    "\n",
    "# Create the list of the 4 different stacks.\n",
    "track_no = 98\n",
    "stack_name = 'ice_sheet_Antarctica'\n",
    "tmp_directory = '/media/gert/SAR_processing/SAR_tmp'\n",
    "if not os.path.exists(tmp_directory):\n",
    "    os.mkdir(tmp_directory)\n",
    "coreg_tmp_directory = '/media/gert/SAR_processing/SAR_tmp'\n",
    "if not os.path.exists(coreg_tmp_directory):\n",
    "    os.mkdir(coreg_tmp_directory)\n",
    "ml_grid_tmp_directory = '/media/gert/SAR_processing/SAR_tmp'\n",
    "if not os.path.exists(ml_grid_tmp_directory):\n",
    "    os.mkdir(ml_grid_tmp_directory)\n",
    "# For every track we have to select a master date. This is based on the search results earlier.\n",
    "# Choose the date with the lowest coverage to create an image with only the overlapping parts.\n",
    "master_date = datetime.datetime(year=2018, month=4, day=24)\n",
    "\n",
    "# Number of processes for parallel processing. Make sure that for every process at least 2GB of RAM is available\n",
    "no_processes = 6\n",
    "\n",
    "s1_processing = GeneralPipelines(processes=no_processes)\n",
    "# s1_processing.download_sentinel_data(start_date=start_date, end_date=end_date, track=track_no,\n",
    "#                                           polarisation=polarisation, shapefile=study_area.shape, data=True, source='ASF')\n",
    "# s1_processing.create_sentinel_stack(start_date=start_date, end_date=end_date, master_date=master_date, cores=no_processes,\n",
    "#                                          track=track_no,stack_name=stack_name, polarisation=polarisation,\n",
    "#                                          shapefile=study_area.shape, mode=mode, product_type=product_type)\n",
    "\n",
    "# Finally load the stack itself. If you want to skip the download step later, run this line before other steps!\n",
    "s1_processing.read_stack(start_date=start_date, end_date=end_date, stack_name=stack_name)"
   ]
  },
  {
   "cell_type": "markdown",
   "metadata": {
    "pycharm": {
     "name": "#%% md\n"
    }
   },
   "source": [
    "To define the location of the radar pixels on the ground we need the terrain elevation. Although it is possible to \n",
    "derive terrain elevation from InSAR data, our used Sentinel-1 dataset is not suitable for this purpose. Therefore, we\n",
    "download data from an external source to create a digital elevation model (DEM). In our case we use TanDEM-X data.\n",
    "\n",
    "However, to find the elevation of the SAR data grid, we have to resample the data to the radar grid first to make it\n",
    "usable. This is done in the next steps."
   ]
  },
  {
   "cell_type": "code",
   "execution_count": null,
   "metadata": {
    "pycharm": {
     "name": "#%%\n"
    }
   },
   "outputs": [],
   "source": [
    "# Some basic settings for DEM creation.\n",
    "dem_buffer = 0.1        # Buffer around radar image where DEM data is downloaded\n",
    "dem_rounding = 0.1      # Rounding of DEM size in degrees\n",
    "dem_type = 'TanDEM-X'      # DEM type of data we download (SRTM1, SRTM3 and TanDEM-X are supported)\n",
    "\n",
    "# Define both the coordinate system of the full radar image and imported DEM\n",
    "s1_processing.create_radar_coordinates()\n",
    "s1_processing.create_dem_coordinates(dem_type=dem_type)\n",
    "\n",
    "# Download external DEM\n",
    "s1_processing.download_external_dem(dem_type=dem_type, buffer=dem_buffer, rounding=dem_rounding, n_processes=no_processes)"
   ]
  },
  {
   "cell_type": "markdown",
   "metadata": {
    "pycharm": {
     "name": "#%% md\n"
    }
   },
   "source": [
    "Using the obtained elevation model the exact location of the radar pixels in cartesian (X,Y,Z) and geographic (Lat/Lon)\n",
    "can be derived. This is only done for the master or reference image. This process is referred to as geocoding."
   ]
  },
  {
   "cell_type": "code",
   "execution_count": null,
   "metadata": {
    "pycharm": {
     "name": "#%% \n"
    }
   },
   "outputs": [],
   "source": [
    "# Geocoding of image\n",
    "s1_processing.geocoding()"
   ]
  },
  {
   "cell_type": "markdown",
   "metadata": {
    "pycharm": {
     "name": "#%% md\n"
    }
   },
   "source": [
    "The information from the geocoding can directly be used to find the location of the master grid pixels in the slave\n",
    "grid images. This process is called coregistration. Because the orbits are not exactly the same with every satellite \n",
    "overpass but differ hundreds to a few thousand meters every overpass, the grids are slightly shifted with respect to \n",
    "each other. These shift are referred to as the spatial baseline of the images. To correctly overlay the master and slave\n",
    "images the software coregisters and resamples to the master grid.\n",
    "\n",
    "To do so the following steps are done:\n",
    "1. Coregistration of slave to master image\n",
    "2. Deramping the doppler effects due to TOPs mode of Sentinel-1 satellite\n",
    "3. Resampling of slave image\n",
    "4. Reramping resampled slave image.\n",
    "\n",
    "Due to the different orbits of the master and slave image, the phase of the radar signal is also shifted. We do not \n",
    "know the exact shift of the two image, but using the geometry of the two images we can estimate the shift of the phase\n",
    "between different pixels. Often this shift is split in two contributions:\n",
    "1. The flat earth phase. This phase is the shift in the case the earth was a perfect ellipsoid\n",
    "2. The topographic phase. This is the phase shift due to the topography on the ground.\n",
    "In our processing these two corrections are done in one go."
   ]
  },
  {
   "cell_type": "code",
   "execution_count": null,
   "metadata": {
    "pycharm": {
     "name": "#%%\n",
     "is_executing": true
    }
   },
   "outputs": [],
   "source": [
    "# Next step applies resampling and phase correction in one step.\n",
    "# Polarisation\n",
    "s1_processing.geometric_coregistration_resampling(polarisation=polarisation, output_phase_correction=True,\n",
    "                                                  coreg_tmp_directory=coreg_tmp_directory, baselines=False, height_to_phase=True)\n",
    "shutil.rmtree(coreg_tmp_directory)\n",
    "os.mkdir(coreg_tmp_directory)"
   ]
  },
  {
   "cell_type": "markdown",
   "metadata": {
    "pycharm": {
     "name": "#%% md\n"
    }
   },
   "source": [
    "Now we can create calibrated amplitudes, interferograms and coherences."
   ]
  },
  {
   "cell_type": "code",
   "execution_count": null,
   "metadata": {
    "pycharm": {
     "name": "#%%\n",
     "is_executing": true
    }
   },
   "outputs": [],
   "source": [
    "# Load the images in blocks to temporary disk (or not if only coreg data is loaded to temp disk)\n",
    "temporal_baseline = 60\n",
    "min_timespan = temporal_baseline * 2\n",
    "# Every process can only run 1 multilooking job. Therefore, in the case of amplitude calculation the number of processes\n",
    "# is limited too the number of images loaded.\n",
    "amp_processing_efficiency = 0.5\n",
    "effective_timespan = np.maximum(no_processes * 6 * amp_processing_efficiency, min_timespan)\n",
    "\n",
    "no_days = datetime.timedelta(days=int(effective_timespan / 2))\n",
    "if no_days < (end_date - start_date):\n",
    "    step_date = start_date\n",
    "    step_dates = []\n",
    "    while step_date < end_date:\n",
    "        step_dates.append(step_date)\n",
    "        step_date += no_days\n",
    "    step_dates.append(end_date)\n",
    "\n",
    "    start_dates = step_dates[:-2]\n",
    "    end_dates = step_dates[2:]\n",
    "else:\n",
    "    end_dates = [end_date]\n",
    "    start_dates = [start_date]\n",
    "\n",
    "\n",
    "if not isinstance(polarisation, list):\n",
    "    pol = [polarisation]\n",
    "else:\n",
    "    pol = polarisation\n",
    "\n",
    "for start_date, end_date in zip(start_dates, end_dates):\n",
    "    s1_processing.read_stack(start_date=start_date, end_date=end_date, stack_name=stack_name)\n",
    "    # We split the different polarisation to limit the number of files in the temporary folder.\n",
    "    for p in pol:\n",
    "        for dist in [50, 100, 200]:\n",
    "            # The actual creation of the calibrated amplitude images\n",
    "            s1_processing.create_ml_coordinates(standard_type='oblique_mercator', dx=dist, dy=dist, buffer=0, rounding=0)\n",
    "            s1_processing.prepare_multilooking_grid(polarisation)\n",
    "            s1_processing.create_calibrated_amplitude_multilooked(polarisation, coreg_tmp_directory=coreg_tmp_directory, tmp_directory=tmp_directory)\n",
    "            s1_processing.create_output_tiffs_amplitude()\n",
    "\n",
    "            s1_processing.create_ifg_network(temporal_baseline=temporal_baseline)\n",
    "            s1_processing.create_interferogram_multilooked(polarisation, coreg_tmp_directory=ml_grid_tmp_directory, tmp_directory=tmp_directory)\n",
    "            s1_processing.create_coherence_multilooked(polarisation, coreg_tmp_directory=ml_grid_tmp_directory, tmp_directory=tmp_directory)\n",
    "\n",
    "            # Create output geotiffs\n",
    "            s1_processing.create_output_tiffs_coherence_ifg()\n",
    "\n",
    "            # Create lat/lon/incidence angle/DEM for multilooked grid.\n",
    "            s1_processing.create_geometry_mulitlooked(baselines=True, height_to_phase=True)\n",
    "            s1_processing.create_output_tiffs_geometry()\n",
    "\n",
    "            # The coreg temp directory will only contain the loaded input lines/pixels to do the multilooking. These\n",
    "            # files will be called by every process so it can be usefull to load them in memory the whole time.\n",
    "            # If not given, these files will be loaded in the regular tmp folder.\n",
    "            if coreg_tmp_directory:\n",
    "                if os.path.exists(ml_grid_tmp_directory):\n",
    "                    shutil.rmtree(ml_grid_tmp_directory)\n",
    "                    os.mkdir(ml_grid_tmp_directory)\n",
    "\n",
    "        if tmp_directory:\n",
    "            if os.path.exists(tmp_directory):\n",
    "                shutil.rmtree(tmp_directory)\n",
    "                os.mkdir(tmp_directory)"
   ]
  }
 ],
 "metadata": {
  "kernelspec": {
   "display_name": "Python 3",
   "language": "python",
   "name": "python3"
  },
  "language_info": {
   "codemirror_mode": {
    "name": "ipython",
    "version": 3
   },
   "file_extension": ".py",
   "mimetype": "text/x-python",
   "name": "python",
   "nbconvert_exporter": "python",
   "pygments_lexer": "ipython3",
   "version": "3.7.6"
  }
 },
 "nbformat": 4,
 "nbformat_minor": 1
}