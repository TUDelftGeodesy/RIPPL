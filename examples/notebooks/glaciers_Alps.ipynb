{
 "cells": [
  {
   "cell_type": "markdown",
   "metadata": {
    "collapsed": true,
    "pycharm": {
     "name": "#%% md\n"
    }
   },
   "source": [
    "In this notebook we process a large part of the glaciers in the Alps. The image is chosen in such a way that the\n",
    "most important glaciers in France/Austria/Switzerland/Italy are covered."
   ]
  },
  {
   "cell_type": "code",
   "execution_count": 1,
   "metadata": {
    "pycharm": {
     "name": "#%%\n"
    }
   },
   "outputs": [],
   "source": [
    "# Import script to embed geolocation.\n",
    "from IPython.display import HTML\n",
    "import datetime\n",
    "\n",
    "import sys\n",
    "sys.path.extend(['/Users/gertmulder/software/rippl_main'])\n",
    "\n",
    "from rippl.orbit_geometry.read_write_shapes import ReadWriteShapes\n",
    "from rippl.SAR_sensors.sentinel.sentinel_download import DownloadSentinel\n",
    "from rippl.processing_templates.general_sentinel_1 import GeneralPipelines\n",
    "\n",
    "glacier_shape = [[11.260986328125, 46.84516443029276],\n",
    "            [12.095947265625, 46.803819640791545],\n",
    "            [13.073730468750002, 46.830133640447386],\n",
    "            [13.5955810546875, 46.9465122958623],\n",
    "            [13.403320312499998, 47.204642388766935],\n",
    "            [10.607299804687523, 47.247542522267985],\n",
    "            [9.6240234375, 46.927758623434435],\n",
    "            [8.827514648437523, 47.00835281693702],\n",
    "            [7.772827148437526, 46.63246472462745],\n",
    "            [6.701660156249999, 46.118941506107056],\n",
    "            [6.597290039062523, 45.673563046842496],\n",
    "            [6.0150146484375, 45.263288531496855],\n",
    "            [6.0479736328125, 44.762336674810996],\n",
    "            [6.43798828125, 44.793530904744046],\n",
    "            [6.6796875, 44.98034238084973],\n",
    "            [7.2894287109375,45.28261705751738],\n",
    "            [7.3663330078125, 45.4947963896697],\n",
    "            [8.052978515625, 45.84028105450088],\n",
    "            [8.316650390625, 46.20264638061017],\n",
    "            [8.9208984375, 46.244451065485066],\n",
    "            [9.563598632812523, 46.1246527020117],\n",
    "            [10.2557373046875, 46.1912395780416],\n",
    "            [10.838012695312523, 46.50406399740095],\n",
    "            [11.260986328125, 46.84516443029276]]\n",
    "study_area = ReadWriteShapes()\n",
    "study_area(glacier_shape)\n",
    "\n",
    "geojson = study_area.shape\n",
    "\n",
    "# Try to do the same by creating a shapefile with QGIS, geojson online or a .kml file in google earth.\n",
    "# study_area.read_kml(kml_path)\n",
    "# study_area.read_geo_json(geojson_path)\n",
    "# study_area.read_shapefile(shapefile_path)"
   ]
  },
  {
   "cell_type": "markdown",
   "metadata": {
    "pycharm": {
     "name": "#%% md\n"
    }
   },
   "source": [
    "The next step in the processing is selection of the right track, as the Sentinel-1 satellite will cover the area on both\n",
    "ascending and descending tracks. However, to do so, we will have to define the start and end date of our data search,\n",
    "because the satellite is not always acquiring data.\n",
    "Next search will give a small oversight of the available tracks during our period of interest. In our case we will\n",
    "search one week before and one week after the earthquake.\n",
    "\n",
    "Watch out with extending the search window, this can result in a lot of images. Note that every downloaded file will take approximately 4GB of disk space!"
   ]
  },
  {
   "cell_type": "code",
   "execution_count": 2,
   "metadata": {
    "pycharm": {
     "name": "#%%\n"
    }
   },
   "outputs": [],
   "source": [
    "# First we search using a time window\n",
    "\n",
    "# Track and data type of Sentinel data\n",
    "mode = 'IW'\n",
    "product_type = 'SLC'\n",
    "polarisation = 'VV'\n",
    "\n",
    "# First we check using a time window\n",
    "start_date = datetime.datetime(year=2018, month=9, day=1)\n",
    "end_date = datetime.datetime(year=2018, month=10, day=1)\n",
    "\n",
    "# find_track = DownloadSentinel(start_date=start_date, end_date=end_date, shape=study_area.shape, sensor_mode=mode,\n",
    "#                              polarisation=polarisation)\n",
    "# find_track.sentinel_search_ASF()\n",
    "# find_track.summarize_search_results(plot_cartopy=True, buffer=2)"
   ]
  },
  {
   "cell_type": "markdown",
   "source": [
    "After selection of the right track we can start the actual download of the images. In our case we use track 66.\n",
    "\n",
    "This will download our data automatically to our radar database. Additionally, it will download the precise orbit files.\n",
    "These files are created within a few weeks after the data acquisition and define the satellite orbit within a few cm\n",
    "accuracy. These orbits are necessary to accurately define the positions of the radar pixels on the ground later on\n",
    "in the processing.\n"
   ],
   "metadata": {
    "collapsed": false
   }
  },
  {
   "cell_type": "code",
   "execution_count": 3,
   "metadata": {
    "pycharm": {
     "name": "#%%\n"
    }
   },
   "outputs": [],
   "source": [
    "# Track and data type of Sentinel data\n",
    "mode = 'IW'\n",
    "product_type = 'SLC'\n",
    "polarisation = 'VV'\n",
    "\n",
    "from rippl.processing_templates.general_sentinel_1 import GeneralPipelines\n",
    "\n",
    "# Create the list of the 4 different stacks.\n",
    "track_no = 66\n",
    "stack_name = 'glaciers_Alps'\n",
    "# For every track we have to select a master date. This is based on the search results earlier.\n",
    "# Choose the date with the lowest coverage to create an image with only the overlapping parts.\n",
    "master_date = datetime.datetime(year=2018, month=8, day=20)\n",
    "\n",
    "# Stack test\n",
    "start_date = datetime.datetime(year=2018, month=8, day=19)\n",
    "end_date = datetime.datetime(year=2018, month=8, day=30)\n",
    "\n",
    "# Number of processes for parallel processing. Make sure that for every process at least 2GB of RAM is available\n",
    "no_processes = 4\n",
    "\n",
    "s1_processing = GeneralPipelines(processes=no_processes)\n",
    "#s1_processing.download_sentinel_data(start_date=start_date, end_date=end_date, track=track_no,\n",
    "#                                           polarisation=polarisation, shapefile=study_area.shape, data=True, source='ASF')\n",
    "#s1_processing.create_sentinel_stack(start_date=start_date, end_date=end_date, master_date=master_date, cores=no_processes,\n",
    "#                                          track=track_no,stack_name=stack_name, polarisation=polarisation,\n",
    "#                                          shapefile=study_area.shape, mode=mode, product_type=product_type)\n",
    "\n",
    "# Finally load the stack itself. If you want to skip the download step later, run this line before other steps!\n",
    "s1_processing.read_stack(start_date=start_date, end_date=end_date, stack_name=stack_name)"
   ]
  },
  {
   "cell_type": "markdown",
   "metadata": {
    "pycharm": {
     "name": "#%% md\n"
    }
   },
   "source": [
    "To define the location of the radar pixels on the ground we need the terrain elevation. Although it is possible to \n",
    "derive terrain elevation from InSAR data, our used Sentinel-1 dataset is not suitable for this purpose. Therefore, we\n",
    "download data from an external source to create a digital elevation model (DEM). In our case we use SRTM data. \n",
    "\n",
    "However, to find the elevation of the SAR data grid, we have to resample the data to the radar grid first to make it\n",
    "usable. This is done in the next steps."
   ]
  },
  {
   "cell_type": "code",
   "execution_count": 5,
   "metadata": {
    "pycharm": {
     "name": "#%%\n"
    }
   },
   "outputs": [],
   "source": [
    "# Some basic settings for DEM creation.\n",
    "dem_buffer = 0.1        # Buffer around radar image where DEM data is downloaded\n",
    "dem_rounding = 0.1      # Rounding of DEM size in degrees\n",
    "dem_type = 'SRTM3'      # DEM type of data we download (SRTM1, SRTM3 and TanDEM-X are supported)\n",
    "\n",
    "# Define both the coordinate system of the full radar image and imported DEM\n",
    "s1_processing.create_radar_coordinates()\n",
    "s1_processing.create_dem_coordinates(dem_type=dem_type)\n",
    "\n",
    "# Download external DEM\n",
    "s1_processing.download_external_dem(buffer=dem_buffer, rounding=dem_rounding, n_processes=no_processes)"
   ]
  },
  {
   "cell_type": "markdown",
   "metadata": {
    "pycharm": {
     "name": "#%% md\n"
    }
   },
   "source": [
    "Using the obtained elevation model the exact location of the radar pixels in cartesian (X,Y,Z) and geographic (Lat/Lon)\n",
    "can be derived. This is only done for the master or reference image. This process is referred to as geocoding."
   ]
  },
  {
   "cell_type": "code",
   "execution_count": 5,
   "metadata": {
    "pycharm": {
     "name": "#%% \n"
    }
   },
   "outputs": [
    {
     "name": "stdout",
     "output_type": "stream",
     "text": [
      "Processing pipeline block 1 out of 4\n",
      "Processing pipeline block 2 out of 4\n",
      "Processing pipeline block 3 out of 4\n",
      "Processing pipeline block 4 out of 4\n",
      "Processing pipeline block 1 out of 4\n",
      "Processing pipeline block 2 out of 4\n",
      "Processing pipeline block 3 out of 4\n",
      "Processing pipeline block 4 out of 4\n",
      "Concatenated dataset already exists. If you want to overwrite set overwrite to True\n",
      "Concatenated dataset already exists. If you want to overwrite set overwrite to True\n",
      "Finished concatenation geocode of /Users/gertmulder/SAR_processing/radar_data_stacks/sentinel1/glaciers_Alps/20180820\n",
      "Finished concatenation geocode of /Users/gertmulder/SAR_processing/radar_data_stacks/sentinel1/glaciers_Alps/20180820\n",
      "Concatenated dataset already exists. If you want to overwrite set overwrite to True\n"
     ]
    }
   ],
   "source": [
    "# Geocoding of image\n",
    "s1_processing.geocoding()"
   ]
  },
  {
   "cell_type": "markdown",
   "metadata": {
    "pycharm": {
     "name": "#%% md\n"
    }
   },
   "source": [
    "The information from the geocoding can directly be used to find the location of the master grid pixels in the slave\n",
    "grid images. This process is called coregistration. Because the orbits are not exactly the same with every satellite \n",
    "overpass but differ hundreds to a few thousand meters every overpass, the grids are slightly shifted with respect to \n",
    "each other. These shift are referred to as the spatial baseline of the images. To correctly overlay the master and slave\n",
    "images the software coregisters and resamples to the master grid.\n",
    "\n",
    "To do so the following steps are done:\n",
    "1. Coregistration of slave to master image\n",
    "2. Deramping the doppler effects due to TOPs mode of Sentinel-1 satellite\n",
    "3. Resampling of slave image\n",
    "4. Reramping resampled slave image.\n",
    "\n",
    "Due to the different orbits of the master and slave image, the phase of the radar signal is also shifted. We do not \n",
    "know the exact shift of the two image, but using the geometry of the two images we can estimate the shift of the phase\n",
    "between different pixels. Often this shift is split in two contributions:\n",
    "1. The flat earth phase. This phase is the shift in the case the earth was a perfect ellipsoid\n",
    "2. The topographic phase. This is the phase shift due to the topography on the ground.\n",
    "In our processing these two corrections are done in one go."
   ]
  },
  {
   "cell_type": "code",
   "execution_count": null,
   "metadata": {
    "pycharm": {
     "name": "#%%\n"
    }
   },
   "outputs": [],
   "source": [
    "# Next step applies resampling and phase correction in one step.\n",
    "# Polarisation\n",
    "s1_processing.geometric_coregistration_resampling(polarisation=polarisation, output_phase_correction=True)"
   ]
  },
  {
   "cell_type": "markdown",
   "metadata": {
    "pycharm": {
     "name": "#%% md\n"
    }
   },
   "source": [
    "Now we can create calibrated amplitudes, interferograms and coherences."
   ]
  },
  {
   "cell_type": "code",
   "execution_count": 6,
   "metadata": {
    "pycharm": {
     "name": "#%%\n"
    }
   },
   "outputs": [
    {
     "name": "stdout",
     "output_type": "stream",
     "text": [
      "Processing pipeline block 1 out of 1\n",
      "Start time block 1 is 2020-10-27 14:34:32.702496\n",
      "Skipping processing. Process already finished\n",
      "Skipping processing. Process already finished\n",
      "Finished processing pipeline block 1 out of 1\n",
      "Finished block 1 in 0:00:00.145344\n",
      "File /Users/gertmulder/SAR_processing/radar_data_products/sentinel1/glaciers_Alps/calibrated_amplitude/proj_oblique_mercator_50_50/20180820_calibrated_amplitude_db_VV@proj_oblique_mercator_50_50_in_coor_radar.tiff does already exist\n",
      "File /Users/gertmulder/SAR_processing/radar_data_products/sentinel1/glaciers_Alps/calibrated_amplitude/proj_oblique_mercator_50_50/20180820_no_of_looks_VV@proj_oblique_mercator_50_50_in_coor_radar.tiff does already exist\n",
      "File /Users/gertmulder/SAR_processing/radar_data_products/sentinel1/glaciers_Alps/calibrated_amplitude/proj_oblique_mercator_50_50/20180826_calibrated_amplitude_db_VV@proj_oblique_mercator_50_50_in_coor_radar.tiff does already exist\n",
      "Processing pipeline block 1 out of 1\n",
      "Start time block 1 is 2020-10-27 14:34:33.382889\n",
      "Skipping processing. Process already finished\n",
      "Finished processing pipeline block 1 out of 1\n",
      "Finished block 1 in 0:00:00.137663\n",
      "Processing pipeline block 1 out of 1\n",
      "Start time block 1 is 2020-10-27 14:34:34.030634\n",
      "Skipping processing. Process already finished\n",
      "Skipping processing. Process already finished\n",
      "Finished processing pipeline block 1 out of 1\n",
      "Finished block 1 in 0:00:00.147709\n",
      "Processing pipeline block 1 out of 1\n",
      "Start time block 1 is 2020-10-27 14:34:34.704999\n",
      "Skipping processing. Process already finished\n",
      "Finished processing pipeline block 1 out of 1\n",
      "Finished block 1 in 0:00:00.141232\n",
      "File /Users/gertmulder/SAR_processing/radar_data_products/sentinel1/glaciers_Alps/coherence/proj_oblique_mercator_50_50/20180820_20180826_coherence_VV@proj_oblique_mercator_50_50_in_coor_proj_oblique_mercator_50_50.tiff does already exist\n",
      "File /Users/gertmulder/SAR_processing/radar_data_products/sentinel1/glaciers_Alps/interferogram/proj_oblique_mercator_50_50/20180820_20180826_interferogram_VV@proj_oblique_mercator_50_50_in_coor_radar.tiff does already exist\n",
      "Processing pipeline block 1 out of 1\n",
      "Start time block 1 is 2020-10-27 14:34:35.333298\n",
      "Skipping processing. Process already finished\n",
      "Finished processing pipeline block 1 out of 1\n",
      "Finished block 1 in 0:00:01.274258\n",
      "Processing pipeline block 1 out of 1\n",
      "Start time block 1 is 2020-10-27 14:34:37.009148\n",
      "Skipping processing. Process already finished\n",
      "Finished processing pipeline block 1 out of 1\n",
      "Finished block 1 in 0:00:00.138551\n",
      "Processing pipeline block 1 out of 1\n",
      "Start time block 1 is 2020-10-27 14:34:37.502814\n",
      "Skipping processing. Process already finished\n",
      "Finished processing pipeline block 1 out of 1\n",
      "Finished block 1 in 0:00:00.152308\n",
      "Processing pipeline block 1 out of 1\n",
      "Start time block 1 is 2020-10-27 14:34:38.227620\n",
      "Skipping processing. Process already finished\n",
      "Finished processing pipeline block 1 out of 1\n",
      "Finished block 1 in 0:01:19.556727\n",
      "File /Users/gertmulder/SAR_processing/radar_data_products/sentinel1/glaciers_Alps/radar_ray_angles/proj_oblique_mercator_50_50/20180820_incidence_angle@proj_oblique_mercator_50_50.tiff does already exist\n",
      "File /Users/gertmulder/SAR_processing/radar_data_products/sentinel1/glaciers_Alps/geocode/proj_oblique_mercator_50_50/20180820_lat@proj_oblique_mercator_50_50.tiff does already exist\n",
      "File /Users/gertmulder/SAR_processing/radar_data_products/sentinel1/glaciers_Alps/geocode/proj_oblique_mercator_50_50/20180820_lon@proj_oblique_mercator_50_50.tiff does already exist\n",
      "File /Users/gertmulder/SAR_processing/radar_data_products/sentinel1/glaciers_Alps/dem/proj_oblique_mercator_50_50/20180820_dem@proj_oblique_mercator_50_50_in_coor_geo_WGS84_3_3.tiff does already exist\n",
      "Processing pipeline block 1 out of 1\n",
      "Start time block 1 is 2020-10-27 14:36:00.794055\n",
      "Skipping processing. Process already finished\n",
      "Skipping processing. Process already finished\n",
      "Finished processing pipeline block 1 out of 1\n",
      "Finished block 1 in 0:00:00.143194\n",
      "File /Users/gertmulder/SAR_processing/radar_data_products/sentinel1/glaciers_Alps/calibrated_amplitude/proj_oblique_mercator_100_100/20180820_calibrated_amplitude_db_VV@proj_oblique_mercator_100_100_in_coor_radar.tiff does already exist\n",
      "File /Users/gertmulder/SAR_processing/radar_data_products/sentinel1/glaciers_Alps/calibrated_amplitude/proj_oblique_mercator_100_100/20180820_no_of_looks_VV@proj_oblique_mercator_100_100_in_coor_radar.tiff does already exist\n",
      "File /Users/gertmulder/SAR_processing/radar_data_products/sentinel1/glaciers_Alps/calibrated_amplitude/proj_oblique_mercator_100_100/20180826_calibrated_amplitude_db_VV@proj_oblique_mercator_100_100_in_coor_radar.tiff does already exist\n",
      "Processing pipeline block 1 out of 1\n",
      "Start time block 1 is 2020-10-27 14:36:01.551729\n",
      "Skipping processing. Process already finished\n",
      "Finished processing pipeline block 1 out of 1\n",
      "Finished block 1 in 0:00:00.135041\n",
      "Processing pipeline block 1 out of 1\n",
      "Start time block 1 is 2020-10-27 14:36:02.255807\n",
      "Skipping processing. Process already finished\n",
      "Skipping processing. Process already finished\n",
      "Finished processing pipeline block 1 out of 1\n",
      "Finished block 1 in 0:00:00.145101\n",
      "Processing pipeline block 1 out of 1\n",
      "Start time block 1 is 2020-10-27 14:36:02.849068\n",
      "Skipping processing. Process already finished\n",
      "Finished processing pipeline block 1 out of 1\n",
      "Finished block 1 in 0:00:00.141294\n",
      "File /Users/gertmulder/SAR_processing/radar_data_products/sentinel1/glaciers_Alps/coherence/proj_oblique_mercator_100_100/20180820_20180826_coherence_VV@proj_oblique_mercator_100_100_in_coor_proj_oblique_mercator_100_100.tiff does already exist\n",
      "File /Users/gertmulder/SAR_processing/radar_data_products/sentinel1/glaciers_Alps/interferogram/proj_oblique_mercator_100_100/20180820_20180826_interferogram_VV@proj_oblique_mercator_100_100_in_coor_radar.tiff does already exist\n",
      "Processing pipeline block 1 out of 1\n",
      "Start time block 1 is 2020-10-27 14:36:03.472903\n",
      "Skipping processing. Process already finished\n",
      "Finished processing pipeline block 1 out of 1\n",
      "Finished block 1 in 0:00:01.198872\n",
      "Processing pipeline block 1 out of 1\n",
      "Start time block 1 is 2020-10-27 14:36:05.014604\n",
      "Skipping processing. Process already finished\n",
      "Finished processing pipeline block 1 out of 1\n",
      "Finished block 1 in 0:00:00.138845\n",
      "Processing pipeline block 1 out of 1\n",
      "Start time block 1 is 2020-10-27 14:36:05.575350\n",
      "Skipping processing. Process already finished\n",
      "Finished processing pipeline block 1 out of 1\n",
      "Finished block 1 in 0:00:00.146445\n",
      "Processing pipeline block 1 out of 1\n",
      "Start time block 1 is 2020-10-27 14:36:06.209400\n",
      "Skipping processing. Process already finished\n",
      "Finished processing pipeline block 1 out of 1\n",
      "Finished block 1 in 0:00:27.449010\n",
      "File /Users/gertmulder/SAR_processing/radar_data_products/sentinel1/glaciers_Alps/radar_ray_angles/proj_oblique_mercator_100_100/20180820_incidence_angle@proj_oblique_mercator_100_100.tiff does already exist\n",
      "File /Users/gertmulder/SAR_processing/radar_data_products/sentinel1/glaciers_Alps/geocode/proj_oblique_mercator_100_100/20180820_lat@proj_oblique_mercator_100_100.tiff does already exist\n",
      "File /Users/gertmulder/SAR_processing/radar_data_products/sentinel1/glaciers_Alps/geocode/proj_oblique_mercator_100_100/20180820_lon@proj_oblique_mercator_100_100.tiff does already exist\n",
      "File /Users/gertmulder/SAR_processing/radar_data_products/sentinel1/glaciers_Alps/dem/proj_oblique_mercator_100_100/20180820_dem@proj_oblique_mercator_100_100_in_coor_geo_WGS84_3_3.tiff does already exist\n",
      "Processing pipeline block 1 out of 1\n",
      "Start time block 1 is 2020-10-27 14:36:35.815990\n",
      "Skipping processing. Process already finished\n",
      "Skipping processing. Process already finished\n",
      "Finished processing pipeline block 1 out of 1\n",
      "Finished block 1 in 0:00:00.143279\n",
      "File /Users/gertmulder/SAR_processing/radar_data_products/sentinel1/glaciers_Alps/calibrated_amplitude/proj_oblique_mercator_200_200/20180820_calibrated_amplitude_db_VV@proj_oblique_mercator_200_200_in_coor_radar.tiff does already exist\n",
      "File /Users/gertmulder/SAR_processing/radar_data_products/sentinel1/glaciers_Alps/calibrated_amplitude/proj_oblique_mercator_200_200/20180820_no_of_looks_VV@proj_oblique_mercator_200_200_in_coor_radar.tiff does already exist\n",
      "File /Users/gertmulder/SAR_processing/radar_data_products/sentinel1/glaciers_Alps/calibrated_amplitude/proj_oblique_mercator_200_200/20180826_calibrated_amplitude_db_VV@proj_oblique_mercator_200_200_in_coor_radar.tiff does already exist\n",
      "Processing pipeline block 1 out of 1\n",
      "Start time block 1 is 2020-10-27 14:36:36.496571\n",
      "Skipping processing. Process already finished\n",
      "Finished processing pipeline block 1 out of 1\n",
      "Finished block 1 in 0:00:00.141089\n",
      "Processing pipeline block 1 out of 1\n",
      "Start time block 1 is 2020-10-27 14:36:37.159591\n",
      "Skipping processing. Process already finished\n",
      "Skipping processing. Process already finished\n",
      "Finished processing pipeline block 1 out of 1\n",
      "Finished block 1 in 0:00:00.144379\n",
      "Processing pipeline block 1 out of 1\n",
      "Start time block 1 is 2020-10-27 14:36:37.829360\n",
      "Skipping processing. Process already finished\n",
      "Finished processing pipeline block 1 out of 1\n",
      "Finished block 1 in 0:00:00.142457\n",
      "File /Users/gertmulder/SAR_processing/radar_data_products/sentinel1/glaciers_Alps/coherence/proj_oblique_mercator_200_200/20180820_20180826_coherence_VV@proj_oblique_mercator_200_200_in_coor_proj_oblique_mercator_200_200.tiff does already exist\n",
      "File /Users/gertmulder/SAR_processing/radar_data_products/sentinel1/glaciers_Alps/interferogram/proj_oblique_mercator_200_200/20180820_20180826_interferogram_VV@proj_oblique_mercator_200_200_in_coor_radar.tiff does already exist\n",
      "Processing pipeline block 1 out of 1\n",
      "Start time block 1 is 2020-10-27 14:36:38.482537\n",
      "Skipping processing. Process already finished\n",
      "Finished processing pipeline block 1 out of 1\n",
      "Finished block 1 in 0:00:01.205138\n",
      "Processing pipeline block 1 out of 1\n",
      "Start time block 1 is 2020-10-27 14:36:40.045134\n",
      "Skipping processing. Process already finished\n",
      "Finished processing pipeline block 1 out of 1\n",
      "Finished block 1 in 0:00:00.138740\n",
      "Processing pipeline block 1 out of 1\n",
      "Start time block 1 is 2020-10-27 14:36:40.618348\n",
      "Skipping processing. Process already finished\n",
      "Finished processing pipeline block 1 out of 1\n",
      "Finished block 1 in 0:00:00.146422\n",
      "Processing pipeline block 1 out of 1\n",
      "Start time block 1 is 2020-10-27 14:36:41.280294\n",
      "Skipping processing. Process already finished\n",
      "Finished processing pipeline block 1 out of 1\n",
      "Finished block 1 in 0:00:11.057940\n",
      "File /Users/gertmulder/SAR_processing/radar_data_products/sentinel1/glaciers_Alps/radar_ray_angles/proj_oblique_mercator_200_200/20180820_incidence_angle@proj_oblique_mercator_200_200.tiff does already exist\n",
      "File /Users/gertmulder/SAR_processing/radar_data_products/sentinel1/glaciers_Alps/geocode/proj_oblique_mercator_200_200/20180820_lat@proj_oblique_mercator_200_200.tiff does already exist\n",
      "File /Users/gertmulder/SAR_processing/radar_data_products/sentinel1/glaciers_Alps/geocode/proj_oblique_mercator_200_200/20180820_lon@proj_oblique_mercator_200_200.tiff does already exist\n",
      "File /Users/gertmulder/SAR_processing/radar_data_products/sentinel1/glaciers_Alps/dem/proj_oblique_mercator_200_200/20180820_dem@proj_oblique_mercator_200_200_in_coor_geo_WGS84_3_3.tiff does already exist\n"
     ]
    }
   ],
   "source": [
    "for dist in [50, 100, 200]:\n",
    "\n",
    "    # The actual creation of the calibrated amplitude images\n",
    "    s1_processing.create_ml_coordinates(standard_type='oblique_mercator', dx=dist, dy=dist, buffer=0, rounding=0)\n",
    "    # s1_processing.prepare_multilooking_grid(polarisation)\n",
    "    s1_processing.create_calibrated_amplitude_multilooked(polarisation)\n",
    "    s1_processing.create_output_tiffs_amplitude()\n",
    "\n",
    "    s1_processing.create_ifg_network(temporal_baseline=15)\n",
    "    s1_processing.create_interferogram_multilooked(polarisation)\n",
    "    s1_processing.create_coherence_multilooked(polarisation)\n",
    "\n",
    "    # Create output geotiffs\n",
    "    s1_processing.create_output_tiffs_coherence_ifg()\n",
    "\n",
    "    # Create lat/lon/incidence angle/DEM for multilooked grid.\n",
    "    s1_processing.create_geometry_mulitlooked(baselines=True)\n",
    "    s1_processing.create_output_tiffs_geometry()"
   ]
  }
 ],
 "metadata": {
  "kernelspec": {
   "display_name": "PyCharm (rippl_master)",
   "language": "python",
   "name": "pycharm-120a760a"
  },
  "language_info": {
   "codemirror_mode": {
    "name": "ipython",
    "version": 3
   },
   "file_extension": ".py",
   "mimetype": "text/x-python",
   "name": "python",
   "nbconvert_exporter": "python",
   "pygments_lexer": "ipython3",
   "version": "3.7.7"
  }
 },
 "nbformat": 4,
 "nbformat_minor": 1
}