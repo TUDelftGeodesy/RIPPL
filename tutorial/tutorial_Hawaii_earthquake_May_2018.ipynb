{
 "cells": [
  {
   "cell_type": "markdown",
   "metadata": {
    "collapsed": true,
    "pycharm": {
     "name": "#%% md\n"
    }
   },
   "source": [
    "In this notebook we will explain the RIPPL workflow based on a study case about the earthquake on one of the islands\n",
    "of Hawaii on May 4th 2018\n",
    "\n",
    "In the first block we define the study area. There are different options to do so.\n",
    "1. Create a shapefile (this can be done using ArcGIS or QGIS software)\n",
    "2. Create a kml file using google earth > https://www.google.com/earth/\n",
    "3. Create a geojson using > http://geojson.io\n",
    "4. Create a list of coordinates in lat/lon coordinate pairs. This is what we will do here. \n",
    "\n",
    "To show the study area it is possible to run both google earth and geojson within the notebook.\n",
    "\n",
    "For further background on this event you can read:\n",
    "https://en.wikipedia.org/wiki/2018_Hawaii_earthquake\n",
    "\n",
    "Following image shows the earthquake strength (credits: USGS 2018):\n",
    "![Image of Hawaii earthquake strength](https://en.wikipedia.org/wiki/2018_Hawaii_earthquake#/media/File:2018_Hawaii_earthquake.jpg)"
   ]
  },
  {
   "cell_type": "code",
   "execution_count": null,
   "metadata": {
    "pycharm": {
     "name": "#%%\n"
    }
   },
   "outputs": [],
   "source": [
    "# Import script to embed geolocation.\n",
    "from IPython.display import HTML\n",
    "import datetime\n",
    "\n",
    "import sys\n",
    "sys.path.extend(['Path/to/RIPPL/package'])\n",
    "\n",
    "from rippl.orbit_geometry.read_write_shapes import ReadWriteShapes\n",
    "from rippl.SAR_sensors.sentinel.sentinel_download import DownloadSentinel\n",
    "from rippl.processing_templates.general_sentinel_1 import GeneralPipelines\n",
    "\n",
    "Hawaii_shape = [(-155.75, 18.90), (-155.75, 20.2), (-154.75, 19.50), (-155.75, 18.90)]\n",
    "study_area = ReadWriteShapes()\n",
    "study_area(Hawaii_shape)\n",
    "\n",
    "geojson = study_area.shape\n",
    "\n",
    "# Try to do the same by creating a shapefile with QGIS, geojson online or a .kml file in google earth.\n",
    "# study_area.read_kml(kml_path)\n",
    "# study_area.read_geo_json(geojson_path)\n",
    "# study_area.read_shapefile(shapefile_path)"
   ]
  },
  {
   "cell_type": "markdown",
   "metadata": {
    "pycharm": {
     "name": "#%% md\n"
    }
   },
   "source": [
    "The next step in the processing is selection of the right track, as the Sentinel-1 satellite will cover the area on both\n",
    "ascending and descending tracks. However, to do so, we will have to define the start and end date of our data search, \n",
    "because the satellite is not always acquiring data. \n",
    "Next search will give a small oversight of the available tracks during our period of interest. In our case we will \n",
    "search one week before and one week after the earthquake.\n",
    "\n",
    "Watch out with extending the search window, this can result in a lot of images. Note that every downloaded file will take approximately 4GB of disk space!"
   ]
  },
  {
   "cell_type": "code",
   "execution_count": null,
   "metadata": {
    "pycharm": {
     "name": "#%%\n"
    }
   },
   "outputs": [],
   "source": [
    "# First we search using a time window\n",
    "\n",
    "# Track and data type of Sentinel data\n",
    "mode = 'IW'\n",
    "product_type = 'SLC'\n",
    "polarisation = 'VV'\n",
    "\n",
    "# First we check using a time window\n",
    "earthquake_date = datetime.datetime(year=2018, month=5, day=4, hour=22)\n",
    "time_window = datetime.timedelta(days=12)\n",
    "\n",
    "find_track = DownloadSentinel(date=earthquake_date, time_window=time_window, shape=study_area.shape, sensor_mode=mode,\n",
    "                              polarisation=polarisation)\n",
    "find_track.sentinel_search_ASF()\n",
    "find_track.summarize_search_results(plot_cartopy=False, buffer=2)\n"
   ]
  },
  {
   "cell_type": "code",
   "execution_count": null,
   "metadata": {
    "pycharm": {
     "name": "#%%\n"
    }
   },
   "outputs": [],
   "source": [
    "# Alternatively we can search using a start and end date\n",
    "start_date = datetime.datetime(year=2018, month=4, day=22)\n",
    "end_date = datetime.datetime(year=2018, month=5, day=8)\n",
    "\n",
    "find_track = DownloadSentinel(shape=study_area.shape, sensor_mode=mode,\n",
    "                              polarisation=polarisation, start_date=start_date, end_date=end_date)\n",
    "find_track.sentinel_search_ASF()\n",
    "find_track.summarize_search_results(plot_cartopy=False, buffer=2)"
   ]
  },
  {
   "cell_type": "code",
   "execution_count": null,
   "metadata": {
    "pycharm": {
     "name": "#%%\n"
    }
   },
   "outputs": [],
   "source": [
    "# We can also search for several dates with a time window if needed.\n",
    "# In this case we search for a few image half a year before and half a year afterwards, to evaluate rebound effects.\n",
    "dates = [datetime.datetime(year=2018, month=5, day=4, hour=22),\n",
    "         datetime.datetime(year=2018, month=11, day=4, hour=22),\n",
    "         datetime.datetime(year=2017, month=5, day=4, hour=22)]\n",
    "time_window = datetime.timedelta(days=6)\n",
    "\n",
    "find_track = DownloadSentinel(dates=dates, time_window=time_window, shape=study_area.shape, sensor_mode=mode,\n",
    "                              polarisation=polarisation)\n",
    "find_track.sentinel_search_ASF()\n",
    "find_track.summarize_search_results(plot_cartopy=False, buffer=2)"
   ]
  },
  {
   "cell_type": "code",
   "execution_count": null,
   "metadata": {
    "pycharm": {
     "name": "#%%\n"
    }
   },
   "outputs": [],
   "source": [
    "# Finally we can do the same using multiple start and end dates\n",
    "start_dates = [datetime.datetime(year=2018, month=4, day=28, hour=22),\n",
    "               datetime.datetime(year=2018, month=10, day=28, hour=22),\n",
    "               datetime.datetime(year=2017, month=4, day=28, hour=22)]\n",
    "end_dates = [datetime.datetime(year=2018, month=5, day=10, hour=22),\n",
    "             datetime.datetime(year=2018, month=11, day=10, hour=22),\n",
    "             datetime.datetime(year=2017, month=5, day=10, hour=22)]\n",
    "\n",
    "find_track = DownloadSentinel(start_dates=start_dates, end_dates=end_dates, time_window=time_window,\n",
    "                              shape=study_area.shape, sensor_mode=mode, polarisation=polarisation)\n",
    "find_track.sentinel_search_ASF()\n",
    "find_track.summarize_search_results(plot_cartopy=False, buffer=2)"
   ]
  },
  {
   "cell_type": "markdown",
   "metadata": {
    "pycharm": {
     "name": "#%% md\n"
    }
   },
   "source": [
    "After selection of the right track we can start the actual download of the images. In our case we use track 87.\n",
    "\n",
    "This will download our data automatically to our radar database. Additionally, it will download the precise orbit files.\n",
    "These files are created within a few weeks after the data acquisition and define the satellite orbit within a few cm\n",
    "accuracy. These orbits are necessary to accurately define the positions of the radar pixels on the ground later on\n",
    "in the processing."
   ]
  },
  {
   "cell_type": "code",
   "execution_count": null,
   "metadata": {
    "pycharm": {
     "name": "#%%\n"
    }
   },
   "outputs": [],
   "source": [
    "# Track and data type of Sentinel data\n",
    "mode = 'IW'\n",
    "product_type = 'SLC'\n",
    "polarisation = 'VV'\n",
    "\n",
    "from rippl.processing_templates.general_sentinel_1 import GeneralPipelines\n",
    "\n",
    "# Create the list of the 4 different stacks.\n",
    "track_no = 87\n",
    "stack_name = 'Hawaii_may_2018_descending'\n",
    "# For every track we have to select a master date. This is based on the search results earlier.\n",
    "# Choose the date with the lowest coverage to create an image with only the overlapping parts.\n",
    "start_date = datetime.datetime(year=2018, month=4, day=22)\n",
    "end_date = datetime.datetime(year=2018, month=5, day=12)\n",
    "master_date = datetime.datetime(year=2018, month=5, day=5)\n",
    "\n",
    "# Number of processes for parallel processing. Make sure that for every process at least 2GB of RAM is available\n",
    "no_processes = 4\n",
    "\n",
    "s1_processing = GeneralPipelines(processes=no_processes)\n",
    "s1_processing.download_sentinel_data(start_date=start_date, end_date=end_date, track=track_no,\n",
    "                                           polarisation=polarisation, shapefile=study_area.shape, data=True, source='ASF')\n",
    "s1_processing.create_sentinel_stack(start_date=start_date, end_date=end_date, master_date=master_date, cores=no_processes,\n",
    "                                          track=track_no,stack_name=stack_name, polarisation=polarisation,\n",
    "                                          shapefile=study_area.shape, mode=mode, product_type=product_type)\n",
    "\n",
    "# Finally load the stack itself. If you want to skip the download step later, run this line before other steps!\n",
    "s1_processing.read_stack(start_date=start_date, end_date=end_date, stack_name=stack_name)"
   ]
  },
  {
   "cell_type": "markdown",
   "metadata": {
    "pycharm": {
     "name": "#%% md\n"
    }
   },
   "source": [
    "To define the location of the radar pixels on the ground we need the terrain elevation. Although it is possible to \n",
    "derive terrain elevation from InSAR data, our used Sentinel-1 dataset is not suitable for this purpose. Therefore, we\n",
    "download data from an external source to create a digital elevation model (DEM). In our case we use SRTM data. \n",
    "\n",
    "However, to find the elevation of the SAR data grid, we have to resample the data to the radar grid first to make it\n",
    "usable. This is done in the next steps."
   ]
  },
  {
   "cell_type": "code",
   "execution_count": null,
   "metadata": {
    "pycharm": {
     "name": "#%%\n"
    }
   },
   "outputs": [],
   "source": [
    "# Some basic settings for DEM creation.\n",
    "dem_buffer = 0.1        # Buffer around radar image where DEM data is downloaded\n",
    "dem_rounding = 0.1      # Rounding of DEM size in degrees\n",
    "dem_type = 'SRTM3'      # DEM type of data we download (SRTM1, SRTM3 and TanDEM-X are supported)\n",
    "\n",
    "# Define both the coordinate system of the full radar image and imported DEM\n",
    "s1_processing.create_radar_coordinates()\n",
    "s1_processing.create_dem_coordinates(dem_type=dem_type)\n",
    "\n",
    "# Download external DEM\n",
    "s1_processing.download_external_dem(buffer=dem_buffer, rounding=dem_rounding, n_processes=no_processes)"
   ]
  },
  {
   "cell_type": "markdown",
   "metadata": {
    "pycharm": {
     "name": "#%% md\n"
    }
   },
   "source": [
    "Using the obtained elevation model the exact location of the radar pixels in cartesian (X,Y,Z) and geographic (Lat/Lon)\n",
    "can be derived. This is only done for the master or reference image. This process is referred to as geocoding."
   ]
  },
  {
   "cell_type": "code",
   "execution_count": null,
   "metadata": {
    "pycharm": {
     "name": "#%% \n"
    }
   },
   "outputs": [],
   "source": [
    "# Geocoding of image\n",
    "s1_processing.geocoding()"
   ]
  },
  {
   "cell_type": "markdown",
   "metadata": {
    "pycharm": {
     "name": "#%% md\n"
    }
   },
   "source": [
    "The information from the geocoding can directly be used to find the location of the master grid pixels in the slave\n",
    "grid images. This process is called coregistration. Because the orbits are not exactly the same with every satellite \n",
    "overpass but differ hundreds to a few thousand meters every overpass, the grids are slightly shifted with respect to \n",
    "each other. These shift are referred to as the spatial baseline of the images. To correctly overlay the master and slave\n",
    "images the software coregisters and resamples to the master grid.\n",
    "\n",
    "To do so the following steps are done:\n",
    "1. Coregistration of slave to master image\n",
    "2. Deramping the doppler effects due to TOPs mode of Sentinel-1 satellite\n",
    "3. Resampling of slave image\n",
    "4. Reramping resampled slave image.\n",
    "\n",
    "Due to the different orbits of the master and slave image, the phase of the radar signal is also shifted. We do not \n",
    "know the exact shift of the two image, but using the geometry of the two images we can estimate the shift of the phase\n",
    "between different pixels. Often this shift is split in two contributions:\n",
    "1. The flat earth phase. This phase is the shift in the case the earth was a perfect ellipsoid\n",
    "2. The topographic phase. This is the phase shift due to the topography on the ground.\n",
    "In our processing these two corrections are done in one go."
   ]
  },
  {
   "cell_type": "code",
   "execution_count": null,
   "metadata": {
    "pycharm": {
     "name": "#%%\n"
    }
   },
   "outputs": [],
   "source": [
    "# Next step applies resampling and phase correction in one step.\n",
    "# Polarisation\n",
    "s1_processing.geometric_coregistration_resampling(polarisation=polarisation, output_phase_correction=True)"
   ]
  },
  {
   "cell_type": "markdown",
   "metadata": {
    "pycharm": {
     "name": "#%% md\n"
    }
   },
   "source": [
    "Before we create an interferogram the different bursts are first mosaicked. This can only be done after resampling as\n",
    "it is influenced by the phase ramps in TOPs mode of Sentinel-1. \n",
    "\n",
    "The independent SAR grids can now be visualized using the amplitude of the resampled data. In our case these are \n",
    "written as .tiff files for a georeferenced grid of the region. The data can be visualized using QGIS. The amplitude power\n",
    "is given in dB. "
   ]
  },
  {
   "cell_type": "code",
   "execution_count": null,
   "metadata": {
    "pycharm": {
     "name": "#%%\n"
    }
   },
   "outputs": [],
   "source": [
    "# Resolution of output georeferenced grid\n",
    "dlat = 0.001\n",
    "dlon = 0.001\n",
    "\n",
    "# The actual creation of the calibrated amplitude images\n",
    "s1_processing.create_ml_coordinates(coor_type='geographic', dlat=dlat, dlon=dlon)\n",
    "s1_processing.prepare_multilooking_grid(polarisation)\n",
    "s1_processing.create_calibrated_amplitude_multilooked(polarisation)\n",
    "s1_processing.create_output_tiffs_amplitude()"
   ]
  },
  {
   "cell_type": "markdown",
   "metadata": {
    "pycharm": {
     "name": "#%% md\n"
    }
   },
   "source": [
    "We can do the same thing using a projected grid with distances in meters. In this case we use the oblique mercator\n",
    "projection. This projection can be configured in such a way that the grid follows the orbit of the satellite, which has\n",
    "the advantage that the final product will be smaller, has less empty spaces and respects the satellite azimuth and\n",
    "range directions."
   ]
  },
  {
   "cell_type": "code",
   "execution_count": null,
   "metadata": {
    "pycharm": {
     "name": "#%%\n"
    }
   },
   "outputs": [],
   "source": [
    "# Resolution of output georeferenced grid\n",
    "dy = 100\n",
    "dx = 100\n",
    "\n",
    "# The actual creation of the calibrated amplitude images\n",
    "s1_processing.create_ml_coordinates(standard_type='oblique_mercator', dx=dx, dy=dy, buffer=0, rounding=0)\n",
    "s1_processing.prepare_multilooking_grid(polarisation)\n",
    "s1_processing.create_calibrated_amplitude_multilooked(polarisation)\n",
    "s1_processing.create_output_tiffs_amplitude()"
   ]
  },
  {
   "cell_type": "markdown",
   "metadata": {
    "pycharm": {
     "name": "#%% md\n"
    }
   },
   "source": [
    "After moasicing we can create the interferogram between the different images. This image is also multilooked and \n",
    "outputted as a .tiff file. This can also be viewed in QGIS. Because the phase shift between different pixels is often \n",
    "larger than two pi radians or a wavelength (56 mm for C-band), this image will show fringes going from -pi to pi and \n",
    "starting at -pi again. \n",
    "Using the same multilooking grid also a coherence grid is created, which indicates the quality of the obtained phases."
   ]
  },
  {
   "cell_type": "code",
   "execution_count": null,
   "metadata": {
    "pycharm": {
     "name": "#%% \n"
    }
   },
   "outputs": [],
   "source": [
    "s1_processing.create_ifg_network(temporal_baseline=30)\n",
    "s1_processing.create_interferogram_multilooked(polarisation)\n",
    "s1_processing.create_coherence_multilooked(polarisation)\n",
    "\n",
    "# Create output geotiffs\n",
    "s1_processing.create_output_tiffs_coherence_ifg()\n",
    "\n",
    "# Create lat/lon/incidence angle/DEM for multilooked grid.\n",
    "s1_processing.create_geometry_mulitlooked()\n",
    "s1_processing.create_output_tiffs_geometry()\n"
   ]
  },
  {
   "cell_type": "markdown",
   "metadata": {
    "pycharm": {
     "name": "#%% md\n"
    }
   },
   "source": [
    "To go to absolute differences the data is therefore unwrapped. The result of this is given in the unwrapped geotiff.\n",
    "For the unwrapping we use the program snaphu. With a resolution of 100 meters the unwrapping can take quite some time.\n",
    "If you want to speed up the unwrapping you could go for larger grid cells."
   ]
  },
  {
   "cell_type": "code",
   "execution_count": null,
   "metadata": {
    "pycharm": {
     "name": "#%%\n"
    }
   },
   "outputs": [],
   "source": [
    "# To do unwrapping we use the program\n",
    "# You can do the unwrapping if you change resolution of the image though.\n",
    "dy = 150\n",
    "dx = 150\n",
    "\n",
    "# The actual creation of the calibrated amplitude images\n",
    "s1_processing.create_ml_coordinates(standard_type='oblique_mercator', dx=dx, dy=dy, buffer=0, rounding=0)\n",
    "s1_processing.prepare_multilooking_grid(polarisation)\n",
    "\n",
    "s1_processing.create_interferogram_multilooked(polarisation)\n",
    "s1_processing.create_coherence_multilooked(polarisation)\n",
    "\n",
    "# Create output geotiffs\n",
    "s1_processing.create_output_tiffs_coherence_ifg()\n",
    "\n",
    "s1_processing.create_unwrapped_images(polarisation)\n",
    "s1_processing.create_output_tiffs_unwrap()"
   ]
  },
  {
   "cell_type": "markdown",
   "metadata": {
    "pycharm": {
     "name": "#%% md\n"
    }
   },
   "source": [
    "This finishes the tutorial! In QGIS you can visualize the results of your processing."
   ]
  }
 ],
 "metadata": {
  "kernelspec": {
   "display_name": "PyCharm (rippl_master)",
   "language": "python",
   "name": "pycharm-120a760a"
  },
  "language_info": {
   "codemirror_mode": {
    "name": "ipython",
    "version": 3
   },
   "file_extension": ".py",
   "mimetype": "text/x-python",
   "name": "python",
   "nbconvert_exporter": "python",
   "pygments_lexer": "ipython3",
   "version": "3.7.7"
  }
 },
 "nbformat": 4,
 "nbformat_minor": 1
}