{
 "cells": [
  {
   "cell_type": "markdown",
   "source": [
    "This notebook gives an example of InSAR processing and the computation of a weather model delay values, that can be used for phase correction. The code to do this is included within the RIPPL package and currently uses two data sources:\n",
    "\n",
    "1. ERA5 model and pressure level data, which can be downloaded from CDS for free. (Make sure to create an account for this)\n",
    "2. CERRA model and pressure level data, which can be downloaded from CDS for free. (Make sure to create an account for this)\n",
    "3. Harmonie-Arome model data, which is used in a number of european countries. In this case we make use of data provided by the royal Dutch metereological service (KNMI). Here we download two cases made available for download by them, but historical data cannot directly be downloaded from their website. This is therefore more illustrative for what someone would get from using a high-resolution model.\n",
    "\n",
    "To do the processing, first the InSAR data is processed, an interferogram is created and unwrapped, using a dataset covering most of the Netherlands and Belgium. The exact steps will not be explained here as they are already given in the other tutorial. Please start with the Hawaii case if you are new to the software.\n",
    "\n",
    "The main processing contains the following steps:\n",
    "1. Area selection, downloading and reading in of the SAR SLCs\n",
    "2. Processing to an unwrapped interferogram with an equidistant grid of 250 m\n",
    "3. Downloading and processing of Harmonie data\n",
    "4. Downloading and processing of ERA5 data"
   ],
   "metadata": {
    "collapsed": false
   }
  },
  {
   "cell_type": "markdown",
   "source": [
    "In the following code block the shape of the Benelux is loaded. Because we do not want to use external files to load the geometry, it is directly given in the code."
   ],
   "metadata": {
    "collapsed": false
   }
  },
  {
   "cell_type": "code",
   "execution_count": 1,
   "outputs": [
    {
     "name": "stderr",
     "output_type": "stream",
     "text": [
      "ERROR 1: PROJ: proj_create_from_database: Open of /home/gert/anaconda3/envs/rippl/share/proj failed\n"
     ]
    }
   ],
   "source": [
    "# Define area of interest\n",
    "import rippl\n",
    "from rippl.orbit_geometry.read_write_shapes import ReadWriteShapes\n",
    "\n",
    "Benelux_shape = [[7.218017578125001, 53.27178347923819],\n",
    "                 [5.218505859375, 53.50111704294316],\n",
    "                 [4.713134765624999, 53.20603255157844],\n",
    "                 [3.3508300781249996, 51.60437164681676],\n",
    "                 [3.8452148437499996, 50.127621728300475],\n",
    "                 [4.493408203125, 49.809631563563094],\n",
    "                 [6.35009765625, 49.36806633482156],\n",
    "                 [6.83349609375, 52.5897007687178],\n",
    "                 [7.218017578125001, 53.27178347923819]]\n",
    "study_area = ReadWriteShapes()\n",
    "study_area(Benelux_shape)\n",
    "shape = study_area.shape.buffer(0.2)"
   ],
   "metadata": {
    "collapsed": false,
    "pycharm": {
     "name": "#%%\n"
    },
    "ExecuteTime": {
     "end_time": "2024-08-07T12:44:43.970744033Z",
     "start_time": "2024-08-07T12:44:43.748795774Z"
    }
   }
  },
  {
   "cell_type": "markdown",
   "source": [
    "Now the SAR data is downloaded for Sentinel-1 track 37 and the processing stack is initialized."
   ],
   "metadata": {
    "collapsed": false
   }
  },
  {
   "cell_type": "code",
   "execution_count": 2,
   "metadata": {
    "collapsed": true,
    "pycharm": {
     "name": "#%%\n"
    },
    "ExecuteTime": {
     "end_time": "2024-08-07T12:45:01.474978555Z",
     "start_time": "2024-08-07T12:44:47.867298098Z"
    }
   },
   "outputs": [
    {
     "name": "stderr",
     "output_type": "stream",
     "text": [
      "2024-08-07 14:44:51,253 [INFO] All images are already downloaded. Skipping download\n",
      "2024-08-07 14:44:51,255 [INFO] Reading precise and restituted orbit database\n",
      "2024-08-07 14:44:51,261 [INFO] Start creating stack for polaristation VV\n",
      "2024-08-07 14:44:51,296 [INFO] S1A_IW_SLC__1SDV_20170724T055026_20170724T055053_017609_01D76D_3226.zip\n",
      "2024-08-07 14:44:51,298 [INFO] S1A_IW_SLC__1SDV_20170724T055051_20170724T055119_017609_01D76D_FDDD.zip\n",
      "2024-08-07 14:44:51,300 [INFO] S1A_IW_SLC__1SDV_20170724T055001_20170724T055028_017609_01D76D_6EE2.zip\n",
      "2024-08-07 14:44:51,301 [INFO] S1A_IW_SLC__1SDV_20170724T054936_20170724T055004_017609_01D76D_7DBB.zip\n",
      "2024-08-07 14:44:51,303 [INFO] S1B_IW_SLC__1SDV_20170718T055000_20170718T055027_006538_00B7EF_EA26.zip\n",
      "2024-08-07 14:44:51,304 [INFO] S1B_IW_SLC__1SDV_20170718T054936_20170718T055003_006538_00B7EF_BA35.zip\n",
      "2024-08-07 14:44:51,305 [INFO] S1B_IW_SLC__1SDV_20170718T054911_20170718T054938_006538_00B7EF_7305.zip\n",
      "2024-08-07 14:44:51,307 [INFO] S1B_IW_SLC__1SDV_20170718T054846_20170718T054913_006538_00B7EF_595B.zip\n",
      "2024-08-07 14:44:51,308 [INFO] Selected images:\n",
      "2024-08-07 14:44:51,309 [INFO] S1A_IW_SLC__1SDV_20170724T055026_20170724T055053_017609_01D76D_3226.zip\n",
      "2024-08-07 14:44:51,310 [INFO] S1A_IW_SLC__1SDV_20170724T055051_20170724T055119_017609_01D76D_FDDD.zip\n",
      "2024-08-07 14:44:51,311 [INFO] S1A_IW_SLC__1SDV_20170724T055001_20170724T055028_017609_01D76D_6EE2.zip\n",
      "2024-08-07 14:44:51,312 [INFO] S1A_IW_SLC__1SDV_20170724T054936_20170724T055004_017609_01D76D_7DBB.zip\n",
      "2024-08-07 14:44:51,313 [INFO] S1B_IW_SLC__1SDV_20170718T055000_20170718T055027_006538_00B7EF_EA26.zip\n",
      "2024-08-07 14:44:51,314 [INFO] S1B_IW_SLC__1SDV_20170718T054936_20170718T055003_006538_00B7EF_BA35.zip\n",
      "2024-08-07 14:44:51,315 [INFO] S1B_IW_SLC__1SDV_20170718T054911_20170718T054938_006538_00B7EF_7305.zip\n",
      "2024-08-07 14:44:51,317 [INFO] S1B_IW_SLC__1SDV_20170718T054846_20170718T054913_006538_00B7EF_595B.zip\n",
      "2024-08-07 14:44:51,318 [INFO] \n",
      "2024-08-07 14:44:51,319 [INFO] Reading precise and restituted orbit database\n",
      "2024-08-07 14:44:51,322 [INFO] Reading swath .xml files for new images:\n",
      "2024-08-07 14:44:51,340 [INFO] Read meta_data s1a-iw1-slc-vv-20170724t055026-20170724t055051-017609-01d76d-004.xml\n",
      "2024-08-07 14:44:51,376 [INFO] Read meta_data s1a-iw2-slc-vv-20170724t055027-20170724t055052-017609-01d76d-005.xml\n",
      "2024-08-07 14:44:51,410 [INFO] Read meta_data s1a-iw3-slc-vv-20170724t055028-20170724t055053-017609-01d76d-006.xml\n",
      "2024-08-07 14:44:51,436 [INFO] Read meta_data s1a-iw1-slc-vv-20170724t055051-20170724t055119-017609-01d76d-004.xml\n",
      "2024-08-07 14:44:51,458 [INFO] Read meta_data s1a-iw2-slc-vv-20170724t055052-20170724t055117-017609-01d76d-005.xml\n",
      "2024-08-07 14:44:51,477 [INFO] Read meta_data s1a-iw3-slc-vv-20170724t055053-20170724t055118-017609-01d76d-006.xml\n",
      "2024-08-07 14:44:51,495 [INFO] Read meta_data s1a-iw1-slc-vv-20170724t055001-20170724t055026-017609-01d76d-004.xml\n",
      "2024-08-07 14:44:51,513 [INFO] Read meta_data s1a-iw2-slc-vv-20170724t055002-20170724t055027-017609-01d76d-005.xml\n",
      "2024-08-07 14:44:51,536 [INFO] Read meta_data s1a-iw3-slc-vv-20170724t055003-20170724t055028-017609-01d76d-006.xml\n",
      "2024-08-07 14:44:51,558 [INFO] Read meta_data s1a-iw1-slc-vv-20170724t054936-20170724t055002-017609-01d76d-004.xml\n",
      "2024-08-07 14:44:51,574 [INFO] Read meta_data s1a-iw2-slc-vv-20170724t054937-20170724t055003-017609-01d76d-005.xml\n",
      "2024-08-07 14:44:51,590 [INFO] Read meta_data s1a-iw3-slc-vv-20170724t054938-20170724t055004-017609-01d76d-006.xml\n",
      "2024-08-07 14:44:51,610 [INFO] Read meta_data s1b-iw1-slc-vv-20170718t055000-20170718t055025-006538-00b7ef-004.xml\n",
      "2024-08-07 14:44:51,632 [INFO] Read meta_data s1b-iw2-slc-vv-20170718t055001-20170718t055026-006538-00b7ef-005.xml\n",
      "2024-08-07 14:44:51,651 [INFO] Read meta_data s1b-iw3-slc-vv-20170718t055002-20170718t055027-006538-00b7ef-006.xml\n",
      "2024-08-07 14:44:51,668 [INFO] Read meta_data s1b-iw1-slc-vv-20170718t054936-20170718t055001-006538-00b7ef-004.xml\n",
      "2024-08-07 14:44:51,691 [INFO] Read meta_data s1b-iw2-slc-vv-20170718t054936-20170718t055002-006538-00b7ef-005.xml\n",
      "2024-08-07 14:44:51,713 [INFO] Read meta_data s1b-iw3-slc-vv-20170718t054937-20170718t055003-006538-00b7ef-006.xml\n",
      "2024-08-07 14:44:51,729 [INFO] Read meta_data s1b-iw1-slc-vv-20170718t054911-20170718t054936-006538-00b7ef-004.xml\n",
      "2024-08-07 14:44:51,751 [INFO] Read meta_data s1b-iw2-slc-vv-20170718t054912-20170718t054937-006538-00b7ef-005.xml\n",
      "2024-08-07 14:44:51,772 [INFO] Read meta_data s1b-iw3-slc-vv-20170718t054913-20170718t054938-006538-00b7ef-006.xml\n",
      "2024-08-07 14:44:51,788 [INFO] Read meta_data s1b-iw1-slc-vv-20170718t054846-20170718t054911-006538-00b7ef-004.xml\n",
      "2024-08-07 14:44:51,804 [INFO] Read meta_data s1b-iw2-slc-vv-20170718t054847-20170718t054912-006538-00b7ef-005.xml\n",
      "2024-08-07 14:44:51,823 [INFO] Read meta_data s1b-iw3-slc-vv-20170718t054848-20170718t054913-006538-00b7ef-006.xml\n",
      "2024-08-07 14:44:51,833 [INFO] \n",
      "2024-08-07 14:44:53,621 [INFO] Reading burst information from s1a-iw1-slc-vv-20170724t055026-20170724t055051-017609-01d76d-004.xml\n",
      "2024-08-07 14:44:53,637 [INFO] Loading orbits for 2017-07-24 05:50:26.576703\n",
      "2024-08-07 14:44:54,109 [INFO] Reading burst information from s1a-iw2-slc-vv-20170724t055027-20170724t055052-017609-01d76d-005.xml\n",
      "2024-08-07 14:44:54,123 [INFO] Loading orbits for 2017-07-24 05:50:27.520203\n",
      "2024-08-07 14:44:54,401 [INFO] Reading burst information from s1a-iw3-slc-vv-20170724t055028-20170724t055053-017609-01d76d-006.xml\n",
      "2024-08-07 14:44:54,414 [INFO] Loading orbits for 2017-07-24 05:50:28.476037\n",
      "2024-08-07 14:44:54,696 [INFO] Reading burst information from s1a-iw1-slc-vv-20170724t055051-20170724t055119-017609-01d76d-004.xml\n",
      "2024-08-07 14:44:54,711 [INFO] Loading orbits for 2017-07-24 05:50:51.403712\n",
      "2024-08-07 14:44:55,025 [INFO] Reading burst information from s1a-iw1-slc-vv-20170724t055001-20170724t055026-017609-01d76d-004.xml\n",
      "2024-08-07 14:44:55,037 [INFO] Loading orbits for 2017-07-24 05:50:01.757916\n",
      "2024-08-07 14:44:55,313 [INFO] Reading burst information from s1a-iw2-slc-vv-20170724t055002-20170724t055027-017609-01d76d-005.xml\n",
      "2024-08-07 14:44:55,327 [INFO] Loading orbits for 2017-07-24 05:50:02.701417\n",
      "2024-08-07 14:44:55,602 [INFO] Reading burst information from s1a-iw3-slc-vv-20170724t055003-20170724t055028-017609-01d76d-006.xml\n",
      "2024-08-07 14:44:55,616 [INFO] Loading orbits for 2017-07-24 05:50:03.663417\n",
      "2024-08-07 14:44:55,899 [INFO] Reading burst information from s1a-iw1-slc-vv-20170724t054936-20170724t055002-017609-01d76d-004.xml\n",
      "2024-08-07 14:44:55,911 [INFO] Loading orbits for 2017-07-24 05:49:36.943241\n",
      "2024-08-07 14:44:56,191 [INFO] Reading burst information from s1a-iw2-slc-vv-20170724t054937-20170724t055003-017609-01d76d-005.xml\n",
      "2024-08-07 14:44:56,203 [INFO] Loading orbits for 2017-07-24 05:49:37.880575\n",
      "2024-08-07 14:44:56,461 [INFO] Reading burst information from s1a-iw3-slc-vv-20170724t054938-20170724t055004-017609-01d76d-006.xml\n",
      "2024-08-07 14:44:56,473 [INFO] Loading orbits for 2017-07-24 05:49:38.834352\n",
      "2024-08-07 14:44:56,732 [INFO] Reading burst information from s1b-iw1-slc-vv-20170718t055000-20170718t055025-006538-00b7ef-004.xml\n",
      "2024-08-07 14:44:56,743 [INFO] Loading orbits for 2017-07-18 05:50:00.830526\n",
      "2024-08-07 14:44:57,281 [INFO] Reading burst information from s1b-iw2-slc-vv-20170718t055001-20170718t055026-006538-00b7ef-005.xml\n",
      "2024-08-07 14:44:57,293 [INFO] Loading orbits for 2017-07-18 05:50:01.776082\n",
      "2024-08-07 14:44:57,564 [INFO] Reading burst information from s1b-iw3-slc-vv-20170718t055002-20170718t055027-006538-00b7ef-006.xml\n",
      "2024-08-07 14:44:57,575 [INFO] Loading orbits for 2017-07-18 05:50:02.731916\n",
      "2024-08-07 14:44:57,835 [INFO] Reading burst information from s1b-iw1-slc-vv-20170718t054936-20170718t055001-006538-00b7ef-004.xml\n",
      "2024-08-07 14:44:57,846 [INFO] Loading orbits for 2017-07-18 05:49:36.009684\n",
      "2024-08-07 14:44:58,124 [INFO] Reading burst information from s1b-iw2-slc-vv-20170718t054936-20170718t055002-006538-00b7ef-005.xml\n",
      "2024-08-07 14:44:58,135 [INFO] Loading orbits for 2017-07-18 05:49:36.953184\n",
      "2024-08-07 14:44:58,400 [INFO] Reading burst information from s1b-iw3-slc-vv-20170718t054937-20170718t055003-006538-00b7ef-006.xml\n",
      "2024-08-07 14:44:58,411 [INFO] Loading orbits for 2017-07-18 05:49:37.909018\n",
      "2024-08-07 14:44:58,683 [INFO] Reading burst information from s1b-iw1-slc-vv-20170718t054911-20170718t054936-006538-00b7ef-004.xml\n",
      "2024-08-07 14:44:58,696 [INFO] Loading orbits for 2017-07-18 05:49:11.188842\n",
      "2024-08-07 14:44:58,977 [INFO] Reading burst information from s1b-iw2-slc-vv-20170718t054912-20170718t054937-006538-00b7ef-005.xml\n",
      "2024-08-07 14:44:58,987 [INFO] Loading orbits for 2017-07-18 05:49:12.134398\n",
      "2024-08-07 14:44:59,279 [INFO] Reading burst information from s1b-iw3-slc-vv-20170718t054913-20170718t054938-006538-00b7ef-006.xml\n",
      "2024-08-07 14:44:59,290 [INFO] Loading orbits for 2017-07-18 05:49:13.092287\n",
      "2024-08-07 14:44:59,553 [INFO] Reading burst information from s1b-iw1-slc-vv-20170718t054846-20170718t054911-006538-00b7ef-004.xml\n",
      "2024-08-07 14:44:59,564 [INFO] Loading orbits for 2017-07-18 05:48:46.367999\n",
      "2024-08-07 14:44:59,846 [INFO] Reading burst information from s1b-iw2-slc-vv-20170718t054847-20170718t054912-006538-00b7ef-005.xml\n",
      "2024-08-07 14:44:59,857 [INFO] Loading orbits for 2017-07-18 05:48:47.311500\n",
      "2024-08-07 14:45:00,145 [INFO] Reading burst information from s1b-iw3-slc-vv-20170718t054848-20170718t054913-006538-00b7ef-006.xml\n",
      "2024-08-07 14:45:00,156 [INFO] Loading orbits for 2017-07-18 05:48:48.273500\n",
      "2024-08-07 14:45:00,427 [INFO] For date 2017-07-18 74 bursts out of 74 are available.\n",
      "2024-08-07 14:45:00,480 [INFO] Initializing secondary bursts 0 to 74 from total of 74\n",
      "2024-08-07 14:45:00,901 [INFO] Loading from original SLC, burst 0 out of 74\n",
      "2024-08-07 14:45:00,902 [INFO] Loading from original SLC, burst 16 out of 74\n",
      "2024-08-07 14:45:00,904 [INFO] Image already loaded. Skipping image slice_037_078106_IW1 with polarisation VV at 2017-07-18\n",
      "2024-08-07 14:45:00,905 [INFO] Loading from original SLC, burst 1 out of 74\n",
      "2024-08-07 14:45:00,905 [INFO] Image already loaded. Skipping image slice_037_078103_IW2 with polarisation VV at 2017-07-18\n",
      "2024-08-07 14:45:00,905 [INFO] Loading from original SLC, burst 17 out of 74\n",
      "2024-08-07 14:45:00,905 [INFO] Loading from original SLC, burst 4 out of 74\n",
      "2024-08-07 14:45:00,905 [INFO] Image already loaded. Skipping image slice_037_078081_IW3 with polarisation VV at 2017-07-18\n",
      "2024-08-07 14:45:00,906 [INFO] Image already loaded. Skipping image slice_037_078088_IW3 with polarisation VV at 2017-07-18\n",
      "2024-08-07 14:45:00,906 [INFO] Loading from original SLC, burst 2 out of 74\n",
      "2024-08-07 14:45:00,906 [INFO] Loading from original SLC, burst 18 out of 74\n",
      "2024-08-07 14:45:00,907 [INFO] Image already loaded. Skipping image slice_037_078088_IW1 with polarisation VV at 2017-07-18\n",
      "2024-08-07 14:45:00,907 [INFO] Image already loaded. Skipping image slice_037_078092_IW3 with polarisation VV at 2017-07-18\n",
      "2024-08-07 14:45:00,907 [INFO] Loading from original SLC, burst 19 out of 74\n",
      "2024-08-07 14:45:00,907 [INFO] Loading from original SLC, burst 3 out of 74\n",
      "2024-08-07 14:45:00,908 [INFO] Image already loaded. Skipping image slice_037_078104_IW1 with polarisation VV at 2017-07-18\n",
      "2024-08-07 14:45:00,908 [INFO] Image already loaded. Skipping image slice_037_078097_IW3 with polarisation VV at 2017-07-18\n",
      "2024-08-07 14:45:00,909 [INFO] Loading from original SLC, burst 24 out of 74\n",
      "2024-08-07 14:45:00,909 [INFO] Loading from original SLC, burst 28 out of 74\n",
      "2024-08-07 14:45:00,910 [INFO] Image already loaded. Skipping image slice_037_078081_IW2 with polarisation VV at 2017-07-18\n",
      "2024-08-07 14:45:00,909 [INFO] Loading from original SLC, burst 8 out of 74\n",
      "2024-08-07 14:45:00,910 [INFO] Loading from original SLC, burst 5 out of 74\n",
      "2024-08-07 14:45:00,910 [INFO] Image already loaded. Skipping image slice_037_078096_IW2 with polarisation VV at 2017-07-18\n",
      "2024-08-07 14:45:00,911 [INFO] Loading from original SLC, burst 25 out of 74\n",
      "2024-08-07 14:45:00,911 [INFO] Image already loaded. Skipping image slice_037_078089_IW2 with polarisation VV at 2017-07-18\n",
      "2024-08-07 14:45:00,912 [INFO] Loading from original SLC, burst 6 out of 74\n",
      "2024-08-07 14:45:00,912 [INFO] Image already loaded. Skipping image slice_037_078091_IW3 with polarisation VV at 2017-07-18\n",
      "2024-08-07 14:45:00,912 [INFO] Loading from original SLC, burst 26 out of 74\n",
      "2024-08-07 14:45:00,913 [INFO] Image already loaded. Skipping image slice_037_078089_IW3 with polarisation VV at 2017-07-18\n",
      "2024-08-07 14:45:00,913 [INFO] Loading from original SLC, burst 29 out of 74\n",
      "2024-08-07 14:45:00,913 [INFO] Image already loaded. Skipping image slice_037_078090_IW1 with polarisation VV at 2017-07-18\n",
      "2024-08-07 14:45:00,913 [INFO] Loading from original SLC, burst 7 out of 74\n",
      "2024-08-07 14:45:00,914 [INFO] Image already loaded. Skipping image slice_037_078094_IW1 with polarisation VV at 2017-07-18\n",
      "2024-08-07 14:45:00,914 [INFO] Loading from original SLC, burst 27 out of 74\n",
      "2024-08-07 14:45:00,914 [INFO] Image already loaded. Skipping image slice_037_078093_IW1 with polarisation VV at 2017-07-18\n",
      "2024-08-07 14:45:00,914 [INFO] Loading from original SLC, burst 9 out of 74\n",
      "2024-08-07 14:45:00,915 [INFO] Image already loaded. Skipping image slice_037_078097_IW2 with polarisation VV at 2017-07-18\n",
      "2024-08-07 14:45:00,915 [INFO] Image already loaded. Skipping image slice_037_078096_IW3 with polarisation VV at 2017-07-18\n",
      "2024-08-07 14:45:00,915 [INFO] Loading from original SLC, burst 30 out of 74\n",
      "2024-08-07 14:45:00,915 [INFO] Image already loaded. Skipping image slice_037_078095_IW3 with polarisation VV at 2017-07-18\n",
      "2024-08-07 14:45:00,916 [INFO] Image already loaded. Skipping image slice_037_078101_IW2 with polarisation VV at 2017-07-18\n",
      "2024-08-07 14:45:00,916 [INFO] Loading from original SLC, burst 10 out of 74\n",
      "2024-08-07 14:45:00,917 [INFO] Loading from original SLC, burst 32 out of 74\n",
      "2024-08-07 14:45:00,917 [INFO] Loading from original SLC, burst 36 out of 74\n",
      "2024-08-07 14:45:00,917 [INFO] Image already loaded. Skipping image slice_037_078092_IW1 with polarisation VV at 2017-07-18\n",
      "2024-08-07 14:45:00,918 [INFO] Loading from original SLC, burst 31 out of 74\n",
      "2024-08-07 14:45:00,918 [INFO] Image already loaded. Skipping image slice_037_078093_IW2 with polarisation VV at 2017-07-18\n",
      "2024-08-07 14:45:00,918 [INFO] Loading from original SLC, burst 11 out of 74\n",
      "2024-08-07 14:45:00,918 [INFO] Image already loaded. Skipping image slice_037_078105_IW1 with polarisation VV at 2017-07-18\n",
      "2024-08-07 14:45:00,918 [INFO] Loading from original SLC, burst 33 out of 74\n",
      "2024-08-07 14:45:00,919 [INFO] Image already loaded. Skipping image slice_037_078090_IW2 with polarisation VV at 2017-07-18\n",
      "2024-08-07 14:45:00,919 [INFO] Loading from original SLC, burst 37 out of 74\n",
      "2024-08-07 14:45:00,919 [INFO] Image already loaded. Skipping image slice_037_078093_IW3 with polarisation VV at 2017-07-18\n",
      "2024-08-07 14:45:00,919 [INFO] Image already loaded. Skipping image slice_037_078083_IW3 with polarisation VV at 2017-07-18\n",
      "2024-08-07 14:45:00,920 [INFO] Image already loaded. Skipping image slice_037_078084_IW1 with polarisation VV at 2017-07-18\n",
      "2024-08-07 14:45:00,920 [INFO] Loading from original SLC, burst 34 out of 74\n",
      "2024-08-07 14:45:00,920 [INFO] Image already loaded. Skipping image slice_037_078086_IW3 with polarisation VV at 2017-07-18\n",
      "2024-08-07 14:45:00,920 [INFO] Loading from original SLC, burst 38 out of 74\n",
      "2024-08-07 14:45:00,921 [INFO] Loading from original SLC, burst 44 out of 74\n",
      "2024-08-07 14:45:00,922 [INFO] Image already loaded. Skipping image slice_037_078095_IW1 with polarisation VV at 2017-07-18\n",
      "2024-08-07 14:45:00,922 [INFO] Loading from original SLC, burst 39 out of 74\n",
      "2024-08-07 14:45:00,922 [INFO] Image already loaded. Skipping image slice_037_078100_IW1 with polarisation VV at 2017-07-18\n",
      "2024-08-07 14:45:00,922 [INFO] Loading from original SLC, burst 45 out of 74\n",
      "2024-08-07 14:45:00,923 [INFO] Image already loaded. Skipping image slice_037_078088_IW2 with polarisation VV at 2017-07-18\n",
      "2024-08-07 14:45:00,923 [INFO] Loading from original SLC, burst 35 out of 74\n",
      "2024-08-07 14:45:00,923 [INFO] Loading from original SLC, burst 40 out of 74\n",
      "2024-08-07 14:45:00,924 [INFO] Image already loaded. Skipping image slice_037_078082_IW2 with polarisation VV at 2017-07-18\n",
      "2024-08-07 14:45:00,924 [INFO] Image already loaded. Skipping image slice_037_078095_IW2 with polarisation VV at 2017-07-18\n",
      "2024-08-07 14:45:00,924 [INFO] Loading from original SLC, burst 46 out of 74\n",
      "2024-08-07 14:45:00,924 [INFO] Image already loaded. Skipping image slice_037_078091_IW2 with polarisation VV at 2017-07-18\n",
      "2024-08-07 14:45:00,925 [INFO] Image already loaded. Skipping image slice_037_078102_IW3 with polarisation VV at 2017-07-18\n",
      "2024-08-07 14:45:00,925 [INFO] Loading from original SLC, burst 41 out of 74\n",
      "2024-08-07 14:45:00,925 [INFO] Loading from original SLC, burst 48 out of 74\n",
      "2024-08-07 14:45:00,926 [INFO] Image already loaded. Skipping image slice_037_078098_IW2 with polarisation VV at 2017-07-18\n",
      "2024-08-07 14:45:00,926 [INFO] Loading from original SLC, burst 47 out of 74\n",
      "2024-08-07 14:45:00,926 [INFO] Loading from original SLC, burst 52 out of 74\n",
      "2024-08-07 14:45:00,927 [INFO] Image already loaded. Skipping image slice_037_078083_IW1 with polarisation VV at 2017-07-18\n",
      "2024-08-07 14:45:00,927 [INFO] Image already loaded. Skipping image slice_037_078097_IW1 with polarisation VV at 2017-07-18\n",
      "2024-08-07 14:45:00,927 [INFO] Loading from original SLC, burst 42 out of 74\n",
      "2024-08-07 14:45:00,927 [INFO] Loading from original SLC, burst 49 out of 74\n",
      "2024-08-07 14:45:00,927 [INFO] Image already loaded. Skipping image slice_037_078096_IW1 with polarisation VV at 2017-07-18\n",
      "2024-08-07 14:45:00,928 [INFO] Image already loaded. Skipping image slice_037_078087_IW2 with polarisation VV at 2017-07-18\n",
      "2024-08-07 14:45:00,928 [INFO] Loading from original SLC, burst 53 out of 74\n",
      "2024-08-07 14:45:00,928 [INFO] Image already loaded. Skipping image slice_037_078085_IW3 with polarisation VV at 2017-07-18\n",
      "2024-08-07 14:45:00,929 [INFO] Image already loaded. Skipping image slice_037_078091_IW1 with polarisation VV at 2017-07-18\n",
      "2024-08-07 14:45:00,929 [INFO] Loading from original SLC, burst 56 out of 74\n",
      "2024-08-07 14:45:00,929 [INFO] Loading from original SLC, burst 43 out of 74\n",
      "2024-08-07 14:45:00,929 [INFO] Loading from original SLC, burst 50 out of 74\n",
      "2024-08-07 14:45:00,930 [INFO] Image already loaded. Skipping image slice_037_078087_IW3 with polarisation VV at 2017-07-18\n",
      "2024-08-07 14:45:00,930 [INFO] Image already loaded. Skipping image slice_037_078083_IW2 with polarisation VV at 2017-07-18\n",
      "2024-08-07 14:45:00,930 [INFO] Loading from original SLC, burst 54 out of 74\n",
      "2024-08-07 14:45:00,930 [INFO] Image already loaded. Skipping image slice_037_078104_IW3 with polarisation VV at 2017-07-18\n",
      "2024-08-07 14:45:00,930 [INFO] Loading from original SLC, burst 57 out of 74\n",
      "2024-08-07 14:45:00,930 [INFO] Image already loaded. Skipping image slice_037_078094_IW3 with polarisation VV at 2017-07-18\n",
      "2024-08-07 14:45:00,930 [INFO] Loading from original SLC, burst 51 out of 74\n",
      "2024-08-07 14:45:00,931 [INFO] Loading from original SLC, burst 60 out of 74\n",
      "2024-08-07 14:45:00,932 [INFO] Image already loaded. Skipping image slice_037_078084_IW2 with polarisation VV at 2017-07-18\n",
      "2024-08-07 14:45:00,932 [INFO] Loading from original SLC, burst 55 out of 74\n",
      "2024-08-07 14:45:00,932 [INFO] Image already loaded. Skipping image slice_037_078100_IW3 with polarisation VV at 2017-07-18\n",
      "2024-08-07 14:45:00,932 [INFO] Image already loaded. Skipping image slice_037_078099_IW3 with polarisation VV at 2017-07-18\n",
      "2024-08-07 14:45:00,932 [INFO] Loading from original SLC, burst 58 out of 74\n",
      "2024-08-07 14:45:00,932 [INFO] Image already loaded. Skipping image slice_037_078103_IW3 with polarisation VV at 2017-07-18\n",
      "2024-08-07 14:45:00,932 [INFO] Loading from original SLC, burst 61 out of 74\n",
      "2024-08-07 14:45:00,933 [INFO] Image already loaded. Skipping image slice_037_078082_IW3 with polarisation VV at 2017-07-18\n",
      "2024-08-07 14:45:00,934 [INFO] Image already loaded. Skipping image slice_037_078105_IW2 with polarisation VV at 2017-07-18\n",
      "2024-08-07 14:45:00,934 [INFO] Loading from original SLC, burst 62 out of 74\n",
      "2024-08-07 14:45:00,934 [INFO] Image already loaded. Skipping image slice_037_078100_IW2 with polarisation VV at 2017-07-18\n",
      "2024-08-07 14:45:00,934 [INFO] Loading from original SLC, burst 59 out of 74\n",
      "2024-08-07 14:45:00,935 [INFO] Loading from original SLC, burst 64 out of 74\n",
      "2024-08-07 14:45:00,935 [INFO] Loading from original SLC, burst 68 out of 74\n",
      "2024-08-07 14:45:00,935 [INFO] Image already loaded. Skipping image slice_037_078094_IW2 with polarisation VV at 2017-07-18\n",
      "2024-08-07 14:45:00,935 [INFO] Loading from original SLC, burst 63 out of 74\n",
      "2024-08-07 14:45:00,935 [INFO] Image already loaded. Skipping image slice_037_078099_IW2 with polarisation VV at 2017-07-18\n",
      "2024-08-07 14:45:00,936 [INFO] Image already loaded. Skipping image slice_037_078085_IW1 with polarisation VV at 2017-07-18\n",
      "2024-08-07 14:45:00,936 [INFO] Loading from original SLC, burst 65 out of 74\n",
      "2024-08-07 14:45:00,937 [INFO] Image already loaded. Skipping image slice_037_078084_IW3 with polarisation VV at 2017-07-18\n",
      "2024-08-07 14:45:00,937 [INFO] Image already loaded. Skipping image slice_037_078098_IW3 with polarisation VV at 2017-07-18\n",
      "2024-08-07 14:45:00,937 [INFO] Loading from original SLC, burst 66 out of 74\n",
      "2024-08-07 14:45:00,937 [INFO] Image already loaded. Skipping image slice_037_078089_IW1 with polarisation VV at 2017-07-18\n",
      "2024-08-07 14:45:00,937 [INFO] Loading from original SLC, burst 69 out of 74\n",
      "2024-08-07 14:45:00,938 [INFO] Loading from original SLC, burst 72 out of 74\n",
      "2024-08-07 14:45:00,938 [INFO] Image already loaded. Skipping image slice_037_078086_IW1 with polarisation VV at 2017-07-18\n",
      "2024-08-07 14:45:00,939 [INFO] Loading from original SLC, burst 67 out of 74\n",
      "2024-08-07 14:45:00,939 [INFO] Image already loaded. Skipping image slice_037_078086_IW2 with polarisation VV at 2017-07-18\n",
      "2024-08-07 14:45:00,939 [INFO] Loading from original SLC, burst 70 out of 74\n",
      "2024-08-07 14:45:00,939 [INFO] Image already loaded. Skipping image slice_037_078087_IW1 with polarisation VV at 2017-07-18\n",
      "2024-08-07 14:45:00,940 [INFO] Loading from original SLC, burst 73 out of 74\n",
      "2024-08-07 14:45:00,940 [INFO] Image already loaded. Skipping image slice_037_078082_IW1 with polarisation VV at 2017-07-18\n",
      "2024-08-07 14:45:00,941 [INFO] Image already loaded. Skipping image slice_037_078092_IW2 with polarisation VV at 2017-07-18\n",
      "2024-08-07 14:45:00,941 [INFO] Image already loaded. Skipping image slice_037_078102_IW1 with polarisation VV at 2017-07-18\n",
      "2024-08-07 14:45:00,941 [INFO] Loading from original SLC, burst 71 out of 74\n",
      "2024-08-07 14:45:00,942 [INFO] Image already loaded. Skipping image slice_037_078090_IW3 with polarisation VV at 2017-07-18\n",
      "2024-08-07 14:45:00,953 [INFO] Loading from original SLC, burst 12 out of 74\n",
      "2024-08-07 14:45:00,957 [INFO] Image already loaded. Skipping image slice_037_078101_IW3 with polarisation VV at 2017-07-18\n",
      "2024-08-07 14:45:00,957 [INFO] Loading from original SLC, burst 13 out of 74\n",
      "2024-08-07 14:45:00,959 [INFO] Image already loaded. Skipping image slice_037_078103_IW1 with polarisation VV at 2017-07-18\n",
      "2024-08-07 14:45:00,959 [INFO] Loading from original SLC, burst 14 out of 74\n",
      "2024-08-07 14:45:00,960 [INFO] Image already loaded. Skipping image slice_037_078099_IW1 with polarisation VV at 2017-07-18\n",
      "2024-08-07 14:45:00,961 [INFO] Loading from original SLC, burst 15 out of 74\n",
      "2024-08-07 14:45:00,962 [INFO] Image already loaded. Skipping image slice_037_078102_IW2 with polarisation VV at 2017-07-18\n",
      "2024-08-07 14:45:00,988 [INFO] Loading from original SLC, burst 20 out of 74\n",
      "2024-08-07 14:45:00,991 [INFO] Image already loaded. Skipping image slice_037_078104_IW2 with polarisation VV at 2017-07-18\n",
      "2024-08-07 14:45:00,991 [INFO] Loading from original SLC, burst 21 out of 74\n",
      "2024-08-07 14:45:00,992 [INFO] Image already loaded. Skipping image slice_037_078101_IW1 with polarisation VV at 2017-07-18\n",
      "2024-08-07 14:45:00,992 [INFO] Loading from original SLC, burst 22 out of 74\n",
      "2024-08-07 14:45:00,993 [INFO] Image already loaded. Skipping image slice_037_078098_IW1 with polarisation VV at 2017-07-18\n",
      "2024-08-07 14:45:00,993 [INFO] Loading from original SLC, burst 23 out of 74\n",
      "2024-08-07 14:45:00,994 [INFO] Image already loaded. Skipping image slice_037_078085_IW2 with polarisation VV at 2017-07-18\n"
     ]
    }
   ],
   "source": [
    "import datetime\n",
    "import numpy as np\n",
    "from rippl.processing_templates.NWP_processing import NWP_Processing\n",
    "\n",
    "# Track and data type of Sentinel data\n",
    "mode = 'IW'\n",
    "product_type = 'SLC'\n",
    "polarisation = ['VV']\n",
    "\n",
    "# Create the list of the 4 different stacks.\n",
    "track_no = 37\n",
    "stack_name = 'Benelux_NWP_track_37'\n",
    "no_processes = 6\n",
    "\n",
    "# For every track we have to select a primary date. This is based on the search results earlier.\n",
    "# Choose the date with the lowest coverage to create an image with only the overlapping parts.\n",
    "reference_date = datetime.datetime(year=2017, month=7, day=24)\n",
    "start_date = datetime.datetime(year=2017, month=7, day=16)\n",
    "end_date = datetime.datetime(year=2017, month=7, day=28)\n",
    "aps_processing = NWP_Processing(processes=no_processes, stack_name=stack_name)\n",
    "aps_processing.download_sentinel_data(start_date=start_date, end_date=end_date, track=track_no,                                                                             shapefile=study_area.shape, data=True, source='ASF')\n",
    "\n",
    "aps_processing.create_sentinel_stack(start_date=start_date, end_date=end_date, reference_date=reference_date,\n",
    "                                    cores=no_processes, track_no=track_no, polarisation=polarisation,\n",
    "                                    shapefile=study_area.shape, mode=mode, product_type=product_type)\n",
    "\n",
    "# Finally load the stack itself. If you want to skip the download step later, run this line before other steps!\n",
    "aps_processing.read_stack(start_date=start_date, end_date=end_date)\n",
    "aps_processing.create_coverage_shp_kml_geojson()"
   ]
  },
  {
   "cell_type": "markdown",
   "source": [
    "After downloading the SLC data and initializing the stack, we download and create the DEM, which is needed for further processing.\n",
    "\n",
    "After creation of the DEM we also calculate the geometry for the individual radar pixels."
   ],
   "metadata": {
    "collapsed": false
   }
  },
  {
   "cell_type": "code",
   "execution_count": 3,
   "outputs": [
    {
     "ename": "KeyError",
     "evalue": "'srtm'",
     "output_type": "error",
     "traceback": [
      "\u001B[0;31m---------------------------------------------------------------------------\u001B[0m",
      "\u001B[0;31mKeyError\u001B[0m                                  Traceback (most recent call last)",
      "Cell \u001B[0;32mIn[3], line 10\u001B[0m\n\u001B[1;32m      7\u001B[0m \u001B[38;5;66;03m# Define both the coordinate system of the DEM, download the needed tiles and import the DEM\u001B[39;00m\n\u001B[1;32m      8\u001B[0m aps_processing\u001B[38;5;241m.\u001B[39mcreate_dem_coordinates(dem_type\u001B[38;5;241m=\u001B[39mdem_type, buffer\u001B[38;5;241m=\u001B[39mdem_buffer, rounding\u001B[38;5;241m=\u001B[39mdem_rounding,\n\u001B[1;32m      9\u001B[0m                                      min_height\u001B[38;5;241m=\u001B[39mmin_height, max_height\u001B[38;5;241m=\u001B[39mmax_height)\n\u001B[0;32m---> 10\u001B[0m \u001B[43maps_processing\u001B[49m\u001B[38;5;241;43m.\u001B[39;49m\u001B[43mdownload_external_dem\u001B[49m\u001B[43m(\u001B[49m\u001B[43mn_processes\u001B[49m\u001B[38;5;241;43m=\u001B[39;49m\u001B[43mno_processes\u001B[49m\u001B[43m,\u001B[49m\u001B[43m \u001B[49m\u001B[43mdem_type\u001B[49m\u001B[38;5;241;43m=\u001B[39;49m\u001B[43mdem_type\u001B[49m\u001B[43m)\u001B[49m\n",
      "File \u001B[0;32m~/Software/rippl_main/rippl/processing_templates/InSAR_processing.py:71\u001B[0m, in \u001B[0;36mInSAR_Processing.download_external_dem\u001B[0;34m(self, dem_folder, dem_type, EarthData_username, EarthData_password, DLR_username, DLR_password, chunk_orientation, n_processes, lon_resolution)\u001B[0m\n\u001B[1;32m     69\u001B[0m coordinates \u001B[38;5;241m=\u001B[39m \u001B[38;5;28mself\u001B[39m\u001B[38;5;241m.\u001B[39mcoordinates[dem_type][\u001B[38;5;124m'\u001B[39m\u001B[38;5;124mfull\u001B[39m\u001B[38;5;124m'\u001B[39m]\n\u001B[1;32m     70\u001B[0m \u001B[38;5;28;01mif\u001B[39;00m dem_type \u001B[38;5;241m==\u001B[39m \u001B[38;5;124m'\u001B[39m\u001B[38;5;124mSRTM1\u001B[39m\u001B[38;5;124m'\u001B[39m:\n\u001B[0;32m---> 71\u001B[0m     \u001B[38;5;28;43mself\u001B[39;49m\u001B[38;5;241;43m.\u001B[39;49m\u001B[43mdownload_SRTM_dem\u001B[49m\u001B[43m(\u001B[49m\u001B[43mdem_folder\u001B[49m\u001B[43m,\u001B[49m\u001B[43m \u001B[49m\u001B[43mEarthData_username\u001B[49m\u001B[43m,\u001B[49m\u001B[43m \u001B[49m\u001B[43mEarthData_password\u001B[49m\u001B[43m,\u001B[49m\u001B[43m \u001B[49m\u001B[43msrtm_type\u001B[49m\u001B[38;5;241;43m=\u001B[39;49m\u001B[38;5;124;43m'\u001B[39;49m\u001B[38;5;124;43mSRTM1\u001B[39;49m\u001B[38;5;124;43m'\u001B[39;49m\u001B[43m,\u001B[49m\u001B[43m \u001B[49m\u001B[43mn_processes\u001B[49m\u001B[38;5;241;43m=\u001B[39;49m\u001B[43mn_processes\u001B[49m\u001B[43m)\u001B[49m\n\u001B[1;32m     72\u001B[0m \u001B[38;5;28;01melif\u001B[39;00m dem_type \u001B[38;5;241m==\u001B[39m \u001B[38;5;124m'\u001B[39m\u001B[38;5;124mSRTM3\u001B[39m\u001B[38;5;124m'\u001B[39m:\n\u001B[1;32m     73\u001B[0m     \u001B[38;5;28mself\u001B[39m\u001B[38;5;241m.\u001B[39mdownload_SRTM_dem(dem_folder, EarthData_username, EarthData_password, srtm_type\u001B[38;5;241m=\u001B[39m\u001B[38;5;124m'\u001B[39m\u001B[38;5;124mSRTM3\u001B[39m\u001B[38;5;124m'\u001B[39m, n_processes\u001B[38;5;241m=\u001B[39mn_processes)\n",
      "File \u001B[0;32m~/Software/rippl_main/rippl/meta_data/stack.py:578\u001B[0m, in \u001B[0;36mStack.download_SRTM_dem\u001B[0;34m(self, srtm_folder, username, password, srtm_type, parallel, n_processes)\u001B[0m\n\u001B[1;32m    560\u001B[0m \u001B[38;5;250m\u001B[39m\u001B[38;5;124;03m\"\"\"\u001B[39;00m\n\u001B[1;32m    561\u001B[0m \u001B[38;5;124;03mDownloads the needed srtm data for this data_stack. srtm_folder is the folder the downloaded srtm tiles are\u001B[39;00m\n\u001B[1;32m    562\u001B[0m \u001B[38;5;124;03mstored.\u001B[39;00m\n\u001B[0;32m   (...)\u001B[0m\n\u001B[1;32m    574\u001B[0m \u001B[38;5;124;03m:return:\u001B[39;00m\n\u001B[1;32m    575\u001B[0m \u001B[38;5;124;03m\"\"\"\u001B[39;00m\n\u001B[1;32m    577\u001B[0m \u001B[38;5;28;01mif\u001B[39;00m \u001B[38;5;129;01mnot\u001B[39;00m srtm_folder:\n\u001B[0;32m--> 578\u001B[0m     srtm_folder \u001B[38;5;241m=\u001B[39m os\u001B[38;5;241m.\u001B[39mpath\u001B[38;5;241m.\u001B[39mjoin(\u001B[38;5;28mself\u001B[39m\u001B[38;5;241m.\u001B[39msettings\u001B[38;5;241m.\u001B[39msettings[\u001B[38;5;124m'\u001B[39m\u001B[38;5;124mpaths\u001B[39m\u001B[38;5;124m'\u001B[39m][\u001B[38;5;124m'\u001B[39m\u001B[38;5;124mDEM_database\u001B[39m\u001B[38;5;124m'\u001B[39m], \u001B[38;5;28;43mself\u001B[39;49m\u001B[38;5;241;43m.\u001B[39;49m\u001B[43msettings\u001B[49m\u001B[38;5;241;43m.\u001B[39;49m\u001B[43msettings\u001B[49m\u001B[43m[\u001B[49m\u001B[38;5;124;43m'\u001B[39;49m\u001B[38;5;124;43mpath_names\u001B[39;49m\u001B[38;5;124;43m'\u001B[39;49m\u001B[43m]\u001B[49m\u001B[43m[\u001B[49m\u001B[38;5;124;43m'\u001B[39;49m\u001B[38;5;124;43mDEM\u001B[39;49m\u001B[38;5;124;43m'\u001B[39;49m\u001B[43m]\u001B[49m\u001B[43m[\u001B[49m\u001B[38;5;124;43m'\u001B[39;49m\u001B[38;5;124;43msrtm\u001B[39;49m\u001B[38;5;124;43m'\u001B[39;49m\u001B[43m]\u001B[49m)\n\u001B[1;32m    579\u001B[0m \u001B[38;5;28;01mif\u001B[39;00m \u001B[38;5;129;01mnot\u001B[39;00m username:\n\u001B[1;32m    580\u001B[0m     username \u001B[38;5;241m=\u001B[39m \u001B[38;5;28mself\u001B[39m\u001B[38;5;241m.\u001B[39msettings\u001B[38;5;241m.\u001B[39msettings[\u001B[38;5;124m'\u001B[39m\u001B[38;5;124maccounts\u001B[39m\u001B[38;5;124m'\u001B[39m][\u001B[38;5;124m'\u001B[39m\u001B[38;5;124mEarthData\u001B[39m\u001B[38;5;124m'\u001B[39m][\u001B[38;5;124m'\u001B[39m\u001B[38;5;124musername\u001B[39m\u001B[38;5;124m'\u001B[39m]\n",
      "\u001B[0;31mKeyError\u001B[0m: 'srtm'"
     ]
    }
   ],
   "source": [
    "dem_buffer = 0          # Buffer around radar image where DEM data is downloaded\n",
    "dem_rounding = 0        # Rounding of DEM size in degrees\n",
    "min_height = -100       # Expected minimum elevation in area of interest (take geoid into account!)\n",
    "max_height = 1000       # Expected maximum elevation in area of interest\n",
    "dem_type = 'SRTM1'      # DEM type of data we download (SRTM1, SRTM3, TDM30 and TDM90 are supported)\n",
    "\n",
    "# Define both the coordinate system of the DEM, download the needed tiles and import the DEM\n",
    "aps_processing.create_dem_coordinates(dem_type=dem_type, buffer=dem_buffer, rounding=dem_rounding,\n",
    "                                     min_height=min_height, max_height=max_height)\n",
    "aps_processing.download_external_dem(n_processes=no_processes, dem_type=dem_type)"
   ],
   "metadata": {
    "collapsed": false,
    "ExecuteTime": {
     "end_time": "2024-08-07T12:46:04.602109421Z",
     "start_time": "2024-08-07T12:46:03.837120059Z"
    }
   }
  },
  {
   "cell_type": "markdown",
   "source": [
    "Based on the calculated geometries we can now coregister and resample all secondary images to the reference image. \n",
    "\n",
    "Using the resampled image also the interferogram, coherence, amplitude and unwrapped interferogram are created and exported as a geotiff image. You can use GIS programs like QGIS to visualize this data."
   ],
   "metadata": {
    "collapsed": false
   }
  },
  {
   "cell_type": "code",
   "outputs": [
    {
     "name": "stderr",
     "output_type": "stream",
     "text": [
      "/home/gert/Software/rippl_main/rippl/meta_data/image_data.py:544: RuntimeWarning: divide by zero encountered in log\n",
      "  data.GetRasterBand(1).WriteArray(np.log(np.abs(self.memory['data'])))\n"
     ]
    }
   ],
   "source": [
    "# Geocoding of image\n",
    "aps_processing.geocode_calc_geometry(dem_type=dem_type)\n",
    "\n",
    "# Next step applies resampling and phase correction in one step.\n",
    "# Polarisation\n",
    "aps_processing.coregister_resample(polarisation=polarisation)\n",
    "\n",
    "# Create interferograms\n",
    "aps_processing.create_interferogram_network(max_temporal_baseline=30)\n",
    "\n",
    "# Resolution of output georeferenced grid\n",
    "dy = 250\n",
    "dx = 250\n",
    "\n",
    "# The creation of calibrated amplitude, interferograms, coherence and unwrapped interferograms\n",
    "aps_processing.create_ml_coordinates(name='mercator_250m', coor_type='projection', oblique_mercator=True, dx=dx, dy=dy, buffer=dem_buffer, rounding=dem_rounding, min_height=min_height, max_height=max_height, overwrite=True)\n",
    "aps_processing.geocode_calc_geometry_multilooked(ml_name='mercator_250m')\n",
    "aps_processing.calc_calibrated_amplitude(polarisation=polarisation, ml_name='mercator_250m')\n",
    "aps_processing.calc_interferogram_coherence(polarisation=polarisation, ml_name='mercator_250m')\n",
    "aps_processing.unwrap(polarisation, ml_name='mercator_250m')\n",
    "\n",
    "# Create output geotiffs\n",
    "aps_processing.create_output_geotiffs('calibrated_amplitude', ml_name='mercator_250m')\n",
    "aps_processing.create_output_geotiffs('coherence', ml_name='mercator_250m')\n",
    "aps_processing.create_output_geotiffs('interferogram', ml_name='mercator_250m')\n",
    "aps_processing.create_output_geotiffs('unwrap', ml_name='mercator_250m')"
   ],
   "metadata": {
    "collapsed": false,
    "pycharm": {
     "name": "#%%\n"
    },
    "ExecuteTime": {
     "end_time": "2023-08-16T14:09:28.973083208Z",
     "start_time": "2023-08-16T14:00:09.652920418Z"
    }
   },
   "execution_count": 5
  },
  {
   "cell_type": "markdown",
   "source": [
    "Plot the resulting values for the amplitude, coherence, interferogram and unwrapped interferogram."
   ],
   "metadata": {
    "collapsed": false
   }
  },
  {
   "cell_type": "code",
   "execution_count": 6,
   "outputs": [],
   "source": [
    "# Create some images of the ifg / no looks / incidence angles / unwrapped image / coherence / cal\n",
    "# amplitude\n",
    "\n",
    "# Create images using cartopy\n",
    "aps_processing.plot_figures(process_name='calibrated_amplitude', variable_name='calibrated_amplitude_db',\n",
    "                           margins=-0.25, ml_name='mercator_250m', cmap='Greys_r',\n",
    "                           title='Calibrated Amplitude', cbar_title='dB')\n",
    "aps_processing.plot_figures(process_name='intensity', variable_name='number_of_samples',\n",
    "                           margins=-0.25, ml_name='mercator_250m', cmap='Greys_r',\n",
    "                           title='Number of samples', cbar_title='#', quantiles=[0.001, 0.999])\n",
    "aps_processing.plot_figures(process_name='dem', variable_name='dem',\n",
    "                           margins=-0.25, ml_name='mercator_250m', cmap='terrain',\n",
    "                           title='DEM', cbar_title='meters')\n",
    "aps_processing.plot_figures(process_name='radar_geometry', variable_name='incidence_angle',\n",
    "                           margins=-0.25, ml_name='mercator_250m', cmap='Greys_r',\n",
    "                           title='Incidence Angle', cbar_title='degrees')\n",
    "aps_processing.plot_figures(process_name='coherence', variable_name='coherence',\n",
    "                           margins=-0.25, ml_name='mercator_250m', cmap='Greys_r',\n",
    "                           title='Coherence', cbar_title='coherence')\n",
    "aps_processing.plot_figures(process_name='interferogram', variable_name='interferogram',\n",
    "                           margins=-0.25, ml_name='mercator_250m', cmap='jet',\n",
    "                           title='Interferogram', cbar_title='radians', remove_sea=True)\n",
    "aps_processing.plot_figures(process_name='unwrap', variable_name='unwrapped',\n",
    "                           margins=-0.25, ml_name='mercator_250m', cmap='jet',\n",
    "                           title='Unwrapped interferogram', cbar_title='meter', remove_sea=True,\n",
    "                           factor=-0.0554657 / (np.pi * 2) / 2, linear_transparency=False,\n",
    "                           dB_lims=[-18, 10], coh_lims=[0.05, 1])"
   ],
   "metadata": {
    "collapsed": false,
    "pycharm": {
     "name": "#%% \n"
    },
    "ExecuteTime": {
     "end_time": "2023-08-16T14:25:34.021503815Z",
     "start_time": "2023-08-16T14:23:26.351633569Z"
    }
   }
  },
  {
   "cell_type": "markdown",
   "source": [
    "Now the geometry for the calculation of NWP model delays are computed. Here we use a 2.5 km grid, because the both weather models have a grid size larger than 2.5 km. To do a ray-tracing through the model this input geometry is needed."
   ],
   "metadata": {
    "collapsed": false
   }
  },
  {
   "cell_type": "code",
   "execution_count": 7,
   "outputs": [],
   "source": [
    "# Create basic geometry for APS calculations.\n",
    "# Create DEM and geometry for the APS interpolation grid\n",
    "dy = 2500\n",
    "dx = 2500\n",
    "\n",
    "# The creation of calibrated amplitude, interferograms, coherence and unwrapped interferograms\n",
    "aps_processing.create_ml_coordinates(name='mercator_2500m', coor_type='projection', oblique_mercator=True, dx=dx, dy=dy, buffer=dem_buffer, rounding=dem_rounding, min_height=min_height, max_height=max_height, overwrite=True)\n",
    "aps_processing.geocode_calc_geometry_multilooked(ml_name='mercator_2500m')"
   ],
   "metadata": {
    "collapsed": false,
    "pycharm": {
     "name": "#%% Create images using cartopy\n"
    },
    "ExecuteTime": {
     "end_time": "2023-08-16T14:33:07.771482081Z",
     "start_time": "2023-08-16T14:33:00.648077883Z"
    }
   }
  },
  {
   "cell_type": "markdown",
   "source": [
    "In the following section we download the needed ECMWF data. For this analysis two different reanalysis datasets are downloaded:\n",
    "- The ERA5 renanalysis, which is a worldwide reanalysis on a ~30 km grid\n",
    "- The CERRA reanalysis, which is a european reanalysis on a 5.5 km grid\n",
    "\n",
    "Although both datasets are available on model and pressure levels, we prefer to use the pressure level data as it is smaller and much faster to download. However, users can also download the model level data, which should give a small increase in accuracy of the delay estimates."
   ],
   "metadata": {
    "collapsed": false
   }
  },
  {
   "cell_type": "code",
   "execution_count": null,
   "outputs": [],
   "source": [
    "from rippl.NWP_model_delay.load_NWP_data.ecmwf.ecmwf_download import CDSdownload\n",
    "import numpy as np\n",
    "from rippl.user_settings import UserSettings\n",
    "\n",
    "settings = UserSettings()\n",
    "settings.load_settings()\n",
    "# Download of ERA5 data. (This can take some time because you have to wait in the queue!)\n",
    "# Make sure you created your own cdsapi token!\n",
    "# Find the guidelines for downloading via https://cds.climate.copernicus.eu/api-how-to\n",
    "\n",
    "# We project_functions data for western europe. (This can be extended or narrowed, but should at least include the satellite\n",
    "# orbit and radar points on the ground.)\n",
    "latlim = [45, 56]\n",
    "lonlim = [-2, 12]\n",
    "\n",
    "data_type = 'era5'\n",
    "time_interp = 'nearest'\n",
    "\n",
    "# Take only part of dataset\n",
    "overpasses = np.array([start_date, end_date])\n",
    "\n",
    "down = CDSdownload(latlim, lonlim, data_type=data_type)\n",
    "down.prepare_download(overpasses)\n",
    "down.download()"
   ],
   "metadata": {
    "collapsed": false
   }
  },
  {
   "cell_type": "markdown",
   "source": [
    "Now the atmospheric delays are calculated. This is done using a ray-tracing technique where the path through the NWP model grid is calculated. Then, the temperature, pressure and humidity values along the ray's path are used to calculate the delay. \n",
    "\n",
    "To compare the results with the unwrapped delay values from InSAR data, a synthetic interferogram is created from the delay values of two atmospheric states. Results are written to disk as geotiff and .png files."
   ],
   "metadata": {
    "collapsed": false
   }
  },
  {
   "cell_type": "code",
   "execution_count": null,
   "outputs": [],
   "source": [
    "# Create image for ERA5\n",
    "\n",
    "# The first step we take is calculate the images for the two dates\n",
    "# Then do the APS calculations\n",
    "aps_processing.calculate_ecmwf_aps(latlim=latlim, lonlim=lonlim)\n",
    "\n",
    "# Then we create the interferogram of both images\n",
    "aps_processing.calculate_ifg_ecmwf_aps()\n",
    "\n",
    "# Create image and .tiff file for ERA5 individual dates and ifg\n",
    "aps_processing.create_output_tiffs_ecmwf_aps()\n",
    "aps_processing.create_plots_ecmwf_aps(overwrite=True, factor=2, remove_sea=True)"
   ],
   "metadata": {
    "collapsed": false
   }
  },
  {
   "cell_type": "markdown",
   "source": [
    "The following steps will use Harmonie data that was provided by the KNMI (knmi.nl), the Royal Dutch Meteorological Institute\n",
    "This data is added to the paper to run this tutorial, but is not directly downloadable from their databases. Data is\n",
    "available upon request with a processing fee. For other national forecast agencies within europe other rules could apply."
   ],
   "metadata": {
    "collapsed": false,
    "pycharm": {
     "name": "#%% md\n"
    }
   }
  },
  {
   "cell_type": "code",
   "execution_count": 7,
   "outputs": [],
   "source": [
    "import os\n",
    "from rippl.user_settings import UserSettings\n",
    "import urllib.request\n",
    "\n",
    "settings = UserSettings()\n",
    "settings.load_settings()\n",
    "\n",
    "# Download of Harmonie data. This data is stored with the paper itself (should go relatively fast)\n",
    "urls = ['https://surfdrive.surf.nl/files/index.php/s/kwXjZoRqujHRjsC/download',\n",
    "        'https://surfdrive.surf.nl/files/index.php/s/N8RCpbFZjPrY1ME/download']\n",
    "filenames = ['HA38_N25_201707180300_00245_GB',\n",
    "             'HA38_N25_201707240300_00245_GB']\n",
    "download_folder = os.path.join(settings.NWP_model_database, 'harmonie_data', 'h38')\n",
    "if not os.path.exists(download_folder):\n",
    "    os.mkdir(download_folder)\n",
    "\n",
    "for url, filename in zip(urls, filenames):\n",
    "    if not os.path.exists(os.path.join(download_folder, filename)):\n",
    "        urllib.request.urlretrieve(url, os.path.join(download_folder, filename))"
   ],
   "metadata": {
    "collapsed": false,
    "pycharm": {
     "name": "#%%\n"
    }
   }
  },
  {
   "cell_type": "markdown",
   "source": [
    "Using ray-tracing also the expected InSAR delays from weather model data for the Harmonie model are computed."
   ],
   "metadata": {
    "collapsed": false
   }
  },
  {
   "cell_type": "code",
   "execution_count": 8,
   "outputs": [
    {
     "name": "stdout",
     "output_type": "stream",
     "text": [
      "Processing pipeline block 1 out of 1\n",
      "Start time block 1 is 2022-05-20 14:56:48.057233\n",
      "Skipping processing. Process already finished\n",
      "Skipping processing. Process already finished\n",
      "Finished processing pipeline block 1 out of 1\n",
      "Finished block 1 in 0:00:00.182752\n",
      "Processing pipeline block 1 out of 1\n",
      "Start time block 1 is 2022-05-20 14:56:48.980209\n",
      "Skipping processing. Process already finished\n",
      "Finished processing pipeline block 1 out of 1\n",
      "Finished block 1 in 0:00:00.185403\n"
     ]
    }
   ],
   "source": [
    "# The first step we take is calculate the images for the two dates\n",
    "# Then do the APS calculations\n",
    "aps_processing.calculate_harmonie_aps()\n",
    "\n",
    "# Then we create the interferogram of both images\n",
    "aps_processing.calculate_ifg_harmonie_aps()\n",
    "\n",
    "# Create image and .tiff file for ERA5 individual dates and ifg\n",
    "aps_processing.create_output_tiffs_harmonie_aps()\n",
    "aps_processing.create_plots_harmonie_aps(overwrite=True, factor=2, remove_sea=True)"
   ],
   "metadata": {
    "collapsed": false,
    "pycharm": {
     "name": "#%%\n"
    }
   }
  },
  {
   "cell_type": "markdown",
   "source": [
    "This finishes the tutorial for NWP model data in InSAR time-series. Using the code above you can create your own project using ERA5 data. "
   ],
   "metadata": {
    "collapsed": false
   }
  }
 ],
 "metadata": {
  "kernelspec": {
   "display_name": "Python 3",
   "language": "python",
   "name": "python3"
  },
  "language_info": {
   "codemirror_mode": {
    "name": "ipython",
    "version": 2
   },
   "file_extension": ".py",
   "mimetype": "text/x-python",
   "name": "python",
   "nbconvert_exporter": "python",
   "pygments_lexer": "ipython2",
   "version": "2.7.6"
  }
 },
 "nbformat": 4,
 "nbformat_minor": 0
}
