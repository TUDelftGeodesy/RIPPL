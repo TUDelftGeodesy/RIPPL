{
 "cells": [
  {
   "cell_type": "markdown",
   "metadata": {
    "collapsed": true,
    "pycharm": {
     "name": "#%% md\n"
    }
   },
   "source": [
    "In this notebook we will explain the RIPPL workflow based on a study case about the Kumamoto earthquake in \n",
    "Japan. \n",
    "\n",
    "In the first block we define the study area. There are different options to do so.\n",
    "1. Create a shapefile (this can be done using ArcGIS or QGIS software)\n",
    "2. Create a kml file using google earth > https://www.google.com/earth/\n",
    "3. Create a geojson using > http://geojson.io\n",
    "4. Create a list of coordinates in lat/lon coordinate pairs. This is what we will do here. \n",
    "\n",
    "To show the study area it is possible to run both google earth and geojson within the notebook.\n",
    "\n",
    "For further background on this event you can read:\n",
    "https://en.wikipedia.org/wiki/2016_Kumamoto_earthquakes\n",
    "\n",
    "Following image shows the earthquake strength (credits: USGS 2016):\n",
    "![Image of Kumamoto earthquake strength](https://upload.wikimedia.org/wikipedia/commons/1/14/Japan_Shakemap_15_April_2016.jpg)"
   ]
  },
  {
   "cell_type": "code",
   "execution_count": 12,
   "outputs": [],
   "source": [
    "# Import script to embed geolocation.\n",
    "from IPython.display import HTML\n",
    "from rippl.orbit_geometry.read_write_shapes import ReadWriteShapes\n",
    "\n",
    "coordinates = [(130.25, 32.28), (131.35, 32.28), (131.35, 33.24), (130.25, 33.24), (130.25, 32.28)]\n",
    "study_area = ReadWriteShapes()\n",
    "study_area(coordinates)\n",
    "\n",
    "geojson = study_area.shape\n",
    "\n",
    "# Show and embed geojson.io\n"
   ],
   "metadata": {
    "collapsed": false,
    "pycharm": {
     "name": "#%%\n"
    }
   }
  },
  {
   "cell_type": "markdown",
   "source": [
    "The next step in the processing is selection of the right track, as the Sentinel-1 satellite will cover the area on both\n",
    "ascending and descending tracks. However, to do so, we will have to define the start and end date of our data search, \n",
    "because the satellite is not always acquiring data. \n",
    "Next search will give a small oversight of the available tracks during our period of interest. In our case we will \n",
    "search one week before and one week after the earthquake.\n",
    "\n",
    "Watch out with extending the search window, this can result in a lot of images. For now, the total number of images\n",
    "in this software is limited to a 100. Also note that every downloaded file will take approximately 4GB of disk space!"
   ],
   "metadata": {
    "collapsed": false,
    "pycharm": {
     "name": "#%% md\n"
    }
   }
  },
  {
   "cell_type": "code",
   "execution_count": 12,
   "outputs": [],
   "source": [],
   "metadata": {
    "collapsed": false,
    "pycharm": {
     "name": "#%%\n"
    }
   }
  },
  {
   "cell_type": "markdown",
   "source": [
    "After selection of the right track we can start the actual download of the images. In our case we use track ... in the\n",
    "descending/ascending direction.\n",
    "\n",
    "This will download our data automatically to our radar database. Additionally, it will download the precise orbit files.\n",
    "These files are created within a few weeks after the data acquisition and define the satellite orbit within a few cm\n",
    "accuracy. These orbits are necessary to accurately define the positions of the radar pixels on the ground later on\n",
    "in the processing."
   ],
   "metadata": {
    "collapsed": false,
    "pycharm": {
     "name": "#%% md\n"
    }
   }
  },
  {
   "cell_type": "code",
   "execution_count": 13,
   "outputs": [
    {
     "name": "stdout",
     "output_type": "stream",
     "text": [
      "not possible to connect this time\n"
     ]
    },
    {
     "ename": "FileNotFoundError",
     "evalue": "No images found!",
     "output_type": "error",
     "traceback": [
      "\u001B[0;31m---------------------------------------------------------------------------\u001B[0m",
      "\u001B[0;31mFileNotFoundError\u001B[0m                         Traceback (most recent call last)",
      "\u001B[0;32m<ipython-input-13-d56567bac782>\u001B[0m in \u001B[0;36m<module>\u001B[0;34m\u001B[0m\n\u001B[1;32m     15\u001B[0m \u001B[0ms1_processing\u001B[0m \u001B[0;34m=\u001B[0m \u001B[0mGeneralPipelines\u001B[0m\u001B[0;34m(\u001B[0m\u001B[0mprocesses\u001B[0m\u001B[0;34m=\u001B[0m\u001B[0mno_processes\u001B[0m\u001B[0;34m)\u001B[0m\u001B[0;34m\u001B[0m\u001B[0;34m\u001B[0m\u001B[0m\n\u001B[1;32m     16\u001B[0m s1_processing.download_sentinel_data(start_date=start_date, end_date=end_date, track=track,\n\u001B[0;32m---> 17\u001B[0;31m                                            polarisation=polarisation, shapefile=study_area.shape, data=True)\n\u001B[0m\u001B[1;32m     18\u001B[0m s1_processing.create_sentinel_stack(start_date=start_date, end_date=end_date, master_date=master_date,\n\u001B[1;32m     19\u001B[0m                                           \u001B[0mtrack\u001B[0m\u001B[0;34m=\u001B[0m\u001B[0mtrack\u001B[0m\u001B[0;34m,\u001B[0m\u001B[0mstack_name\u001B[0m\u001B[0;34m=\u001B[0m\u001B[0mstack_name\u001B[0m\u001B[0;34m,\u001B[0m \u001B[0mpolarisation\u001B[0m\u001B[0;34m=\u001B[0m\u001B[0mpolarisation\u001B[0m\u001B[0;34m,\u001B[0m\u001B[0;34m\u001B[0m\u001B[0;34m\u001B[0m\u001B[0m\n",
      "\u001B[0;32m~/software/rippl_master/rippl/processing_templates/general_sentinel_1.py\u001B[0m in \u001B[0;36mdownload_sentinel_data\u001B[0;34m(self, start_date, end_date, track, polarisation, shapefile, radar_database_folder, orbit_folder, ESA_username, ESA_password, ASF_username, ASF_password, data, orbit)\u001B[0m\n\u001B[1;32m    214\u001B[0m                 \u001B[0mdownload_data\u001B[0m \u001B[0;34m=\u001B[0m \u001B[0mDownloadSentinel\u001B[0m\u001B[0;34m(\u001B[0m\u001B[0mstart_date\u001B[0m\u001B[0;34m,\u001B[0m \u001B[0mend_date\u001B[0m\u001B[0;34m,\u001B[0m \u001B[0mshapefile\u001B[0m\u001B[0;34m,\u001B[0m \u001B[0mtrack\u001B[0m\u001B[0;34m,\u001B[0m \u001B[0mpolarisation\u001B[0m\u001B[0;34m=\u001B[0m\u001B[0mpol\u001B[0m\u001B[0;34m)\u001B[0m\u001B[0;34m\u001B[0m\u001B[0;34m\u001B[0m\u001B[0m\n\u001B[1;32m    215\u001B[0m                 \u001B[0mdownload_data\u001B[0m\u001B[0;34m.\u001B[0m\u001B[0msentinel_available\u001B[0m\u001B[0;34m(\u001B[0m\u001B[0mESA_username\u001B[0m\u001B[0;34m,\u001B[0m \u001B[0mESA_password\u001B[0m\u001B[0;34m)\u001B[0m\u001B[0;34m\u001B[0m\u001B[0;34m\u001B[0m\u001B[0m\n\u001B[0;32m--> 216\u001B[0;31m                 \u001B[0mdownload_data\u001B[0m\u001B[0;34m.\u001B[0m\u001B[0msentinel_download_ASF\u001B[0m\u001B[0;34m(\u001B[0m\u001B[0mradar_database_folder\u001B[0m\u001B[0;34m,\u001B[0m \u001B[0mASF_username\u001B[0m\u001B[0;34m,\u001B[0m \u001B[0mASF_password\u001B[0m\u001B[0;34m)\u001B[0m\u001B[0;34m\u001B[0m\u001B[0;34m\u001B[0m\u001B[0m\n\u001B[0m\u001B[1;32m    217\u001B[0m \u001B[0;34m\u001B[0m\u001B[0m\n\u001B[1;32m    218\u001B[0m         \u001B[0;31m# Orbits\u001B[0m\u001B[0;34m\u001B[0m\u001B[0;34m\u001B[0m\u001B[0;34m\u001B[0m\u001B[0m\n",
      "\u001B[0;32m~/software/rippl_master/rippl/SAR_sensors/sentinel/sentinel_download.py\u001B[0m in \u001B[0;36msentinel_download_ASF\u001B[0;34m(self, database_folder, username, password)\u001B[0m\n\u001B[1;32m    186\u001B[0m \u001B[0;34m\u001B[0m\u001B[0m\n\u001B[1;32m    187\u001B[0m         \u001B[0;32mif\u001B[0m \u001B[0;32mnot\u001B[0m \u001B[0mself\u001B[0m\u001B[0;34m.\u001B[0m\u001B[0mproducts\u001B[0m\u001B[0;34m:\u001B[0m\u001B[0;34m\u001B[0m\u001B[0;34m\u001B[0m\u001B[0m\n\u001B[0;32m--> 188\u001B[0;31m             \u001B[0;32mraise\u001B[0m \u001B[0mFileNotFoundError\u001B[0m\u001B[0;34m(\u001B[0m\u001B[0;34m'No images found!'\u001B[0m\u001B[0;34m)\u001B[0m\u001B[0;34m\u001B[0m\u001B[0;34m\u001B[0m\u001B[0m\n\u001B[0m\u001B[1;32m    189\u001B[0m \u001B[0;34m\u001B[0m\u001B[0m\n\u001B[1;32m    190\u001B[0m         \u001B[0mwget_base\u001B[0m \u001B[0;34m=\u001B[0m \u001B[0;34m'wget -c --http-user='\u001B[0m \u001B[0;34m+\u001B[0m \u001B[0musername\u001B[0m \u001B[0;34m+\u001B[0m \u001B[0;34m' --http-password='\u001B[0m \u001B[0;34m+\u001B[0m \u001B[0mpassword\u001B[0m \u001B[0;34m+\u001B[0m \u001B[0;34m' '\u001B[0m\u001B[0;34m\u001B[0m\u001B[0;34m\u001B[0m\u001B[0m\n",
      "\u001B[0;31mFileNotFoundError\u001B[0m: No images found!"
     ]
    }
   ],
   "source": [
    "from rippl.processing_templates.general_sentinel_1 import GeneralPipelines\n",
    "\n",
    "start_date = '2016-04-07'\n",
    "end_date = '2016-04-21'\n",
    "master_date = '2016-04-08'\n",
    "track = 156\n",
    "polarisation = 'VV'\n",
    "mode = 'IW'\n",
    "product_type = 'SLC'\n",
    "stack_name = 'Kumamoto_earthquake'\n",
    "\n",
    "# Number of processes for parallel processing. Make sure that for every process at least 2GB of RAM is available\n",
    "no_processes = 4\n",
    "\n",
    "s1_processing = GeneralPipelines(processes=no_processes)\n",
    "s1_processing.download_sentinel_data(start_date=start_date, end_date=end_date, track=track,\n",
    "                                           polarisation=polarisation, shapefile=study_area.shape, data=True)\n",
    "s1_processing.create_sentinel_stack(start_date=start_date, end_date=end_date, master_date=master_date,\n",
    "                                          track=track,stack_name=stack_name, polarisation=polarisation,\n",
    "                                          shapefile=study_area.shape, mode=mode, product_type=product_type)\n",
    "\n",
    "# Finally load the stack itself. If you want to skip the download step later, run this line before other steps!\n",
    "s1_processing.read_stack(start_date=start_date, end_date=end_date, stack_name=stack_name)"
   ],
   "metadata": {
    "collapsed": false,
    "pycharm": {
     "name": "#%%\n"
    }
   }
  },
  {
   "cell_type": "markdown",
   "source": [
    "To define the location of the radar pixels on the ground we need the terrain elevation. Although it is possible to \n",
    "derive terrain elevation from InSAR data, our used Sentinel-1 dataset is not suitable for this purpose. Therefore, we\n",
    "download data from an external source to create a digital elevation model (DEM). In our case we use SRTM data. \n",
    "\n",
    "However, to find the elevation of the SAR data grid, we have to resample the data to the radar grid first to make it\n",
    "usable. This is done in the next steps."
   ],
   "metadata": {
    "collapsed": false,
    "pycharm": {
     "name": "#%% md\n"
    }
   }
  },
  {
   "cell_type": "code",
   "execution_count": null,
   "outputs": [],
   "source": [
    "# Some basic settings for DEM creation.\n",
    "dem_buffer = 0.1        # Buffer around radar image where DEM data is downloaded\n",
    "dem_rounding = 0.1      # Rounding of DEM size in degrees\n",
    "dem_type = 'SRTM3'      # DEM type of data we download (SRTM1, SRTM3 and TanDEM-X are supported)\n",
    "\n",
    "# Define both the coordinate system of the full radar image and imported DEM\n",
    "s1_processing.create_radar_coordinates()\n",
    "s1_processing.create_dem_coordinates(dem_type=dem_type)\n",
    "\n",
    "# Download external DEM\n",
    "s1_processing.download_external_dem(buffer=dem_buffer, rounding=dem_rounding)"
   ],
   "metadata": {
    "collapsed": false,
    "pycharm": {
     "name": "#%%\n"
    }
   }
  },
  {
   "cell_type": "markdown",
   "source": [
    "Using the obtained elevation model the exact location of the radar pixels in cartesian (X,Y,Z) and geographic (Lat/Lon)\n",
    "can be derived. This is only done for the master or reference image. This process is referred to as geocoding."
   ],
   "metadata": {
    "collapsed": false,
    "pycharm": {
     "name": "#%% md\n"
    }
   }
  },
  {
   "cell_type": "code",
   "execution_count": null,
   "outputs": [],
   "source": [
    "# Geocoding of image\n",
    "s1_processing.geocoding()"
   ],
   "metadata": {
    "collapsed": false,
    "pycharm": {
     "name": "#%% \n"
    }
   }
  },
  {
   "cell_type": "markdown",
   "source": [
    "The information from the geocoding can directly be used to find the location of the master grid pixels in the slave\n",
    "grid images. This process is called coregistration. Because the orbits are not exactly the same with every satellite \n",
    "overpass but differ hundreds to a few thousand meters every overpass, the grids are slightly shifted with respect to \n",
    "each other. These shift are referred to as the spatial baseline of the images. To correctly overlay the master and slave\n",
    "images the software coregisters and resamples to the master grid.\n",
    "\n",
    "To do so the following steps are done:\n",
    "1. Coregistration of slave to master image\n",
    "2. Deramping the doppler effects due to TOPs mode of Sentinel-1 satellite\n",
    "3. Resampling of slave image\n",
    "4. Reramping resampled slave image.\n",
    "\n",
    "Due to the different orbits of the master and slave image, the phase of the radar signal is also shifted. We do not \n",
    "know the exact shift of the two image, but using the geometry of the two images we can estimate the shift of the phase\n",
    "between different pixels. Often this shift is split in two contributions:\n",
    "1. The flat earth phase. This phase is the shift in the case the earth was a perfect ellipsoid\n",
    "2. The topographic phase. This is the phase shift due to the topography on the ground.\n",
    "In our processing these two corrections are done in one go."
   ],
   "metadata": {
    "collapsed": false,
    "pycharm": {
     "name": "#%% md\n"
    }
   }
  },
  {
   "cell_type": "code",
   "execution_count": null,
   "outputs": [],
   "source": [
    "# Next step applies resampling and phase correction in one step.\n",
    "# Polarisation\n",
    "s1_processing.geometric_coregistration_resampling(polarisation=polarisation, output_phase_correction=True)"
   ],
   "metadata": {
    "collapsed": false,
    "pycharm": {
     "name": "#%%\n"
    }
   }
  },
  {
   "cell_type": "markdown",
   "source": [
    "Before we create an interferogram the different bursts are first mosaicked. This can only be done after resampling as\n",
    "it is influenced by the phase ramps in TOPs mode of Sentinel-1. \n",
    "\n",
    "The independent SAR grids can now be visualized using the amplitude of the resampled data. In our case these are \n",
    "written as .tiff files for a georeferenced grid of the region. The data can be visualized using QGIS. The amplitude power\n",
    "is given in dB. "
   ],
   "metadata": {
    "collapsed": false,
    "pycharm": {
     "name": "#%% md\n"
    }
   }
  },
  {
   "cell_type": "code",
   "execution_count": null,
   "outputs": [],
   "source": [
    "# Resolution of output georeferenced grid\n",
    "dlat = 0.001\n",
    "dlon = 0.001\n",
    "\n",
    "# The actual creation of the calibrated amplitude images\n",
    "s1_processing.create_ml_coordinates(coor_type='geographic', dlat=dlat, dlon=dlon)\n",
    "s1_processing.prepare_multilooking_grid(polarisation)\n",
    "s1_processing.create_calibrated_amplitude_multilooked(polarisation)\n",
    "s1_processing.create_output_tiffs_amplitude()"
   ],
   "metadata": {
    "collapsed": false,
    "pycharm": {
     "name": "#%%\n"
    }
   }
  },
  {
   "cell_type": "markdown",
   "source": [
    "After moasicing we can create the interferogram between the different images. This image is also multilooked and \n",
    "outputted as a .tiff file. This can also be viewed in QGIS. Because the phase shift between different pixels is often \n",
    "larger than two pi radians or a wavelength (56 mm for C-band), this image will show fringes going from -pi to pi and \n",
    "starting at -pi again. \n",
    "Using the same multilooking grid also a coherence grid is created, which indicates the quality of the obtained phases."
   ],
   "metadata": {
    "collapsed": false,
    "pycharm": {
     "name": "#%% md\n"
    }
   }
  },
  {
   "cell_type": "code",
   "execution_count": null,
   "outputs": [],
   "source": [
    "s1_processing.create_ifg_network(temporal_baseline=30)\n",
    "s1_processing.create_interferogram_multilooked(polarisation)\n",
    "s1_processing.create_coherence_multilooked(polarisation)\n",
    "\n",
    "# Create output geotiffs\n",
    "s1_processing.create_output_tiffs_coherence_ifg()\n",
    "\n",
    "# Create lat/lon/incidence angle/DEM for multilooked grid.\n",
    "s1_processing.create_geometry_mulitlooked()\n",
    "s1_processing.create_output_tiffs_geometry()\n"
   ],
   "metadata": {
    "collapsed": false,
    "pycharm": {
     "name": "#%% \n"
    }
   }
  },
  {
   "cell_type": "markdown",
   "source": [
    "To go to absolute differences the data is therefore unwrapped. The result of this is given in the unwrapped geotiff."
   ],
   "metadata": {
    "collapsed": false,
    "pycharm": {
     "name": "#%% md\n"
    }
   }
  },
  {
   "cell_type": "code",
   "execution_count": null,
   "outputs": [],
   "source": [
    "# To do the unwrapping, we should add a filter step, which is not included in the package at the moment....\n",
    "# You can do the unwrapping if you change resolution of the image though.\n",
    "s1_processing.create_unwrapped_images(polarisation)\n",
    "s1_processing.create_output_tiffs_unwrap()"
   ],
   "metadata": {
    "collapsed": false,
    "pycharm": {
     "name": "#%%\n"
    }
   }
  },
  {
   "cell_type": "markdown",
   "source": [
    "This finishes the tutorial!"
   ],
   "metadata": {
    "collapsed": false,
    "pycharm": {
     "name": "#%% md\n"
    }
   }
  }
 ],
 "metadata": {
  "kernelspec": {
   "display_name": "Python 3",
   "language": "python",
   "name": "python3"
  },
  "language_info": {
   "codemirror_mode": {
    "name": "ipython",
    "version": 2
   },
   "file_extension": ".py",
   "mimetype": "text/x-python",
   "name": "python",
   "nbconvert_exporter": "python",
   "pygments_lexer": "ipython2",
   "version": "2.7.6"
  }
 },
 "nbformat": 4,
 "nbformat_minor": 0
}