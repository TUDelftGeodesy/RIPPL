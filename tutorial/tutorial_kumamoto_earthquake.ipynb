{
 "cells": [
  {
   "cell_type": "markdown",
   "metadata": {
    "collapsed": true,
    "pycharm": {
     "name": "#%% md\n"
    }
   },
   "source": [
    "In this notebook we will explain the RIPPL workflow based on a study case about the Kumamoto earthquake in \n",
    "Japan. \n",
    "\n",
    "In the first block we define the study area. There are different options to do so.\n",
    "1. Create a shapefile (this can be done using ArcGIS or QGIS software)\n",
    "2. Create a kml file using google earth > https://www.google.com/earth/\n",
    "3. Create a geojson using > http://geojson.io\n",
    "4. Create a list of coordinates in lat/lon coordinate pairs. This is what we will do here. \n",
    "\n",
    "To show the study area it is possible to run both google earth and geojson within the notebook.\n",
    "\n",
    "For further background on this event you can read:\n",
    "https://en.wikipedia.org/wiki/2016_Kumamoto_earthquakes\n",
    "\n",
    "Following image shows the earthquake strength (credits: USGS 2016):\n",
    "![Image of Kumamoto earthquake strength](https://upload.wikimedia.org/wikipedia/commons/1/14/Japan_Shakemap_15_April_2016.jpg)"
   ]
  },
  {
   "cell_type": "code",
   "execution_count": null,
   "outputs": [],
   "source": [
    "# Import script to embed geolocation.\n",
    "from IPython.display import HTML\n",
    "from rippl.orbit_geometry.read_write_shapes import ReadWriteShapes\n",
    "\n",
    "coordinates = [(32.28, 130.25), (32.28, 131.35), (33.24, 131.35), (33.24, 130.25), (32.28, 130.25)]\n",
    "study_area = ReadWriteShapes()\n",
    "study_area(coordinates)\n",
    "\n",
    "geojson = study_area.write_geo_json()\n",
    "\n",
    "# Show and embed geojson.io\n"
   ],
   "metadata": {
    "collapsed": false,
    "pycharm": {
     "name": "#%%\n"
    }
   }
  },
  {
   "cell_type": "markdown",
   "source": [
    "The next step in the processing is selection of the right track, as the Sentinel-1 satellite will cover the area on both\n",
    "ascending and descending tracks. However, to do so, we will have to define the start and end date of our data search, \n",
    "because the satellite is not always acquiring data. \n",
    "Next search will give a small oversight of the available tracks during our period of interest. In our case we will \n",
    "search one week before and one week after the earthquake.\n",
    "\n",
    "Watch out with extending the search window, this can result in a lot of images. For now, the total number of images\n",
    "in this software is limited to a 100. Also note that every downloaded file will take approximately 4GB of disk space!"
   ],
   "metadata": {
    "collapsed": false,
    "pycharm": {
     "name": "#%% md\n"
    }
   }
  },
  {
   "cell_type": "code",
   "execution_count": null,
   "outputs": [],
   "source": [
    "start_date = '2016-04-07'\n",
    "end_date = '2016-04-21'"
   ],
   "metadata": {
    "collapsed": false,
    "pycharm": {
     "name": "#%%\n"
    }
   }
  },
  {
   "cell_type": "markdown",
   "source": [
    "After selection of the right track we can start the actual download of the images. In our case we use track ... in the\n",
    "descending/ascending direction.\n",
    "\n",
    "This will download our data automatically to our radar database. Additionally, it will download the precise orbit files.\n",
    "These files are created within a few weeks after the data acquisition and define the satellite orbit within a few cm\n",
    "accuracy. These orbits are necessary to accurately define the positions of the radar pixels on the ground later on\n",
    "in the processing."
   ],
   "metadata": {
    "collapsed": false,
    "pycharm": {
     "name": "#%% md\n"
    }
   }
  },
  {
   "cell_type": "code",
   "execution_count": null,
   "outputs": [],
   "source": [
    "track = 121 \n",
    "direction = 'ascending'\n",
    "\n"
   ],
   "metadata": {
    "collapsed": false,
    "pycharm": {
     "name": "#%%\n"
    }
   }
  },
  {
   "cell_type": "markdown",
   "source": [
    "To define the location of the radar pixels on the ground we need the terrain elevation. Although it is possible to \n",
    "derive terrain elevation from InSAR data, our used Sentinel-1 dataset is not suitable for this purpose. Therefore, we\n",
    "download data from an external source to create a digital elevation model (DEM). In our case we use SRTM data. \n",
    "\n",
    "However, to find the elevation of the SAR data grid, we have to resample the data to the radar grid first to make it\n",
    "usable. This is done in the next steps. "
   ],
   "metadata": {
    "collapsed": false,
    "pycharm": {
     "name": "#%% md\n"
    }
   }
  },
  {
   "cell_type": "code",
   "execution_count": null,
   "outputs": [],
   "source": [],
   "metadata": {
    "collapsed": false,
    "pycharm": {
     "name": "#%%\n"
    }
   }
  },
  {
   "cell_type": "markdown",
   "source": [
    "Using the obtained elevation model the exact location of the radar pixels in cartesian (X,Y,Z) and geographic (Lat/Lon)\n",
    "can be derived. This is only done for the master or reference image. This process is referred to as geocoding."
   ],
   "metadata": {
    "collapsed": false,
    "pycharm": {
     "name": "#%% md\n"
    }
   }
  },
  {
   "cell_type": "code",
   "execution_count": null,
   "outputs": [],
   "source": [],
   "metadata": {
    "collapsed": false,
    "pycharm": {
     "name": "#%% \n"
    }
   }
  },
  {
   "cell_type": "markdown",
   "source": [
    "The information from the geocoding can directly be used to find the location of the master grid pixels in the slave\n",
    "grid images. This process is called coregistration. Because the orbits are not exactly the same with every satellite \n",
    "overpass but differ hundreds to a few thousand meters every overpass, the grids are slightly shifted with respect to \n",
    "each other. These shift are referred to as the spatial baseline of the images. To correctly overlay the master and slave\n",
    "images the software coregisters and resamples to the master grid.\n",
    "\n",
    "To do so the following steps are done:\n",
    "1. Coregistration of slave to master image\n",
    "2. Deramping the doppler effects due to TOPs mode of Sentinel-1 satellite\n",
    "3. Resampling of slave image\n",
    "4. Reramping resampled slave image."
   ],
   "metadata": {
    "collapsed": false,
    "pycharm": {
     "name": "#%% md\n"
    }
   }
  },
  {
   "cell_type": "code",
   "execution_count": null,
   "outputs": [],
   "source": [],
   "metadata": {
    "collapsed": false,
    "pycharm": {
     "name": "#%% \n"
    }
   }
  },
  {
   "cell_type": "markdown",
   "source": [
    "Due to the different orbits of the master and slave image, the phase of the radar signal is also shifted. We do not \n",
    "know the exact shift of the two image, but using the geometry of the two images we can estimate the shift of the phase\n",
    "between different pixels. Often this shift is split in two contributions:\n",
    "1. The flat earth phase. This phase is the shift in the case the earth was a perfect ellipsoid\n",
    "2. The topographic phase. This is the phase shift due to the topography on the ground.\n",
    "In our processing these two corrections are done in one go."
   ],
   "metadata": {
    "collapsed": false,
    "pycharm": {
     "name": "#%% md\n"
    }
   }
  },
  {
   "cell_type": "code",
   "execution_count": null,
   "outputs": [],
   "source": [],
   "metadata": {
    "collapsed": false,
    "pycharm": {
     "name": "#%%\n"
    }
   }
  },
  {
   "cell_type": "markdown",
   "source": [
    "Before we create an interferogram the different bursts are first mosaicked. This can only be done after resampling as\n",
    "it is influenced by the phase ramps in TOPs mode of Sentinel-1. \n",
    "\n",
    "The independent SAR grids can now be visualized using the amplitude of the resampled data. In our case these are \n",
    "putted as .tiff files for a georeferenced grid of the region. The data can be visualized using QGIS. The amplitude power\n",
    "is given in dB. "
   ],
   "metadata": {
    "collapsed": false,
    "pycharm": {
     "name": "#%% md\n"
    }
   }
  },
  {
   "cell_type": "code",
   "execution_count": null,
   "outputs": [],
   "source": [],
   "metadata": {
    "collapsed": false,
    "pycharm": {
     "name": "#%%\n"
    }
   }
  },
  {
   "cell_type": "markdown",
   "source": [
    "After moasicing we can create the interferogram between the different images. This image is also multilooked and \n",
    "outputted as a .tiff file. This can also be viewed in QGIS. Because the phase shift between different pixels is often \n",
    "larger than two pi radians or a wavelength (56 mm for C-band), this image will show fringes going from -pi to pi and \n",
    "starting at -pi again. \n",
    "Using the same multilooking grid also a coherence grid is created, which indicates the quality of the obtained phases.\n",
    "\n",
    "To go to absolute differences the data is therefore unwrapped. The result of this is given in the unwrapped geotiff."
   ],
   "metadata": {
    "collapsed": false,
    "pycharm": {
     "name": "#%% md\n"
    }
   }
  },
  {
   "cell_type": "code",
   "execution_count": null,
   "outputs": [],
   "source": [],
   "metadata": {
    "collapsed": false,
    "pycharm": {
     "name": "#%% \n"
    }
   }
  },
  {
   "cell_type": "markdown",
   "source": [
    "This finishes the tutorial! \n",
    "\n"
   ],
   "metadata": {
    "collapsed": false,
    "pycharm": {
     "name": "#%% md\n"
    }
   }
  }
 ],
 "metadata": {
  "kernelspec": {
   "display_name": "Python 3",
   "language": "python",
   "name": "python3"
  },
  "language_info": {
   "codemirror_mode": {
    "name": "ipython",
    "version": 2
   },
   "file_extension": ".py",
   "mimetype": "text/x-python",
   "name": "python",
   "nbconvert_exporter": "python",
   "pygments_lexer": "ipython2",
   "version": "2.7.6"
  },
  "pycharm": {
   "stem_cell": {
    "cell_type": "raw",
    "source": [],
    "metadata": {
     "collapsed": false
    }
   }
  }
 },
 "nbformat": 4,
 "nbformat_minor": 0
}